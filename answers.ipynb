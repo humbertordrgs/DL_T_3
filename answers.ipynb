{
  "nbformat": 4,
  "nbformat_minor": 0,
  "metadata": {
    "accelerator": "GPU",
    "colab": {
      "name": "Copy of Respuestas_Tarea_3_CC6204_2020",
      "provenance": [],
      "collapsed_sections": [
        "RpSLi9ng1ihL",
        "ef7bl8uxE4uB",
        "sktNybk5gJx8",
        "89fUJTfDlgXk",
        "nftKKxlBXDSx",
        "Nzp5SWKBXDSy",
        "1WNYoTIHXDS0",
        "QJTTDpeTWTwY",
        "aXOJK4zyVwk7",
        "LQywfOEMZ6nP",
        "4MdbmfvBa5TS",
        "W7NlfZVubNiF"
      ]
    },
    "kernelspec": {
      "display_name": "Python 3",
      "language": "python",
      "name": "python3"
    },
    "language_info": {
      "codemirror_mode": {
        "name": "ipython",
        "version": 3
      },
      "file_extension": ".py",
      "mimetype": "text/x-python",
      "name": "python",
      "nbconvert_exporter": "python",
      "pygments_lexer": "ipython3",
      "version": "3.6.8"
    }
  },
  "cells": [
    {
      "cell_type": "markdown",
      "metadata": {
        "id": "vEJLFL-H5axT"
      },
      "source": [
        "# Task 3: Regularization and Optimization <br/> CC6204 Deep Learning, Universidad de Chile  <br/>\n",
        "### Name: Humberto Rodrigues \n"
      ]
    },
    {
      "cell_type": "code",
      "metadata": {
        "colab": {
          "base_uri": "https://localhost:8080/"
        },
        "id": "54d9w9Y7XXmc",
        "outputId": "ab78fe01-5620-4169-9c4f-c6c2fffe2ba1"
      },
      "source": [
        "# This jupyter notebook should be executed in Colab\n",
        "import torch\n",
        "import numpy as np\n",
        "import torch.nn as nn\n",
        "import plotly.graph_objects as go\n",
        "import plotly.io as pio\n",
        "pio.renderers.default='colab'\n",
        "\n",
        "# Tool for automatic test\n",
        "!pip install -U \"git+https://github.com/dccuchile/CC6204.git@master#egg=cc6204&subdirectory=autocorrect\"\n",
        "from timeit import default_timer as timer"
      ],
      "execution_count": null,
      "outputs": [
        {
          "output_type": "stream",
          "text": [
            "Collecting cc6204\n",
            "  Cloning https://github.com/dccuchile/CC6204.git (to revision master) to /tmp/pip-install-nj80ys0k/cc6204\n",
            "  Running command git clone -q https://github.com/dccuchile/CC6204.git /tmp/pip-install-nj80ys0k/cc6204\n",
            "Requirement already satisfied, skipping upgrade: requests in /usr/local/lib/python3.6/dist-packages (from cc6204) (2.23.0)\n",
            "Requirement already satisfied, skipping upgrade: numpy in /usr/local/lib/python3.6/dist-packages (from cc6204) (1.18.5)\n",
            "Requirement already satisfied, skipping upgrade: torch in /usr/local/lib/python3.6/dist-packages (from cc6204) (1.7.0+cu101)\n",
            "Requirement already satisfied, skipping upgrade: chardet<4,>=3.0.2 in /usr/local/lib/python3.6/dist-packages (from requests->cc6204) (3.0.4)\n",
            "Requirement already satisfied, skipping upgrade: idna<3,>=2.5 in /usr/local/lib/python3.6/dist-packages (from requests->cc6204) (2.10)\n",
            "Requirement already satisfied, skipping upgrade: certifi>=2017.4.17 in /usr/local/lib/python3.6/dist-packages (from requests->cc6204) (2020.11.8)\n",
            "Requirement already satisfied, skipping upgrade: urllib3!=1.25.0,!=1.25.1,<1.26,>=1.21.1 in /usr/local/lib/python3.6/dist-packages (from requests->cc6204) (1.24.3)\n",
            "Requirement already satisfied, skipping upgrade: future in /usr/local/lib/python3.6/dist-packages (from torch->cc6204) (0.16.0)\n",
            "Requirement already satisfied, skipping upgrade: dataclasses in /usr/local/lib/python3.6/dist-packages (from torch->cc6204) (0.8)\n",
            "Requirement already satisfied, skipping upgrade: typing-extensions in /usr/local/lib/python3.6/dist-packages (from torch->cc6204) (3.7.4.3)\n",
            "Building wheels for collected packages: cc6204\n",
            "  Building wheel for cc6204 (setup.py) ... \u001b[?25l\u001b[?25hdone\n",
            "  Created wheel for cc6204: filename=cc6204-0.5.0-cp36-none-any.whl size=5801 sha256=c0392d6d5e0cfa63d063004f7de7f36403b573659b8e7194793b256d055416a8\n",
            "  Stored in directory: /tmp/pip-ephem-wheel-cache-cii9312g/wheels/62/f0/30/aadcb7ce24a2f9c935890518e902d4e23bf97b80f47bb64414\n",
            "Successfully built cc6204\n",
            "Installing collected packages: cc6204\n",
            "  Found existing installation: cc6204 0.5.0\n",
            "    Uninstalling cc6204-0.5.0:\n",
            "      Successfully uninstalled cc6204-0.5.0\n",
            "Successfully installed cc6204-0.5.0\n"
          ],
          "name": "stdout"
        }
      ]
    },
    {
      "cell_type": "code",
      "metadata": {
        "colab": {
          "base_uri": "https://localhost:8080/"
        },
        "id": "xDYIQbJuXY9U",
        "outputId": "51546485-b3ff-44aa-b1bc-4c55f279dcfd"
      },
      "source": [
        "# Importing test tools\n",
        "from cc6204 import AutoCorrect, FailedTest\n",
        "\n",
        "corrector = AutoCorrect(host=\"cc6204.dcc.uchile.cl\", port=443)\n",
        "token = \"]ye/Ox;nsz\""
      ],
      "execution_count": null,
      "outputs": [
        {
          "output_type": "stream",
          "text": [
            "Connection stablished\n"
          ],
          "name": "stdout"
        }
      ]
    },
    {
      "cell_type": "markdown",
      "metadata": {
        "id": "fg8i3agyXDSr"
      },
      "source": [
        "# Part 1: Regularization and Generalization\n",
        "\n"
      ]
    },
    {
      "cell_type": "markdown",
      "metadata": {
        "id": "NbzcMAkOXDSr"
      },
      "source": [
        "## 1a) *Weight Decay* Method\n",
        "The way decay method is commonly also called the `L2` penalization but instead of being applied to the loss function it is applied in the gradient application.\n",
        "\n",
        "It consists in a reduction of the value of each parameter before applying the gradient during the back propagation algorithm. This reduction is based on the `weight decay` parameter or `beta` how it is called in this examples. The main effect of this is that the parameters will be always triying to be smaller even if we are suffering of `vanishing gradient`. This reduction is not a light take action, because a big value for `beta` can easily nulify the application of the gradient avoiding the learning."
      ]
    },
    {
      "cell_type": "code",
      "metadata": {
        "id": "6QfQVggvNuv9"
      },
      "source": [
        "class SGD():\n",
        "  def __init__(self, parameters, lr, beta=0):\n",
        "    # Assuming the call will be done with model.parameters()\n",
        "    self.parameters = [p for p in parameters]\n",
        "    self.lr = lr\n",
        "    self.beta = beta\n",
        "  \n",
        "  def step(self):\n",
        "    for p in self.parameters:\n",
        "      if p.grad is not None:\n",
        "        p.data = ((1 - self.beta) * p.data) - (self.lr * p.grad)"
      ],
      "execution_count": null,
      "outputs": []
    },
    {
      "cell_type": "code",
      "metadata": {
        "colab": {
          "base_uri": "https://localhost:8080/"
        },
        "id": "jJMKrtjZcXDH",
        "outputId": "14c1ef6b-7a33-40f3-8caf-e8bb56816441"
      },
      "source": [
        "# Tests del API del curso\n",
        "weight, grad = corrector.get_test_data(homework=3, question=\"1a\", test=1, token=token)\n",
        "\n",
        "weight = torch.tensor(weight, requires_grad=True)\n",
        "weight.grad = torch.tensor(grad)\n",
        "\n",
        "optimizer = SGD([weight], lr=0.1, beta=0.1)\n",
        "optimizer.step()\n",
        "\n",
        "# Submit\n",
        "corrector.submit(homework=3, question=\"1a\", test=1, token=token, answer=weight)"
      ],
      "execution_count": null,
      "outputs": [
        {
          "output_type": "stream",
          "text": [
            "Correct Test!\n"
          ],
          "name": "stdout"
        }
      ]
    },
    {
      "cell_type": "markdown",
      "metadata": {
        "id": "ifPp_c1eXDSt"
      },
      "source": [
        "## 1b) Inverted Dropout method\n",
        "This is one of the most common techniques to improve models generalization. It is consist in randomly `turning off` some neurons based on a probability. The idea is to guide the model to learn more efectives and distincts ways to clasify the same data."
      ]
    },
    {
      "cell_type": "code",
      "metadata": {
        "id": "mjoWAoSwCHg8"
      },
      "source": [
        "# This is the most common approach to implement the derivative expressions\n",
        "# the gradient parameter is use to determine if should be evaluated\n",
        "# the function itself or it's corresponding derivative\n",
        "\n",
        "def tanh(T):\n",
        "  E = torch.exp(T)\n",
        "  e = torch.exp(-1 * T)\n",
        "  return (E - e) * torch.reciprocal(E + e)\n",
        "\n",
        "def tanh_dx(T):\n",
        "  return 1 - tanh(T)^2\n",
        "\n",
        "def softmax(T, dim=1, stable=True):\n",
        "  maxes = torch.max(T, dim, keepdim=True)[0] if stable else 0\n",
        "  x_exp = torch.exp(T-maxes)\n",
        "  x_exp_sum = torch.sum(x_exp, dim, keepdim=True)\n",
        "  return x_exp/x_exp_sum\n",
        "\n",
        "def CELoss(Q, P, estable=True, epsilon=1e-8):\n",
        "  if estable:\n",
        "    Q[Q < epsilon] = epsilon\n",
        "  return torch.mean(-torch.sum(P*torch.log(Q),-1))\n",
        "\n",
        "def relu(T):\n",
        "  return torch.max(T,torch.zeros(T.size(),device=T.device))\n",
        "\n",
        "def swish(T, beta=1.0):\n",
        "  return T * sig(beta * T)\n",
        "\n",
        "def celu(T, alpha=1.0):\n",
        "  zero_T = torch.zeros(T.size(),device=T.device)\n",
        "  return torch.max(T,zero_T) + torch.min(alpha * (torch.exp(T/alpha) - 1),zero_T)\n",
        "\n",
        "def sig(T, gradient=False):\n",
        "  if gradient:\n",
        "    sigT = sig(T)\n",
        "    return sigT * (1 - sigT)\n",
        "  return torch.reciprocal(1 + torch.exp(-1 * T))\n",
        "\n",
        "def relu_dx(T):\n",
        "  X = T.clone()\n",
        "  X[X >= 0] = 1\n",
        "  X[X < 0] = 0\n",
        "  return X\n",
        "\n",
        "def swish_dx(T, beta=1.0):\n",
        "  X = T.clone()\n",
        "  sig_bx = sig(beta*X)\n",
        "  return sig_bx + beta * X * sig_bx * (1 - sig_bx)\n",
        "\n",
        "\n",
        "def swish_db(T, beta=1.0):\n",
        "  X = T.clone()\n",
        "  sig_bx = sig(beta*X)\n",
        "  return  X * X * sig_bx * (1 - sig_bx)\n",
        "       \n",
        " \n",
        "def celu_dx(T, alpha=1.0):\n",
        "  X = T.clone()\n",
        "  X[X >= 0] = 0\n",
        "  x_alpha = X[X < 0] / alpha\n",
        "  X[X < 0] = torch.exp(x_alpha)\n",
        "  return X\n",
        "                      \n",
        "def celu_da(T, alpha=1.0):\n",
        "  X = T.clone()\n",
        "  X[X >= 0] = 0\n",
        "  x_alpha = X[X < 0] / alpha\n",
        "  X[X < 0] = (torch.exp(x_alpha) * (1 - x_alpha)) - 1\n",
        "  return X\n",
        "\n",
        "activation_dx = {\"relu\": relu_dx, \"celu\": celu_dx, \"swish\": swish_dx}\n",
        "activation_dp = {\"celu\": celu_da, \"swish\": swish_db}"
      ],
      "execution_count": null,
      "outputs": []
    },
    {
      "cell_type": "code",
      "metadata": {
        "id": "w4wXj3AUXDSu"
      },
      "source": [
        "class FFNN(torch.nn.Module):\n",
        "  def create_extra_parameters(self, extra):\n",
        "    if extra:\n",
        "      res = []\n",
        "      for p in extra:\n",
        "        if p:\n",
        "          res.append(nn.Parameter(torch.tensor(p)))\n",
        "        else:\n",
        "          res.append(nn.Parameter(None))\n",
        "      self.extra_params = nn.ParameterList(res)\n",
        "    else:\n",
        "      self.extra_params = None\n",
        "\n",
        "  def create_parameters(self, h_l, l_a, C, extra=None, initial_weights=None, init_method=None):\n",
        "    internal_layers = []\n",
        "    internal_biases = []\n",
        "    for i in range(0, len(h_l)-1):\n",
        "      if initial_weights:\n",
        "        # The structure with initial weights for the `lth` layer will be (W,b)\n",
        "        # We need to ensure that the dimensions of the data MATCH with the model\n",
        "        current_weights = initial_weights[i][0]\n",
        "        current_bias = initial_weights[i][1]\n",
        "        if len(current_weights) != h_l[i] or len(current_weights[0]) != h_l[i+1] or len(current_bias) != h_l[i+1]:\n",
        "          raise Exception(\"Dimension mismatch\")\n",
        "        else:\n",
        "          internal_layers.append(nn.Parameter(current_weights))\n",
        "          internal_biases.append(nn.Parameter(current_bias))\n",
        "      else:\n",
        "        \n",
        "        # if not init method is specified the 'best' one is choosen\n",
        "        # based on the activation function of the ith layer\n",
        "        if init_method is None:\n",
        "          init_method = xavier_init if l_a[i].__name__ != \"relu\" else he_init\n",
        "\n",
        "        internal_layers.append(nn.Parameter(init_method(h_l[i],h_l[i+1])))\n",
        "        internal_biases.append(nn.Parameter(torch.zeros(h_l[i+1])))\n",
        "\n",
        "    self.h_weights = nn.ParameterList(internal_layers)\n",
        "    self.biases = nn.ParameterList(internal_biases)\n",
        "    self.activation_functions = l_a[:-1]\n",
        "\n",
        "    self.create_extra_parameters(extra)\n",
        "\n",
        "    # Output Layer, bias (c), and softmax \n",
        "    # It is important to notice the use of ParameterList also for this layer\n",
        "    # This is because the nn.Parameter directly is not being reflected in the \n",
        "    # print(model) method and that is the one being used for the summary \n",
        "\n",
        "    if initial_weights:\n",
        "      # Is expected that the last position of `initial_weights` is (U,c)\n",
        "      output_weights = initial_weights[-1][0]\n",
        "      output_bias = initial_weights[-1][1]\n",
        "\n",
        "      if len(output_weights) != h_l[-1] or len(output_weights[0]) != C or len(output_bias) != C:\n",
        "          raise Exception(\"Dimension mismatch\")\n",
        "      else:\n",
        "        self.output_weights = nn.ParameterList([nn.Parameter(output_weights)])\n",
        "        self.output_bias = nn.ParameterList([nn.Parameter(output_bias)])\n",
        "    else:\n",
        "      \n",
        "      # for the last layer if there is no init method specified xavier is de default one\n",
        "      if init_method is None:\n",
        "          init_method = xavier_init\n",
        "\n",
        "      self.output_weights = nn.ParameterList([nn.Parameter(init_method(h_l[-1],C))])\n",
        "      self.output_bias = nn.ParameterList([nn.Parameter(torch.zeros(C))])\n",
        "    self.output_function = l_a[-1]\n",
        "\n",
        "  def __init__(self, F, l_h, l_a, C, extra=None, initial_weights=None, keep_prob=None, init_method=None):\n",
        "    super(FFNN, self).__init__()\n",
        "    \n",
        "    if len(l_h)+1 != len(l_a):\n",
        "      raise Exception(\"Dimension mismatch\")\n",
        "    if extra and len(extra) != len(l_a):\n",
        "      raise Exception(\"Dimension mismatch\")\n",
        "    if initial_weights and len(initial_weights) != (len(l_h) + 1):\n",
        "      print(len(initial_weights),(len(l_h) + 1))\n",
        "      raise Exception(\"Dimension mismatch\")\n",
        "    if keep_prob and len(keep_prob) != (len(l_h) + 1):\n",
        "      raise Exception(\"Dimension mismatch\")\n",
        "\n",
        "    self.create_parameters([F]+l_h,l_a,C,extra,initial_weights,init_method)\n",
        "    self.keep_prob = keep_prob\n",
        "  \n",
        "  def summary(self):\n",
        "    \n",
        "    # In this case the summary is being show using the string method defined in the class\n",
        "    # because is easy to see the details of all the internal parameters\n",
        "    # also the use of this string method is the reason of addding output weights\n",
        "    # as a paremetertList to be able to see it Listed here. \n",
        "\n",
        "    print(f\"#######MODEL SUMMARY#######\\n\")\n",
        "    print(f\"Input Layer size: {self.h_weights[0].size()[0]}\\n\")\n",
        "    print(\"Internal params detail:\")\n",
        "    print(f\"{self}\")\n",
        "    print(f\"Activation Functions{[f.__name__ for f in self.activation_functions+[self.output_function]]}\\n\")\n",
        "    print(f\"Output Layer size: {self.output_weights[0].size()[1]}\\n\")\n",
        "    print(f\"Total trainable Parameters: { sum(p.numel() for p in self.parameters() if p.requires_grad)}\")\n",
        "    print(f\"Total Parameters: { sum(p.numel() for p in self.parameters())}\\n\")\n",
        "    print(f\"########SUMMARY END########\\n\\n\")\n",
        "  \n",
        "  def generate_dropout_mask(self, input, current_keep_prob):\n",
        "\n",
        "    # Assuming that the first dimension is always the batch size\n",
        "    batch_size = input.size()[0]\n",
        "\n",
        "    # Inverted dropout mask\n",
        "    current_mask = torch.bernoulli(torch.full((batch_size,1),current_keep_prob,device=input.device)) / current_keep_prob\n",
        "    return current_mask\n",
        "  \n",
        "  def forward(self, x, predict=False, output_layer=None):\n",
        "    cache = {\"hs\":[], \"us\":[], \"ms\": [] }\n",
        "    for i in range(0, len(self.h_weights)):\n",
        "\n",
        "      # Verify if we have Dropout activated\n",
        "      if self.keep_prob and not predict:\n",
        "        current_mask = self.generate_dropout_mask(x,self.keep_prob[i])\n",
        "        x = x * current_mask\n",
        "        cache[\"ms\"].append(current_mask)\n",
        "      \n",
        "      # How we are applying the droput at the beggining of each layer\n",
        "      # We need to add 1 to the output_layer comparison\n",
        "  \n",
        "      if output_layer is not None and (i == (output_layer + 1)):     \n",
        "        return x\n",
        "\n",
        "      # Validation to retrieve the possible extra params for the i_th activation function\n",
        "      current_extras = [self.extra_params[i]] if self.extra_params and not self.extra_params[i].nelement() == 0 else []\n",
        "\n",
        "      u = x @ self.h_weights[i] + self.biases[i]\n",
        "      \n",
        "      # x = h for practical effects we are just updating the input variable\n",
        "      x = self.activation_functions[i](u,*current_extras)\n",
        "\n",
        "      cache[\"hs\"].append(x)\n",
        "      cache[\"us\"].append(u)\n",
        "    \n",
        "\n",
        "    # Verify if we have Dropout activated for the last hidden layer\n",
        "    if self.keep_prob and not predict:\n",
        "      current_mask = self.generate_dropout_mask(x,self.keep_prob[-1])\n",
        "      x = x * current_mask\n",
        "      cache[\"ms\"].append(current_mask)\n",
        "    \n",
        "    if output_layer is not None and (len(self.h_weights) == (output_layer)):   \n",
        "      return x\n",
        "\n",
        "    # Validation to retrieve the possible extra params for the output activation function\n",
        "    output_extras = [self.extra_params[-1].data] if self.extra_params and not self.extra_params[-1].nelement() == 0 else []\n",
        "\n",
        "    # y' = x * U + c\n",
        "    x = self.output_function(torch.matmul(x,self.output_weights[0]) + self.output_bias[0],*output_extras)\n",
        "    self.cache = cache\n",
        "    return x\n",
        "\n",
        "  def backward(self, x, y, y_pred):\n",
        "    b = x.size()[0]\n",
        "\n",
        "    dl_du = (1/b) * (y_pred - y)\n",
        "\n",
        "    self.output_weights[0].grad = self.cache[\"hs\"][-1].t() @ dl_du\n",
        "    self.output_bias[0].grad = torch.sum(dl_du, 0)\n",
        "\n",
        "    current_dl_dh = dl_du @ self.output_weights[-1].t()\n",
        "\n",
        "    if self.keep_prob:\n",
        "      current_dl_dh *= self.cache[\"ms\"][-1]\n",
        "\n",
        "    for i in range(len(self.h_weights)-1,-1,-1):\n",
        "      # extract extra param for activation function in layer i\n",
        "      current_extras = [self.extra_params[i].data] if self.extra_params and not self.extra_params[i].nelement() == 0 else []\n",
        "\n",
        "      # calculating dl_du^k\n",
        "      current_dl_du = current_dl_dh * activation_dx[self.activation_functions[i].__name__](self.cache[\"us\"][i],*current_extras)\n",
        "\n",
        "      # in case there is a trainable parameter we calculate it is grad\n",
        "      if current_extras:\n",
        "        \n",
        "        res = torch.mean(\n",
        "          torch.flatten(\n",
        "            (\n",
        "              current_dl_dh * activation_dp[self.activation_functions[i].__name__](self.cache[\"us\"][i],*current_extras)\n",
        "            )\n",
        "          )\n",
        "        )\n",
        "        current_extras[0].grad = res\n",
        "      # special condition to set x as the first h_i\n",
        "      h_k = self.cache[\"hs\"][i-1] if i > 0 else x\n",
        "      \n",
        "      # dl_dw^k\n",
        "      self.h_weights[i].grad = h_k.t() @ current_dl_du\n",
        "      \n",
        "      #dl_db^k\n",
        "      self.biases[i].grad =  torch.sum(current_dl_du, 0)\n",
        "\n",
        "      #dl_dh^(k-1)\n",
        "      current_dl_dh = current_dl_du @ self.h_weights[i].t()\n",
        "\n",
        "      # We use the stored dropout mask to multiply the corresponding gradient\n",
        "      if self.keep_prob:\n",
        "        current_dl_dh *= self.cache[\"ms\"][i]\n"
      ],
      "execution_count": null,
      "outputs": []
    },
    {
      "cell_type": "code",
      "metadata": {
        "colab": {
          "base_uri": "https://localhost:8080/"
        },
        "id": "cWE00gVSBu3o",
        "outputId": "c476b5ea-d751-43f9-f285-1f8c51ba995c"
      },
      "source": [
        "demo_model = FFNN(300, [50,30], [relu,relu,softmax], 10, keep_prob=[1.0, 0.5, 0.7],init_method=torch.randn)\n",
        "demo_input = torch.randn(25,300)\n",
        "demo_output = torch.randn(25,10)\n",
        "y_hat = demo_model(demo_input)\n",
        "demo_model.backward(demo_input,demo_output,y_hat)"
      ],
      "execution_count": null,
      "outputs": [
        {
          "output_type": "stream",
          "text": [
            "/usr/local/lib/python3.6/dist-packages/torch/nn/modules/container.py:434: UserWarning:\n",
            "\n",
            "Setting attributes on ParameterList is not supported.\n",
            "\n"
          ],
          "name": "stderr"
        }
      ]
    },
    {
      "cell_type": "code",
      "metadata": {
        "colab": {
          "base_uri": "https://localhost:8080/"
        },
        "id": "qrjGpVdg4xi1",
        "outputId": "2b04e57a-9f03-492e-dcb9-9a3b0c482ebc"
      },
      "source": [
        "# Tests del API del curso\n",
        "torch.manual_seed(0)\n",
        "sample = torch.rand(1, 10)\n",
        "red = FFNN(10, [1000], [sig,softmax], 1, keep_prob=[1.0, 0.5],init_method=torch.randn)\n",
        "y = red(sample, output_layer=0)\n",
        "output_mask = (y == 0)\n",
        "percent = torch.sum(output_mask).item() / list(output_mask.size())[-1]\n",
        "\n",
        "# Submit\n",
        "corrector.submit(homework=3, question=\"1b\", test=1, token=token, answer=percent)"
      ],
      "execution_count": null,
      "outputs": [
        {
          "output_type": "stream",
          "text": [
            "/usr/local/lib/python3.6/dist-packages/torch/nn/modules/container.py:434: UserWarning:\n",
            "\n",
            "Setting attributes on ParameterList is not supported.\n",
            "\n"
          ],
          "name": "stderr"
        },
        {
          "output_type": "stream",
          "text": [
            "Correct Test!\n"
          ],
          "name": "stdout"
        }
      ]
    },
    {
      "cell_type": "markdown",
      "metadata": {
        "id": "rlLnZM7hi0C2"
      },
      "source": [
        "## 1c) Testing with MNIST "
      ]
    },
    {
      "cell_type": "code",
      "metadata": {
        "colab": {
          "base_uri": "https://localhost:8080/"
        },
        "id": "7Qj1GI81izYt",
        "outputId": "0edff940-b1d5-4e77-f2cc-99c2a47f1521"
      },
      "source": [
        "from torchvision.datasets import MNIST\n",
        "from torchvision.transforms import ToTensor\n",
        "from torch.utils.data import Dataset, DataLoader\n",
        "\n",
        "\n",
        "# Downloading and storing MNIST dataset in trainable mode.\n",
        "dataset_train = MNIST('mnist', train=True, transform=ToTensor(), download=True)\n",
        "dataset_test = MNIST('mnist', train=False, transform=ToTensor(), download=True)\n",
        "print(f'Total data train: {len(dataset_train)} test: {len(dataset_test)}',)"
      ],
      "execution_count": null,
      "outputs": [
        {
          "output_type": "stream",
          "text": [
            "Total data train: 60000 test: 10000\n"
          ],
          "name": "stdout"
        }
      ]
    },
    {
      "cell_type": "code",
      "metadata": {
        "id": "jrAWPATpn0HK"
      },
      "source": [
        "def plot_results(loss_data, acc_data):\n",
        "  loss_fig = go.Figure()\n",
        "  for result in loss_data:\n",
        "    x_axis = result[\"x\"]\n",
        "    y_axis = result[\"y\"]\n",
        "    loss_fig.add_scatter(\n",
        "        x=x_axis,\n",
        "        y=y_axis,\n",
        "        mode=\"lines+markers\", \n",
        "        textposition=\"bottom center\",\n",
        "        name=result[\"name\"]\n",
        "    )\n",
        "  loss_fig.update_layout(\n",
        "      autosize=False,\n",
        "      width=700,\n",
        "      height=450,\n",
        "      title=\"Loss Chart\",\n",
        "      xaxis_title=\"Epochs\",\n",
        "      yaxis_title=\"Loss\",\n",
        "      font=dict(\n",
        "          family=\"Courier New, monospace\",\n",
        "          size=14,\n",
        "          color=\"#7f7f7f\"\n",
        "      )\n",
        "  )\n",
        "  loss_fig.show()\n",
        "  print(\"\\n\")\n",
        "  acc_fig = go.Figure()\n",
        "  for result in acc_data:\n",
        "    x_axis = result[\"x\"]\n",
        "    y_axis = result[\"y\"]\n",
        "    acc_fig.add_scatter( \n",
        "        x=x_axis,\n",
        "        y=y_axis,\n",
        "        mode=\"lines+markers\", \n",
        "        textposition=\"bottom center\",\n",
        "        name=result[\"name\"]\n",
        "    )\n",
        "  acc_fig.update_layout(\n",
        "      autosize=False,\n",
        "      width=700,\n",
        "      height=450,\n",
        "      title=\"Accuracy Chart\",\n",
        "      xaxis_title=\"Epochs\",\n",
        "      yaxis_title=\"Acc\",\n",
        "      font=dict(\n",
        "          family=\"Courier New, monospace\",\n",
        "          size=14,\n",
        "          color=\"#7f7f7f\"\n",
        "      )\n",
        "  )\n",
        "  acc_fig.show()\n",
        "\n",
        "def custom_collate(batch):\n",
        "  x_data = [x[0].view(28*28) for x in batch ]\n",
        "\n",
        "  y_data = []\n",
        "\n",
        "  for t in batch:\n",
        "    ct = torch.zeros(10)\n",
        "    ct[t[1]] = 1\n",
        "    y_data.append(ct)\n",
        "  return torch.stack(x_data),torch.stack(y_data)"
      ],
      "execution_count": null,
      "outputs": []
    },
    {
      "cell_type": "code",
      "metadata": {
        "id": "x3Np44HXoV6Q"
      },
      "source": [
        "def train(network, dataset, optimizer, epochs=1, batch_size=1, device='cuda', collate=None):\n",
        "  network.to(device)\n",
        "  data = DataLoader(dataset,batch_size=batch_size,shuffle=True,collate_fn=collate)\n",
        "  loss, acc = [], []\n",
        "  for e in range(1,epochs+1):\n",
        "    acc_c = 0\n",
        "    loss_c = 0\n",
        "    for x, y in data:\n",
        "      x, y = x.to(device).float(), y.to(device)\n",
        "      y_pred = network(x)\n",
        "      loss_c += CELoss(y_pred,y).item()\n",
        "      acc_c += torch.sum((torch.argmax(y_pred, 1) == torch.argmax(y,1))).item()\n",
        "      network.backward(x,y,y_pred)\n",
        "      optimizer.step()\n",
        "    \n",
        "    print(f\"Epoch: {e} | Acc: {acc_c/len(dataset)*100:.2f}% | loss: {loss_c/len(dataset)*batch_size:.3f}\")\n",
        "    acc.append(acc_c/len(dataset))\n",
        "    loss.append(loss_c/len(dataset)*batch_size)\n",
        "  return loss, acc"
      ],
      "execution_count": null,
      "outputs": []
    },
    {
      "cell_type": "code",
      "metadata": {
        "id": "1Id1V9uj989t"
      },
      "source": [
        "def test(network, dataset, batch_size=1, device='cuda', collate=None):\n",
        "  network.to(device)\n",
        "  data = DataLoader(dataset,batch_size=batch_size,shuffle=True,collate_fn=collate)\n",
        "  acc_c = 0\n",
        "  loss_c = 0\n",
        "  for x, y in data:\n",
        "    x, y = x.to(device).float(), y.to(device)\n",
        "    y_pred = network(x,predict=True)\n",
        "    loss_c += CELoss(y_pred,y).item()\n",
        "    acc_c += torch.sum((torch.argmax(y_pred, 1) == torch.argmax(y,1))).item()\n",
        "  print(f\"\\nTest Results: Acc: {acc_c/len(dataset)*100:.2f}% | loss: {loss_c/len(dataset)*batch_size:.3f}\")\n",
        "  return loss_c/len(dataset)*batch_size, acc_c/len(dataset)"
      ],
      "execution_count": null,
      "outputs": []
    },
    {
      "cell_type": "markdown",
      "metadata": {
        "id": "dp2mveqDDoYS"
      },
      "source": [
        "Since now we will be using the same network structure for all our tests. This is a powerful architecture capable of achieve 70+ accuracy in this specific dataset. Over it we will start adding some regularization techniques and we will analyze how the results change in base of our metrics and the training time\n",
        "\n",
        "The structure we will be using as base will be:\n",
        "\n",
        "```python\n",
        "FFNN(784,[512,1024,128],[relu,celu,swish, softmax],10,init_method=torch.randn)\n",
        "```"
      ]
    },
    {
      "cell_type": "markdown",
      "metadata": {
        "id": "RpSLi9ng1ihL"
      },
      "source": [
        "### Baseline model"
      ]
    },
    {
      "cell_type": "code",
      "metadata": {
        "colab": {
          "base_uri": "https://localhost:8080/"
        },
        "id": "5W9rf6sjBtio",
        "outputId": "db457ccc-f059-4071-fe50-e816cfed6630"
      },
      "source": [
        "# Base model structure training and test\n",
        "model = FFNN(784,[512,1024,128],[relu,celu,swish, softmax],10,init_method=torch.randn)\n",
        "model.to(\"cuda\")\n",
        "optimizer = SGD(model.parameters(), lr=1e-5)\n",
        "\n",
        "with torch.no_grad():\n",
        "  loss, acc = train(model, dataset_train, optimizer,epochs=20,batch_size=200,collate=custom_collate)\n",
        "  test_loss, test_acc = test(model,dataset_test,batch_size=200,collate=custom_collate)\n",
        "\n",
        "  # Formatting results to plot\n",
        "  loss_data = {\n",
        "      \"x\": [x+1 for x in range(20)],\n",
        "      \"y\": loss,\n",
        "      \"name\": \"Baseline model Loss\"\n",
        "  }\n",
        "\n",
        "  acc_data = {\n",
        "      \"x\": [x+1 for x in range(20)],\n",
        "      \"y\": acc,\n",
        "      \"name\": \"Baseline model Acc\"\n",
        "  }\n",
        "  "
      ],
      "execution_count": null,
      "outputs": [
        {
          "output_type": "stream",
          "text": [
            "/usr/local/lib/python3.6/dist-packages/torch/nn/modules/container.py:434: UserWarning:\n",
            "\n",
            "Setting attributes on ParameterList is not supported.\n",
            "\n"
          ],
          "name": "stderr"
        },
        {
          "output_type": "stream",
          "text": [
            "Epoch: 1 | Acc: 23.08% | loss: 14.166\n",
            "Epoch: 2 | Acc: 46.30% | loss: 9.883\n",
            "Epoch: 3 | Acc: 56.75% | loss: 7.960\n",
            "Epoch: 4 | Acc: 62.29% | loss: 6.941\n",
            "Epoch: 5 | Acc: 65.95% | loss: 6.266\n",
            "Epoch: 6 | Acc: 68.55% | loss: 5.787\n",
            "Epoch: 7 | Acc: 70.38% | loss: 5.450\n",
            "Epoch: 8 | Acc: 71.89% | loss: 5.173\n",
            "Epoch: 9 | Acc: 73.16% | loss: 4.941\n",
            "Epoch: 10 | Acc: 74.12% | loss: 4.762\n",
            "Epoch: 11 | Acc: 74.97% | loss: 4.606\n",
            "Epoch: 12 | Acc: 75.68% | loss: 4.474\n",
            "Epoch: 13 | Acc: 76.32% | loss: 4.359\n",
            "Epoch: 14 | Acc: 76.84% | loss: 4.260\n",
            "Epoch: 15 | Acc: 77.42% | loss: 4.154\n",
            "Epoch: 16 | Acc: 77.81% | loss: 4.081\n",
            "Epoch: 17 | Acc: 78.23% | loss: 4.004\n",
            "Epoch: 18 | Acc: 78.61% | loss: 3.935\n",
            "Epoch: 19 | Acc: 78.85% | loss: 3.891\n",
            "Epoch: 20 | Acc: 79.20% | loss: 3.825\n",
            "\n",
            "Test Results: Acc: 79.49% | loss: 3.773\n"
          ],
          "name": "stdout"
        }
      ]
    },
    {
      "cell_type": "code",
      "metadata": {
        "colab": {
          "base_uri": "https://localhost:8080/"
        },
        "id": "boftccUZB3e7",
        "outputId": "1ef01abf-9eee-40fc-fa75-38c9c17a8c7c"
      },
      "source": [
        "# Baseline model test vs train metrics\n",
        "print(f\"Difference between best train loss and test loss: {abs(np.min(loss)-test_loss):.3f}\")\n",
        "print(f\"Difference between best train acc and test acc: {abs(np.max(acc)-test_acc)*100:.3f}%\\n\") \n",
        "plot_results([loss_data],[acc_data])"
      ],
      "execution_count": null,
      "outputs": [
        {
          "output_type": "stream",
          "text": [
            "Difference between best train loss and test loss: 0.052\n",
            "Difference between best train acc and test acc: 0.293%\n",
            "\n"
          ],
          "name": "stdout"
        },
        {
          "output_type": "display_data",
          "data": {
            "text/html": [
              "<html>\n",
              "<head><meta charset=\"utf-8\" /></head>\n",
              "<body>\n",
              "    <div>\n",
              "            <script src=\"https://cdnjs.cloudflare.com/ajax/libs/mathjax/2.7.5/MathJax.js?config=TeX-AMS-MML_SVG\"></script><script type=\"text/javascript\">if (window.MathJax) {MathJax.Hub.Config({SVG: {font: \"STIX-Web\"}});}</script>\n",
              "                <script type=\"text/javascript\">window.PlotlyConfig = {MathJaxConfig: 'local'};</script>\n",
              "        <script src=\"https://cdn.plot.ly/plotly-latest.min.js\"></script>    \n",
              "            <div id=\"c961a979-2094-4d16-8b7e-a5eacc072eba\" class=\"plotly-graph-div\" style=\"height:450px; width:700px;\"></div>\n",
              "            <script type=\"text/javascript\">\n",
              "                \n",
              "                    window.PLOTLYENV=window.PLOTLYENV || {};\n",
              "                    \n",
              "                if (document.getElementById(\"c961a979-2094-4d16-8b7e-a5eacc072eba\")) {\n",
              "                    Plotly.newPlot(\n",
              "                        'c961a979-2094-4d16-8b7e-a5eacc072eba',\n",
              "                        [{\"mode\": \"lines+markers\", \"name\": \"Baseline model Loss\", \"textposition\": \"bottom center\", \"type\": \"scatter\", \"x\": [1, 2, 3, 4, 5, 6, 7, 8, 9, 10, 11, 12, 13, 14, 15, 16, 17, 18, 19, 20], \"y\": [14.165933825174967, 9.883438789049784, 7.959840833346049, 6.9410996246337895, 6.265928970972697, 5.78724890311559, 5.450118476549784, 5.173041247526804, 4.940788439909618, 4.76164628426234, 4.6057784970601405, 4.473824242750803, 4.359064959685008, 4.260275382995606, 4.154058440526327, 4.0814682126045225, 4.004477377732594, 3.9346063677469885, 3.8906279174486795, 3.8254921889305114]}],\n",
              "                        {\"autosize\": false, \"font\": {\"color\": \"#7f7f7f\", \"family\": \"Courier New, monospace\", \"size\": 14}, \"height\": 450, \"template\": {\"data\": {\"bar\": [{\"error_x\": {\"color\": \"#2a3f5f\"}, \"error_y\": {\"color\": \"#2a3f5f\"}, \"marker\": {\"line\": {\"color\": \"#E5ECF6\", \"width\": 0.5}}, \"type\": \"bar\"}], \"barpolar\": [{\"marker\": {\"line\": {\"color\": \"#E5ECF6\", \"width\": 0.5}}, \"type\": \"barpolar\"}], \"carpet\": [{\"aaxis\": {\"endlinecolor\": \"#2a3f5f\", \"gridcolor\": \"white\", \"linecolor\": \"white\", \"minorgridcolor\": \"white\", \"startlinecolor\": \"#2a3f5f\"}, \"baxis\": {\"endlinecolor\": \"#2a3f5f\", \"gridcolor\": \"white\", \"linecolor\": \"white\", \"minorgridcolor\": \"white\", \"startlinecolor\": \"#2a3f5f\"}, \"type\": \"carpet\"}], \"choropleth\": [{\"colorbar\": {\"outlinewidth\": 0, \"ticks\": \"\"}, \"type\": \"choropleth\"}], \"contour\": [{\"colorbar\": {\"outlinewidth\": 0, \"ticks\": \"\"}, \"colorscale\": [[0.0, \"#0d0887\"], [0.1111111111111111, \"#46039f\"], [0.2222222222222222, \"#7201a8\"], [0.3333333333333333, \"#9c179e\"], [0.4444444444444444, \"#bd3786\"], [0.5555555555555556, \"#d8576b\"], [0.6666666666666666, \"#ed7953\"], [0.7777777777777778, \"#fb9f3a\"], [0.8888888888888888, \"#fdca26\"], [1.0, \"#f0f921\"]], \"type\": \"contour\"}], \"contourcarpet\": [{\"colorbar\": {\"outlinewidth\": 0, \"ticks\": \"\"}, \"type\": \"contourcarpet\"}], \"heatmap\": [{\"colorbar\": {\"outlinewidth\": 0, \"ticks\": \"\"}, \"colorscale\": [[0.0, \"#0d0887\"], [0.1111111111111111, \"#46039f\"], [0.2222222222222222, \"#7201a8\"], [0.3333333333333333, \"#9c179e\"], [0.4444444444444444, \"#bd3786\"], [0.5555555555555556, \"#d8576b\"], [0.6666666666666666, \"#ed7953\"], [0.7777777777777778, \"#fb9f3a\"], [0.8888888888888888, \"#fdca26\"], [1.0, \"#f0f921\"]], \"type\": \"heatmap\"}], \"heatmapgl\": [{\"colorbar\": {\"outlinewidth\": 0, \"ticks\": \"\"}, \"colorscale\": [[0.0, \"#0d0887\"], [0.1111111111111111, \"#46039f\"], [0.2222222222222222, \"#7201a8\"], [0.3333333333333333, \"#9c179e\"], [0.4444444444444444, \"#bd3786\"], [0.5555555555555556, \"#d8576b\"], [0.6666666666666666, \"#ed7953\"], [0.7777777777777778, \"#fb9f3a\"], [0.8888888888888888, \"#fdca26\"], [1.0, \"#f0f921\"]], \"type\": \"heatmapgl\"}], \"histogram\": [{\"marker\": {\"colorbar\": {\"outlinewidth\": 0, \"ticks\": \"\"}}, \"type\": \"histogram\"}], \"histogram2d\": [{\"colorbar\": {\"outlinewidth\": 0, \"ticks\": \"\"}, \"colorscale\": [[0.0, \"#0d0887\"], [0.1111111111111111, \"#46039f\"], [0.2222222222222222, \"#7201a8\"], [0.3333333333333333, \"#9c179e\"], [0.4444444444444444, \"#bd3786\"], [0.5555555555555556, \"#d8576b\"], [0.6666666666666666, \"#ed7953\"], [0.7777777777777778, \"#fb9f3a\"], [0.8888888888888888, \"#fdca26\"], [1.0, \"#f0f921\"]], \"type\": \"histogram2d\"}], \"histogram2dcontour\": [{\"colorbar\": {\"outlinewidth\": 0, \"ticks\": \"\"}, \"colorscale\": [[0.0, \"#0d0887\"], [0.1111111111111111, \"#46039f\"], [0.2222222222222222, \"#7201a8\"], [0.3333333333333333, \"#9c179e\"], [0.4444444444444444, \"#bd3786\"], [0.5555555555555556, \"#d8576b\"], [0.6666666666666666, \"#ed7953\"], [0.7777777777777778, \"#fb9f3a\"], [0.8888888888888888, \"#fdca26\"], [1.0, \"#f0f921\"]], \"type\": \"histogram2dcontour\"}], \"mesh3d\": [{\"colorbar\": {\"outlinewidth\": 0, \"ticks\": \"\"}, \"type\": \"mesh3d\"}], \"parcoords\": [{\"line\": {\"colorbar\": {\"outlinewidth\": 0, \"ticks\": \"\"}}, \"type\": \"parcoords\"}], \"pie\": [{\"automargin\": true, \"type\": \"pie\"}], \"scatter\": [{\"marker\": {\"colorbar\": {\"outlinewidth\": 0, \"ticks\": \"\"}}, \"type\": \"scatter\"}], \"scatter3d\": [{\"line\": {\"colorbar\": {\"outlinewidth\": 0, \"ticks\": \"\"}}, \"marker\": {\"colorbar\": {\"outlinewidth\": 0, \"ticks\": \"\"}}, \"type\": \"scatter3d\"}], \"scattercarpet\": [{\"marker\": {\"colorbar\": {\"outlinewidth\": 0, \"ticks\": \"\"}}, \"type\": \"scattercarpet\"}], \"scattergeo\": [{\"marker\": {\"colorbar\": {\"outlinewidth\": 0, \"ticks\": \"\"}}, \"type\": \"scattergeo\"}], \"scattergl\": [{\"marker\": {\"colorbar\": {\"outlinewidth\": 0, \"ticks\": \"\"}}, \"type\": \"scattergl\"}], \"scattermapbox\": [{\"marker\": {\"colorbar\": {\"outlinewidth\": 0, \"ticks\": \"\"}}, \"type\": \"scattermapbox\"}], \"scatterpolar\": [{\"marker\": {\"colorbar\": {\"outlinewidth\": 0, \"ticks\": \"\"}}, \"type\": \"scatterpolar\"}], \"scatterpolargl\": [{\"marker\": {\"colorbar\": {\"outlinewidth\": 0, \"ticks\": \"\"}}, \"type\": \"scatterpolargl\"}], \"scatterternary\": [{\"marker\": {\"colorbar\": {\"outlinewidth\": 0, \"ticks\": \"\"}}, \"type\": \"scatterternary\"}], \"surface\": [{\"colorbar\": {\"outlinewidth\": 0, \"ticks\": \"\"}, \"colorscale\": [[0.0, \"#0d0887\"], [0.1111111111111111, \"#46039f\"], [0.2222222222222222, \"#7201a8\"], [0.3333333333333333, \"#9c179e\"], [0.4444444444444444, \"#bd3786\"], [0.5555555555555556, \"#d8576b\"], [0.6666666666666666, \"#ed7953\"], [0.7777777777777778, \"#fb9f3a\"], [0.8888888888888888, \"#fdca26\"], [1.0, \"#f0f921\"]], \"type\": \"surface\"}], \"table\": [{\"cells\": {\"fill\": {\"color\": \"#EBF0F8\"}, \"line\": {\"color\": \"white\"}}, \"header\": {\"fill\": {\"color\": \"#C8D4E3\"}, \"line\": {\"color\": \"white\"}}, \"type\": \"table\"}]}, \"layout\": {\"annotationdefaults\": {\"arrowcolor\": \"#2a3f5f\", \"arrowhead\": 0, \"arrowwidth\": 1}, \"coloraxis\": {\"colorbar\": {\"outlinewidth\": 0, \"ticks\": \"\"}}, \"colorscale\": {\"diverging\": [[0, \"#8e0152\"], [0.1, \"#c51b7d\"], [0.2, \"#de77ae\"], [0.3, \"#f1b6da\"], [0.4, \"#fde0ef\"], [0.5, \"#f7f7f7\"], [0.6, \"#e6f5d0\"], [0.7, \"#b8e186\"], [0.8, \"#7fbc41\"], [0.9, \"#4d9221\"], [1, \"#276419\"]], \"sequential\": [[0.0, \"#0d0887\"], [0.1111111111111111, \"#46039f\"], [0.2222222222222222, \"#7201a8\"], [0.3333333333333333, \"#9c179e\"], [0.4444444444444444, \"#bd3786\"], [0.5555555555555556, \"#d8576b\"], [0.6666666666666666, \"#ed7953\"], [0.7777777777777778, \"#fb9f3a\"], [0.8888888888888888, \"#fdca26\"], [1.0, \"#f0f921\"]], \"sequentialminus\": [[0.0, \"#0d0887\"], [0.1111111111111111, \"#46039f\"], [0.2222222222222222, \"#7201a8\"], [0.3333333333333333, \"#9c179e\"], [0.4444444444444444, \"#bd3786\"], [0.5555555555555556, \"#d8576b\"], [0.6666666666666666, \"#ed7953\"], [0.7777777777777778, \"#fb9f3a\"], [0.8888888888888888, \"#fdca26\"], [1.0, \"#f0f921\"]]}, \"colorway\": [\"#636efa\", \"#EF553B\", \"#00cc96\", \"#ab63fa\", \"#FFA15A\", \"#19d3f3\", \"#FF6692\", \"#B6E880\", \"#FF97FF\", \"#FECB52\"], \"font\": {\"color\": \"#2a3f5f\"}, \"geo\": {\"bgcolor\": \"white\", \"lakecolor\": \"white\", \"landcolor\": \"#E5ECF6\", \"showlakes\": true, \"showland\": true, \"subunitcolor\": \"white\"}, \"hoverlabel\": {\"align\": \"left\"}, \"hovermode\": \"closest\", \"mapbox\": {\"style\": \"light\"}, \"paper_bgcolor\": \"white\", \"plot_bgcolor\": \"#E5ECF6\", \"polar\": {\"angularaxis\": {\"gridcolor\": \"white\", \"linecolor\": \"white\", \"ticks\": \"\"}, \"bgcolor\": \"#E5ECF6\", \"radialaxis\": {\"gridcolor\": \"white\", \"linecolor\": \"white\", \"ticks\": \"\"}}, \"scene\": {\"xaxis\": {\"backgroundcolor\": \"#E5ECF6\", \"gridcolor\": \"white\", \"gridwidth\": 2, \"linecolor\": \"white\", \"showbackground\": true, \"ticks\": \"\", \"zerolinecolor\": \"white\"}, \"yaxis\": {\"backgroundcolor\": \"#E5ECF6\", \"gridcolor\": \"white\", \"gridwidth\": 2, \"linecolor\": \"white\", \"showbackground\": true, \"ticks\": \"\", \"zerolinecolor\": \"white\"}, \"zaxis\": {\"backgroundcolor\": \"#E5ECF6\", \"gridcolor\": \"white\", \"gridwidth\": 2, \"linecolor\": \"white\", \"showbackground\": true, \"ticks\": \"\", \"zerolinecolor\": \"white\"}}, \"shapedefaults\": {\"line\": {\"color\": \"#2a3f5f\"}}, \"ternary\": {\"aaxis\": {\"gridcolor\": \"white\", \"linecolor\": \"white\", \"ticks\": \"\"}, \"baxis\": {\"gridcolor\": \"white\", \"linecolor\": \"white\", \"ticks\": \"\"}, \"bgcolor\": \"#E5ECF6\", \"caxis\": {\"gridcolor\": \"white\", \"linecolor\": \"white\", \"ticks\": \"\"}}, \"title\": {\"x\": 0.05}, \"xaxis\": {\"automargin\": true, \"gridcolor\": \"white\", \"linecolor\": \"white\", \"ticks\": \"\", \"title\": {\"standoff\": 15}, \"zerolinecolor\": \"white\", \"zerolinewidth\": 2}, \"yaxis\": {\"automargin\": true, \"gridcolor\": \"white\", \"linecolor\": \"white\", \"ticks\": \"\", \"title\": {\"standoff\": 15}, \"zerolinecolor\": \"white\", \"zerolinewidth\": 2}}}, \"title\": {\"text\": \"Loss Chart\"}, \"width\": 700, \"xaxis\": {\"title\": {\"text\": \"Epochs\"}}, \"yaxis\": {\"title\": {\"text\": \"Loss\"}}},\n",
              "                        {\"responsive\": true}\n",
              "                    ).then(function(){\n",
              "                            \n",
              "var gd = document.getElementById('c961a979-2094-4d16-8b7e-a5eacc072eba');\n",
              "var x = new MutationObserver(function (mutations, observer) {{\n",
              "        var display = window.getComputedStyle(gd).display;\n",
              "        if (!display || display === 'none') {{\n",
              "            console.log([gd, 'removed!']);\n",
              "            Plotly.purge(gd);\n",
              "            observer.disconnect();\n",
              "        }}\n",
              "}});\n",
              "\n",
              "// Listen for the removal of the full notebook cells\n",
              "var notebookContainer = gd.closest('#notebook-container');\n",
              "if (notebookContainer) {{\n",
              "    x.observe(notebookContainer, {childList: true});\n",
              "}}\n",
              "\n",
              "// Listen for the clearing of the current output cell\n",
              "var outputEl = gd.closest('.output');\n",
              "if (outputEl) {{\n",
              "    x.observe(outputEl, {childList: true});\n",
              "}}\n",
              "\n",
              "                        })\n",
              "                };\n",
              "                \n",
              "            </script>\n",
              "        </div>\n",
              "</body>\n",
              "</html>"
            ]
          },
          "metadata": {
            "tags": []
          }
        },
        {
          "output_type": "stream",
          "text": [
            "\n",
            "\n"
          ],
          "name": "stdout"
        },
        {
          "output_type": "display_data",
          "data": {
            "text/html": [
              "<html>\n",
              "<head><meta charset=\"utf-8\" /></head>\n",
              "<body>\n",
              "    <div>\n",
              "            <script src=\"https://cdnjs.cloudflare.com/ajax/libs/mathjax/2.7.5/MathJax.js?config=TeX-AMS-MML_SVG\"></script><script type=\"text/javascript\">if (window.MathJax) {MathJax.Hub.Config({SVG: {font: \"STIX-Web\"}});}</script>\n",
              "                <script type=\"text/javascript\">window.PlotlyConfig = {MathJaxConfig: 'local'};</script>\n",
              "        <script src=\"https://cdn.plot.ly/plotly-latest.min.js\"></script>    \n",
              "            <div id=\"a2972f96-8f94-4477-9ad0-bb26a8f8ba67\" class=\"plotly-graph-div\" style=\"height:450px; width:700px;\"></div>\n",
              "            <script type=\"text/javascript\">\n",
              "                \n",
              "                    window.PLOTLYENV=window.PLOTLYENV || {};\n",
              "                    \n",
              "                if (document.getElementById(\"a2972f96-8f94-4477-9ad0-bb26a8f8ba67\")) {\n",
              "                    Plotly.newPlot(\n",
              "                        'a2972f96-8f94-4477-9ad0-bb26a8f8ba67',\n",
              "                        [{\"mode\": \"lines+markers\", \"name\": \"Baseline model Acc\", \"textposition\": \"bottom center\", \"type\": \"scatter\", \"x\": [1, 2, 3, 4, 5, 6, 7, 8, 9, 10, 11, 12, 13, 14, 15, 16, 17, 18, 19, 20], \"y\": [0.23081666666666667, 0.46305, 0.5675166666666667, 0.6228666666666667, 0.6595333333333333, 0.6854833333333333, 0.7037833333333333, 0.7188666666666667, 0.73155, 0.7412166666666666, 0.7497333333333334, 0.7568, 0.7631666666666667, 0.7683666666666666, 0.7742166666666667, 0.7780833333333333, 0.7823, 0.78605, 0.7885, 0.7919666666666667]}],\n",
              "                        {\"autosize\": false, \"font\": {\"color\": \"#7f7f7f\", \"family\": \"Courier New, monospace\", \"size\": 14}, \"height\": 450, \"template\": {\"data\": {\"bar\": [{\"error_x\": {\"color\": \"#2a3f5f\"}, \"error_y\": {\"color\": \"#2a3f5f\"}, \"marker\": {\"line\": {\"color\": \"#E5ECF6\", \"width\": 0.5}}, \"type\": \"bar\"}], \"barpolar\": [{\"marker\": {\"line\": {\"color\": \"#E5ECF6\", \"width\": 0.5}}, \"type\": \"barpolar\"}], \"carpet\": [{\"aaxis\": {\"endlinecolor\": \"#2a3f5f\", \"gridcolor\": \"white\", \"linecolor\": \"white\", \"minorgridcolor\": \"white\", \"startlinecolor\": \"#2a3f5f\"}, \"baxis\": {\"endlinecolor\": \"#2a3f5f\", \"gridcolor\": \"white\", \"linecolor\": \"white\", \"minorgridcolor\": \"white\", \"startlinecolor\": \"#2a3f5f\"}, \"type\": \"carpet\"}], \"choropleth\": [{\"colorbar\": {\"outlinewidth\": 0, \"ticks\": \"\"}, \"type\": \"choropleth\"}], \"contour\": [{\"colorbar\": {\"outlinewidth\": 0, \"ticks\": \"\"}, \"colorscale\": [[0.0, \"#0d0887\"], [0.1111111111111111, \"#46039f\"], [0.2222222222222222, \"#7201a8\"], [0.3333333333333333, \"#9c179e\"], [0.4444444444444444, \"#bd3786\"], [0.5555555555555556, \"#d8576b\"], [0.6666666666666666, \"#ed7953\"], [0.7777777777777778, \"#fb9f3a\"], [0.8888888888888888, \"#fdca26\"], [1.0, \"#f0f921\"]], \"type\": \"contour\"}], \"contourcarpet\": [{\"colorbar\": {\"outlinewidth\": 0, \"ticks\": \"\"}, \"type\": \"contourcarpet\"}], \"heatmap\": [{\"colorbar\": {\"outlinewidth\": 0, \"ticks\": \"\"}, \"colorscale\": [[0.0, \"#0d0887\"], [0.1111111111111111, \"#46039f\"], [0.2222222222222222, \"#7201a8\"], [0.3333333333333333, \"#9c179e\"], [0.4444444444444444, \"#bd3786\"], [0.5555555555555556, \"#d8576b\"], [0.6666666666666666, \"#ed7953\"], [0.7777777777777778, \"#fb9f3a\"], [0.8888888888888888, \"#fdca26\"], [1.0, \"#f0f921\"]], \"type\": \"heatmap\"}], \"heatmapgl\": [{\"colorbar\": {\"outlinewidth\": 0, \"ticks\": \"\"}, \"colorscale\": [[0.0, \"#0d0887\"], [0.1111111111111111, \"#46039f\"], [0.2222222222222222, \"#7201a8\"], [0.3333333333333333, \"#9c179e\"], [0.4444444444444444, \"#bd3786\"], [0.5555555555555556, \"#d8576b\"], [0.6666666666666666, \"#ed7953\"], [0.7777777777777778, \"#fb9f3a\"], [0.8888888888888888, \"#fdca26\"], [1.0, \"#f0f921\"]], \"type\": \"heatmapgl\"}], \"histogram\": [{\"marker\": {\"colorbar\": {\"outlinewidth\": 0, \"ticks\": \"\"}}, \"type\": \"histogram\"}], \"histogram2d\": [{\"colorbar\": {\"outlinewidth\": 0, \"ticks\": \"\"}, \"colorscale\": [[0.0, \"#0d0887\"], [0.1111111111111111, \"#46039f\"], [0.2222222222222222, \"#7201a8\"], [0.3333333333333333, \"#9c179e\"], [0.4444444444444444, \"#bd3786\"], [0.5555555555555556, \"#d8576b\"], [0.6666666666666666, \"#ed7953\"], [0.7777777777777778, \"#fb9f3a\"], [0.8888888888888888, \"#fdca26\"], [1.0, \"#f0f921\"]], \"type\": \"histogram2d\"}], \"histogram2dcontour\": [{\"colorbar\": {\"outlinewidth\": 0, \"ticks\": \"\"}, \"colorscale\": [[0.0, \"#0d0887\"], [0.1111111111111111, \"#46039f\"], [0.2222222222222222, \"#7201a8\"], [0.3333333333333333, \"#9c179e\"], [0.4444444444444444, \"#bd3786\"], [0.5555555555555556, \"#d8576b\"], [0.6666666666666666, \"#ed7953\"], [0.7777777777777778, \"#fb9f3a\"], [0.8888888888888888, \"#fdca26\"], [1.0, \"#f0f921\"]], \"type\": \"histogram2dcontour\"}], \"mesh3d\": [{\"colorbar\": {\"outlinewidth\": 0, \"ticks\": \"\"}, \"type\": \"mesh3d\"}], \"parcoords\": [{\"line\": {\"colorbar\": {\"outlinewidth\": 0, \"ticks\": \"\"}}, \"type\": \"parcoords\"}], \"pie\": [{\"automargin\": true, \"type\": \"pie\"}], \"scatter\": [{\"marker\": {\"colorbar\": {\"outlinewidth\": 0, \"ticks\": \"\"}}, \"type\": \"scatter\"}], \"scatter3d\": [{\"line\": {\"colorbar\": {\"outlinewidth\": 0, \"ticks\": \"\"}}, \"marker\": {\"colorbar\": {\"outlinewidth\": 0, \"ticks\": \"\"}}, \"type\": \"scatter3d\"}], \"scattercarpet\": [{\"marker\": {\"colorbar\": {\"outlinewidth\": 0, \"ticks\": \"\"}}, \"type\": \"scattercarpet\"}], \"scattergeo\": [{\"marker\": {\"colorbar\": {\"outlinewidth\": 0, \"ticks\": \"\"}}, \"type\": \"scattergeo\"}], \"scattergl\": [{\"marker\": {\"colorbar\": {\"outlinewidth\": 0, \"ticks\": \"\"}}, \"type\": \"scattergl\"}], \"scattermapbox\": [{\"marker\": {\"colorbar\": {\"outlinewidth\": 0, \"ticks\": \"\"}}, \"type\": \"scattermapbox\"}], \"scatterpolar\": [{\"marker\": {\"colorbar\": {\"outlinewidth\": 0, \"ticks\": \"\"}}, \"type\": \"scatterpolar\"}], \"scatterpolargl\": [{\"marker\": {\"colorbar\": {\"outlinewidth\": 0, \"ticks\": \"\"}}, \"type\": \"scatterpolargl\"}], \"scatterternary\": [{\"marker\": {\"colorbar\": {\"outlinewidth\": 0, \"ticks\": \"\"}}, \"type\": \"scatterternary\"}], \"surface\": [{\"colorbar\": {\"outlinewidth\": 0, \"ticks\": \"\"}, \"colorscale\": [[0.0, \"#0d0887\"], [0.1111111111111111, \"#46039f\"], [0.2222222222222222, \"#7201a8\"], [0.3333333333333333, \"#9c179e\"], [0.4444444444444444, \"#bd3786\"], [0.5555555555555556, \"#d8576b\"], [0.6666666666666666, \"#ed7953\"], [0.7777777777777778, \"#fb9f3a\"], [0.8888888888888888, \"#fdca26\"], [1.0, \"#f0f921\"]], \"type\": \"surface\"}], \"table\": [{\"cells\": {\"fill\": {\"color\": \"#EBF0F8\"}, \"line\": {\"color\": \"white\"}}, \"header\": {\"fill\": {\"color\": \"#C8D4E3\"}, \"line\": {\"color\": \"white\"}}, \"type\": \"table\"}]}, \"layout\": {\"annotationdefaults\": {\"arrowcolor\": \"#2a3f5f\", \"arrowhead\": 0, \"arrowwidth\": 1}, \"coloraxis\": {\"colorbar\": {\"outlinewidth\": 0, \"ticks\": \"\"}}, \"colorscale\": {\"diverging\": [[0, \"#8e0152\"], [0.1, \"#c51b7d\"], [0.2, \"#de77ae\"], [0.3, \"#f1b6da\"], [0.4, \"#fde0ef\"], [0.5, \"#f7f7f7\"], [0.6, \"#e6f5d0\"], [0.7, \"#b8e186\"], [0.8, \"#7fbc41\"], [0.9, \"#4d9221\"], [1, \"#276419\"]], \"sequential\": [[0.0, \"#0d0887\"], [0.1111111111111111, \"#46039f\"], [0.2222222222222222, \"#7201a8\"], [0.3333333333333333, \"#9c179e\"], [0.4444444444444444, \"#bd3786\"], [0.5555555555555556, \"#d8576b\"], [0.6666666666666666, \"#ed7953\"], [0.7777777777777778, \"#fb9f3a\"], [0.8888888888888888, \"#fdca26\"], [1.0, \"#f0f921\"]], \"sequentialminus\": [[0.0, \"#0d0887\"], [0.1111111111111111, \"#46039f\"], [0.2222222222222222, \"#7201a8\"], [0.3333333333333333, \"#9c179e\"], [0.4444444444444444, \"#bd3786\"], [0.5555555555555556, \"#d8576b\"], [0.6666666666666666, \"#ed7953\"], [0.7777777777777778, \"#fb9f3a\"], [0.8888888888888888, \"#fdca26\"], [1.0, \"#f0f921\"]]}, \"colorway\": [\"#636efa\", \"#EF553B\", \"#00cc96\", \"#ab63fa\", \"#FFA15A\", \"#19d3f3\", \"#FF6692\", \"#B6E880\", \"#FF97FF\", \"#FECB52\"], \"font\": {\"color\": \"#2a3f5f\"}, \"geo\": {\"bgcolor\": \"white\", \"lakecolor\": \"white\", \"landcolor\": \"#E5ECF6\", \"showlakes\": true, \"showland\": true, \"subunitcolor\": \"white\"}, \"hoverlabel\": {\"align\": \"left\"}, \"hovermode\": \"closest\", \"mapbox\": {\"style\": \"light\"}, \"paper_bgcolor\": \"white\", \"plot_bgcolor\": \"#E5ECF6\", \"polar\": {\"angularaxis\": {\"gridcolor\": \"white\", \"linecolor\": \"white\", \"ticks\": \"\"}, \"bgcolor\": \"#E5ECF6\", \"radialaxis\": {\"gridcolor\": \"white\", \"linecolor\": \"white\", \"ticks\": \"\"}}, \"scene\": {\"xaxis\": {\"backgroundcolor\": \"#E5ECF6\", \"gridcolor\": \"white\", \"gridwidth\": 2, \"linecolor\": \"white\", \"showbackground\": true, \"ticks\": \"\", \"zerolinecolor\": \"white\"}, \"yaxis\": {\"backgroundcolor\": \"#E5ECF6\", \"gridcolor\": \"white\", \"gridwidth\": 2, \"linecolor\": \"white\", \"showbackground\": true, \"ticks\": \"\", \"zerolinecolor\": \"white\"}, \"zaxis\": {\"backgroundcolor\": \"#E5ECF6\", \"gridcolor\": \"white\", \"gridwidth\": 2, \"linecolor\": \"white\", \"showbackground\": true, \"ticks\": \"\", \"zerolinecolor\": \"white\"}}, \"shapedefaults\": {\"line\": {\"color\": \"#2a3f5f\"}}, \"ternary\": {\"aaxis\": {\"gridcolor\": \"white\", \"linecolor\": \"white\", \"ticks\": \"\"}, \"baxis\": {\"gridcolor\": \"white\", \"linecolor\": \"white\", \"ticks\": \"\"}, \"bgcolor\": \"#E5ECF6\", \"caxis\": {\"gridcolor\": \"white\", \"linecolor\": \"white\", \"ticks\": \"\"}}, \"title\": {\"x\": 0.05}, \"xaxis\": {\"automargin\": true, \"gridcolor\": \"white\", \"linecolor\": \"white\", \"ticks\": \"\", \"title\": {\"standoff\": 15}, \"zerolinecolor\": \"white\", \"zerolinewidth\": 2}, \"yaxis\": {\"automargin\": true, \"gridcolor\": \"white\", \"linecolor\": \"white\", \"ticks\": \"\", \"title\": {\"standoff\": 15}, \"zerolinecolor\": \"white\", \"zerolinewidth\": 2}}}, \"title\": {\"text\": \"Accuracy Chart\"}, \"width\": 700, \"xaxis\": {\"title\": {\"text\": \"Epochs\"}}, \"yaxis\": {\"title\": {\"text\": \"Acc\"}}},\n",
              "                        {\"responsive\": true}\n",
              "                    ).then(function(){\n",
              "                            \n",
              "var gd = document.getElementById('a2972f96-8f94-4477-9ad0-bb26a8f8ba67');\n",
              "var x = new MutationObserver(function (mutations, observer) {{\n",
              "        var display = window.getComputedStyle(gd).display;\n",
              "        if (!display || display === 'none') {{\n",
              "            console.log([gd, 'removed!']);\n",
              "            Plotly.purge(gd);\n",
              "            observer.disconnect();\n",
              "        }}\n",
              "}});\n",
              "\n",
              "// Listen for the removal of the full notebook cells\n",
              "var notebookContainer = gd.closest('#notebook-container');\n",
              "if (notebookContainer) {{\n",
              "    x.observe(notebookContainer, {childList: true});\n",
              "}}\n",
              "\n",
              "// Listen for the clearing of the current output cell\n",
              "var outputEl = gd.closest('.output');\n",
              "if (outputEl) {{\n",
              "    x.observe(outputEl, {childList: true});\n",
              "}}\n",
              "\n",
              "                        })\n",
              "                };\n",
              "                \n",
              "            </script>\n",
              "        </div>\n",
              "</body>\n",
              "</html>"
            ]
          },
          "metadata": {
            "tags": []
          }
        }
      ]
    },
    {
      "cell_type": "markdown",
      "metadata": {
        "id": "ef7bl8uxE4uB"
      },
      "source": [
        "### Adding Inverted Dropout\n"
      ]
    },
    {
      "cell_type": "code",
      "metadata": {
        "colab": {
          "base_uri": "https://localhost:8080/"
        },
        "id": "ziTfW0E4oFhx",
        "outputId": "71da0ee8-3da5-4efd-d18a-d1357967df45"
      },
      "source": [
        "# Test model using Inverted Dropout\n",
        "model = FFNN(784,[512,1024,128],[relu,celu,swish, softmax],10,init_method=torch.randn,keep_prob=[1.0,0.8,0.8,0.9])\n",
        "model.to(\"cuda\")\n",
        "optimizer = SGD(model.parameters(), lr=1e-5)\n",
        "\n",
        "with torch.no_grad():\n",
        "  loss, acc = train(model, dataset_train, optimizer,epochs=40,batch_size=200,collate=custom_collate)\n",
        "  test_loss, test_acc = test(model,dataset_test,batch_size=200,collate=custom_collate)\n",
        "\n",
        "  # Formatting results to plot\n",
        "  loss_data = {\n",
        "    \"x\": [x+1 for x in range(40)],\n",
        "    \"y\": loss,\n",
        "    \"name\": \"Dropout model Loss\"\n",
        "  }\n",
        "\n",
        "  acc_data = {\n",
        "    \"x\": [x+1 for x in range(40)],\n",
        "    \"y\": acc,\n",
        "    \"name\": \"Dropout model Acc\"\n",
        "  }\n"
      ],
      "execution_count": null,
      "outputs": [
        {
          "output_type": "stream",
          "text": [
            "/usr/local/lib/python3.6/dist-packages/torch/nn/modules/container.py:434: UserWarning:\n",
            "\n",
            "Setting attributes on ParameterList is not supported.\n",
            "\n"
          ],
          "name": "stderr"
        },
        {
          "output_type": "stream",
          "text": [
            "Epoch: 1 | Acc: 22.97% | loss: 8.187\n",
            "Epoch: 2 | Acc: 35.25% | loss: 6.022\n",
            "Epoch: 3 | Acc: 40.85% | loss: 4.987\n",
            "Epoch: 4 | Acc: 44.06% | loss: 4.339\n",
            "Epoch: 5 | Acc: 45.89% | loss: 3.970\n",
            "Epoch: 6 | Acc: 47.43% | loss: 3.712\n",
            "Epoch: 7 | Acc: 48.47% | loss: 3.518\n",
            "Epoch: 8 | Acc: 49.36% | loss: 3.322\n",
            "Epoch: 9 | Acc: 50.16% | loss: 3.240\n",
            "Epoch: 10 | Acc: 50.40% | loss: 3.120\n",
            "Epoch: 11 | Acc: 50.47% | loss: 3.061\n",
            "Epoch: 12 | Acc: 51.57% | loss: 3.002\n",
            "Epoch: 13 | Acc: 51.70% | loss: 2.940\n",
            "Epoch: 14 | Acc: 52.08% | loss: 2.907\n",
            "Epoch: 15 | Acc: 52.05% | loss: 2.862\n",
            "Epoch: 16 | Acc: 52.11% | loss: 2.806\n",
            "Epoch: 17 | Acc: 52.52% | loss: 2.797\n",
            "Epoch: 18 | Acc: 52.75% | loss: 2.746\n",
            "Epoch: 19 | Acc: 52.85% | loss: 2.720\n",
            "Epoch: 20 | Acc: 53.15% | loss: 2.708\n",
            "Epoch: 21 | Acc: 53.34% | loss: 2.665\n",
            "Epoch: 22 | Acc: 53.52% | loss: 2.663\n",
            "Epoch: 23 | Acc: 53.46% | loss: 2.676\n",
            "Epoch: 24 | Acc: 53.61% | loss: 2.652\n",
            "Epoch: 25 | Acc: 53.41% | loss: 2.634\n",
            "Epoch: 26 | Acc: 53.38% | loss: 2.656\n",
            "Epoch: 27 | Acc: 53.46% | loss: 2.628\n",
            "Epoch: 28 | Acc: 53.17% | loss: 2.634\n",
            "Epoch: 29 | Acc: 52.98% | loss: 2.615\n",
            "Epoch: 30 | Acc: 53.64% | loss: 2.614\n",
            "Epoch: 31 | Acc: 53.70% | loss: 2.608\n",
            "Epoch: 32 | Acc: 53.50% | loss: 2.564\n",
            "Epoch: 33 | Acc: 53.43% | loss: 2.600\n",
            "Epoch: 34 | Acc: 53.78% | loss: 2.591\n",
            "Epoch: 35 | Acc: 53.49% | loss: 2.599\n",
            "Epoch: 36 | Acc: 53.60% | loss: 2.566\n",
            "Epoch: 37 | Acc: 53.79% | loss: 2.573\n",
            "Epoch: 38 | Acc: 53.17% | loss: 2.577\n",
            "Epoch: 39 | Acc: 53.56% | loss: 2.568\n",
            "Epoch: 40 | Acc: 53.74% | loss: 2.564\n",
            "\n",
            "Test Results: Acc: 85.09% | loss: 2.747\n"
          ],
          "name": "stdout"
        }
      ]
    },
    {
      "cell_type": "code",
      "metadata": {
        "colab": {
          "base_uri": "https://localhost:8080/"
        },
        "id": "p7vojKQcBaCM",
        "outputId": "71b2993b-1183-4568-b45b-b732452230cc"
      },
      "source": [
        "# DROPOUT model test vs train metrics\n",
        "print(f\"Difference between best train loss and test loss: {abs(np.min(loss)-test_loss):.3f}\")\n",
        "print(f\"Difference between best train acc and test acc: {abs(np.max(acc)-test_acc)*100:.3f}%\\n\") \n",
        "plot_results([loss_data], [acc_data])"
      ],
      "execution_count": null,
      "outputs": [
        {
          "output_type": "stream",
          "text": [
            "Difference between best train loss and test loss: 0.182\n",
            "Difference between best train acc and test acc: 31.305%\n",
            "\n"
          ],
          "name": "stdout"
        },
        {
          "output_type": "display_data",
          "data": {
            "text/html": [
              "<html>\n",
              "<head><meta charset=\"utf-8\" /></head>\n",
              "<body>\n",
              "    <div>\n",
              "            <script src=\"https://cdnjs.cloudflare.com/ajax/libs/mathjax/2.7.5/MathJax.js?config=TeX-AMS-MML_SVG\"></script><script type=\"text/javascript\">if (window.MathJax) {MathJax.Hub.Config({SVG: {font: \"STIX-Web\"}});}</script>\n",
              "                <script type=\"text/javascript\">window.PlotlyConfig = {MathJaxConfig: 'local'};</script>\n",
              "        <script src=\"https://cdn.plot.ly/plotly-latest.min.js\"></script>    \n",
              "            <div id=\"3712f339-634e-4220-9c08-7d89eb67085c\" class=\"plotly-graph-div\" style=\"height:450px; width:700px;\"></div>\n",
              "            <script type=\"text/javascript\">\n",
              "                \n",
              "                    window.PLOTLYENV=window.PLOTLYENV || {};\n",
              "                    \n",
              "                if (document.getElementById(\"3712f339-634e-4220-9c08-7d89eb67085c\")) {\n",
              "                    Plotly.newPlot(\n",
              "                        '3712f339-634e-4220-9c08-7d89eb67085c',\n",
              "                        [{\"mode\": \"lines+markers\", \"name\": \"Dropout model Loss\", \"textposition\": \"bottom center\", \"type\": \"scatter\", \"x\": [1, 2, 3, 4, 5, 6, 7, 8, 9, 10, 11, 12, 13, 14, 15, 16, 17, 18, 19, 20, 21, 22, 23, 24, 25, 26, 27, 28, 29, 30, 31, 32, 33, 34, 35, 36, 37, 38, 39, 40], \"y\": [8.1869832833608, 6.022473349571228, 4.987003318468729, 4.339293087323506, 3.97048579454422, 3.7117088413238526, 3.5183447265625, 3.3217648315429686, 3.2402377104759217, 3.1195519713560738, 3.060879799524943, 3.0015319108963014, 2.9402894886334736, 2.906885186036428, 2.8624633399645485, 2.805662310918172, 2.796959716478984, 2.7457294809818267, 2.7203299963474272, 2.708095506032308, 2.6652206512292227, 2.662910632689794, 2.676456454992294, 2.6523463201522826, 2.6344202613830565, 2.6564113859335583, 2.628478869994481, 2.6338062099615733, 2.6149363895257314, 2.6140399209658307, 2.60766326824824, 2.5640984682242074, 2.600382699966431, 2.5914546195665995, 2.598773089647293, 2.5658024299144744, 2.573078281084696, 2.5768448328971862, 2.5676133143901825, 2.5643948241074876]}],\n",
              "                        {\"autosize\": false, \"font\": {\"color\": \"#7f7f7f\", \"family\": \"Courier New, monospace\", \"size\": 14}, \"height\": 450, \"template\": {\"data\": {\"bar\": [{\"error_x\": {\"color\": \"#2a3f5f\"}, \"error_y\": {\"color\": \"#2a3f5f\"}, \"marker\": {\"line\": {\"color\": \"#E5ECF6\", \"width\": 0.5}}, \"type\": \"bar\"}], \"barpolar\": [{\"marker\": {\"line\": {\"color\": \"#E5ECF6\", \"width\": 0.5}}, \"type\": \"barpolar\"}], \"carpet\": [{\"aaxis\": {\"endlinecolor\": \"#2a3f5f\", \"gridcolor\": \"white\", \"linecolor\": \"white\", \"minorgridcolor\": \"white\", \"startlinecolor\": \"#2a3f5f\"}, \"baxis\": {\"endlinecolor\": \"#2a3f5f\", \"gridcolor\": \"white\", \"linecolor\": \"white\", \"minorgridcolor\": \"white\", \"startlinecolor\": \"#2a3f5f\"}, \"type\": \"carpet\"}], \"choropleth\": [{\"colorbar\": {\"outlinewidth\": 0, \"ticks\": \"\"}, \"type\": \"choropleth\"}], \"contour\": [{\"colorbar\": {\"outlinewidth\": 0, \"ticks\": \"\"}, \"colorscale\": [[0.0, \"#0d0887\"], [0.1111111111111111, \"#46039f\"], [0.2222222222222222, \"#7201a8\"], [0.3333333333333333, \"#9c179e\"], [0.4444444444444444, \"#bd3786\"], [0.5555555555555556, \"#d8576b\"], [0.6666666666666666, \"#ed7953\"], [0.7777777777777778, \"#fb9f3a\"], [0.8888888888888888, \"#fdca26\"], [1.0, \"#f0f921\"]], \"type\": \"contour\"}], \"contourcarpet\": [{\"colorbar\": {\"outlinewidth\": 0, \"ticks\": \"\"}, \"type\": \"contourcarpet\"}], \"heatmap\": [{\"colorbar\": {\"outlinewidth\": 0, \"ticks\": \"\"}, \"colorscale\": [[0.0, \"#0d0887\"], [0.1111111111111111, \"#46039f\"], [0.2222222222222222, \"#7201a8\"], [0.3333333333333333, \"#9c179e\"], [0.4444444444444444, \"#bd3786\"], [0.5555555555555556, \"#d8576b\"], [0.6666666666666666, \"#ed7953\"], [0.7777777777777778, \"#fb9f3a\"], [0.8888888888888888, \"#fdca26\"], [1.0, \"#f0f921\"]], \"type\": \"heatmap\"}], \"heatmapgl\": [{\"colorbar\": {\"outlinewidth\": 0, \"ticks\": \"\"}, \"colorscale\": [[0.0, \"#0d0887\"], [0.1111111111111111, \"#46039f\"], [0.2222222222222222, \"#7201a8\"], [0.3333333333333333, \"#9c179e\"], [0.4444444444444444, \"#bd3786\"], [0.5555555555555556, \"#d8576b\"], [0.6666666666666666, \"#ed7953\"], [0.7777777777777778, \"#fb9f3a\"], [0.8888888888888888, \"#fdca26\"], [1.0, \"#f0f921\"]], \"type\": \"heatmapgl\"}], \"histogram\": [{\"marker\": {\"colorbar\": {\"outlinewidth\": 0, \"ticks\": \"\"}}, \"type\": \"histogram\"}], \"histogram2d\": [{\"colorbar\": {\"outlinewidth\": 0, \"ticks\": \"\"}, \"colorscale\": [[0.0, \"#0d0887\"], [0.1111111111111111, \"#46039f\"], [0.2222222222222222, \"#7201a8\"], [0.3333333333333333, \"#9c179e\"], [0.4444444444444444, \"#bd3786\"], [0.5555555555555556, \"#d8576b\"], [0.6666666666666666, \"#ed7953\"], [0.7777777777777778, \"#fb9f3a\"], [0.8888888888888888, \"#fdca26\"], [1.0, \"#f0f921\"]], \"type\": \"histogram2d\"}], \"histogram2dcontour\": [{\"colorbar\": {\"outlinewidth\": 0, \"ticks\": \"\"}, \"colorscale\": [[0.0, \"#0d0887\"], [0.1111111111111111, \"#46039f\"], [0.2222222222222222, \"#7201a8\"], [0.3333333333333333, \"#9c179e\"], [0.4444444444444444, \"#bd3786\"], [0.5555555555555556, \"#d8576b\"], [0.6666666666666666, \"#ed7953\"], [0.7777777777777778, \"#fb9f3a\"], [0.8888888888888888, \"#fdca26\"], [1.0, \"#f0f921\"]], \"type\": \"histogram2dcontour\"}], \"mesh3d\": [{\"colorbar\": {\"outlinewidth\": 0, \"ticks\": \"\"}, \"type\": \"mesh3d\"}], \"parcoords\": [{\"line\": {\"colorbar\": {\"outlinewidth\": 0, \"ticks\": \"\"}}, \"type\": \"parcoords\"}], \"pie\": [{\"automargin\": true, \"type\": \"pie\"}], \"scatter\": [{\"marker\": {\"colorbar\": {\"outlinewidth\": 0, \"ticks\": \"\"}}, \"type\": \"scatter\"}], \"scatter3d\": [{\"line\": {\"colorbar\": {\"outlinewidth\": 0, \"ticks\": \"\"}}, \"marker\": {\"colorbar\": {\"outlinewidth\": 0, \"ticks\": \"\"}}, \"type\": \"scatter3d\"}], \"scattercarpet\": [{\"marker\": {\"colorbar\": {\"outlinewidth\": 0, \"ticks\": \"\"}}, \"type\": \"scattercarpet\"}], \"scattergeo\": [{\"marker\": {\"colorbar\": {\"outlinewidth\": 0, \"ticks\": \"\"}}, \"type\": \"scattergeo\"}], \"scattergl\": [{\"marker\": {\"colorbar\": {\"outlinewidth\": 0, \"ticks\": \"\"}}, \"type\": \"scattergl\"}], \"scattermapbox\": [{\"marker\": {\"colorbar\": {\"outlinewidth\": 0, \"ticks\": \"\"}}, \"type\": \"scattermapbox\"}], \"scatterpolar\": [{\"marker\": {\"colorbar\": {\"outlinewidth\": 0, \"ticks\": \"\"}}, \"type\": \"scatterpolar\"}], \"scatterpolargl\": [{\"marker\": {\"colorbar\": {\"outlinewidth\": 0, \"ticks\": \"\"}}, \"type\": \"scatterpolargl\"}], \"scatterternary\": [{\"marker\": {\"colorbar\": {\"outlinewidth\": 0, \"ticks\": \"\"}}, \"type\": \"scatterternary\"}], \"surface\": [{\"colorbar\": {\"outlinewidth\": 0, \"ticks\": \"\"}, \"colorscale\": [[0.0, \"#0d0887\"], [0.1111111111111111, \"#46039f\"], [0.2222222222222222, \"#7201a8\"], [0.3333333333333333, \"#9c179e\"], [0.4444444444444444, \"#bd3786\"], [0.5555555555555556, \"#d8576b\"], [0.6666666666666666, \"#ed7953\"], [0.7777777777777778, \"#fb9f3a\"], [0.8888888888888888, \"#fdca26\"], [1.0, \"#f0f921\"]], \"type\": \"surface\"}], \"table\": [{\"cells\": {\"fill\": {\"color\": \"#EBF0F8\"}, \"line\": {\"color\": \"white\"}}, \"header\": {\"fill\": {\"color\": \"#C8D4E3\"}, \"line\": {\"color\": \"white\"}}, \"type\": \"table\"}]}, \"layout\": {\"annotationdefaults\": {\"arrowcolor\": \"#2a3f5f\", \"arrowhead\": 0, \"arrowwidth\": 1}, \"coloraxis\": {\"colorbar\": {\"outlinewidth\": 0, \"ticks\": \"\"}}, \"colorscale\": {\"diverging\": [[0, \"#8e0152\"], [0.1, \"#c51b7d\"], [0.2, \"#de77ae\"], [0.3, \"#f1b6da\"], [0.4, \"#fde0ef\"], [0.5, \"#f7f7f7\"], [0.6, \"#e6f5d0\"], [0.7, \"#b8e186\"], [0.8, \"#7fbc41\"], [0.9, \"#4d9221\"], [1, \"#276419\"]], \"sequential\": [[0.0, \"#0d0887\"], [0.1111111111111111, \"#46039f\"], [0.2222222222222222, \"#7201a8\"], [0.3333333333333333, \"#9c179e\"], [0.4444444444444444, \"#bd3786\"], [0.5555555555555556, \"#d8576b\"], [0.6666666666666666, \"#ed7953\"], [0.7777777777777778, \"#fb9f3a\"], [0.8888888888888888, \"#fdca26\"], [1.0, \"#f0f921\"]], \"sequentialminus\": [[0.0, \"#0d0887\"], [0.1111111111111111, \"#46039f\"], [0.2222222222222222, \"#7201a8\"], [0.3333333333333333, \"#9c179e\"], [0.4444444444444444, \"#bd3786\"], [0.5555555555555556, \"#d8576b\"], [0.6666666666666666, \"#ed7953\"], [0.7777777777777778, \"#fb9f3a\"], [0.8888888888888888, \"#fdca26\"], [1.0, \"#f0f921\"]]}, \"colorway\": [\"#636efa\", \"#EF553B\", \"#00cc96\", \"#ab63fa\", \"#FFA15A\", \"#19d3f3\", \"#FF6692\", \"#B6E880\", \"#FF97FF\", \"#FECB52\"], \"font\": {\"color\": \"#2a3f5f\"}, \"geo\": {\"bgcolor\": \"white\", \"lakecolor\": \"white\", \"landcolor\": \"#E5ECF6\", \"showlakes\": true, \"showland\": true, \"subunitcolor\": \"white\"}, \"hoverlabel\": {\"align\": \"left\"}, \"hovermode\": \"closest\", \"mapbox\": {\"style\": \"light\"}, \"paper_bgcolor\": \"white\", \"plot_bgcolor\": \"#E5ECF6\", \"polar\": {\"angularaxis\": {\"gridcolor\": \"white\", \"linecolor\": \"white\", \"ticks\": \"\"}, \"bgcolor\": \"#E5ECF6\", \"radialaxis\": {\"gridcolor\": \"white\", \"linecolor\": \"white\", \"ticks\": \"\"}}, \"scene\": {\"xaxis\": {\"backgroundcolor\": \"#E5ECF6\", \"gridcolor\": \"white\", \"gridwidth\": 2, \"linecolor\": \"white\", \"showbackground\": true, \"ticks\": \"\", \"zerolinecolor\": \"white\"}, \"yaxis\": {\"backgroundcolor\": \"#E5ECF6\", \"gridcolor\": \"white\", \"gridwidth\": 2, \"linecolor\": \"white\", \"showbackground\": true, \"ticks\": \"\", \"zerolinecolor\": \"white\"}, \"zaxis\": {\"backgroundcolor\": \"#E5ECF6\", \"gridcolor\": \"white\", \"gridwidth\": 2, \"linecolor\": \"white\", \"showbackground\": true, \"ticks\": \"\", \"zerolinecolor\": \"white\"}}, \"shapedefaults\": {\"line\": {\"color\": \"#2a3f5f\"}}, \"ternary\": {\"aaxis\": {\"gridcolor\": \"white\", \"linecolor\": \"white\", \"ticks\": \"\"}, \"baxis\": {\"gridcolor\": \"white\", \"linecolor\": \"white\", \"ticks\": \"\"}, \"bgcolor\": \"#E5ECF6\", \"caxis\": {\"gridcolor\": \"white\", \"linecolor\": \"white\", \"ticks\": \"\"}}, \"title\": {\"x\": 0.05}, \"xaxis\": {\"automargin\": true, \"gridcolor\": \"white\", \"linecolor\": \"white\", \"ticks\": \"\", \"title\": {\"standoff\": 15}, \"zerolinecolor\": \"white\", \"zerolinewidth\": 2}, \"yaxis\": {\"automargin\": true, \"gridcolor\": \"white\", \"linecolor\": \"white\", \"ticks\": \"\", \"title\": {\"standoff\": 15}, \"zerolinecolor\": \"white\", \"zerolinewidth\": 2}}}, \"title\": {\"text\": \"Loss Chart\"}, \"width\": 700, \"xaxis\": {\"title\": {\"text\": \"Epochs\"}}, \"yaxis\": {\"title\": {\"text\": \"Loss\"}}},\n",
              "                        {\"responsive\": true}\n",
              "                    ).then(function(){\n",
              "                            \n",
              "var gd = document.getElementById('3712f339-634e-4220-9c08-7d89eb67085c');\n",
              "var x = new MutationObserver(function (mutations, observer) {{\n",
              "        var display = window.getComputedStyle(gd).display;\n",
              "        if (!display || display === 'none') {{\n",
              "            console.log([gd, 'removed!']);\n",
              "            Plotly.purge(gd);\n",
              "            observer.disconnect();\n",
              "        }}\n",
              "}});\n",
              "\n",
              "// Listen for the removal of the full notebook cells\n",
              "var notebookContainer = gd.closest('#notebook-container');\n",
              "if (notebookContainer) {{\n",
              "    x.observe(notebookContainer, {childList: true});\n",
              "}}\n",
              "\n",
              "// Listen for the clearing of the current output cell\n",
              "var outputEl = gd.closest('.output');\n",
              "if (outputEl) {{\n",
              "    x.observe(outputEl, {childList: true});\n",
              "}}\n",
              "\n",
              "                        })\n",
              "                };\n",
              "                \n",
              "            </script>\n",
              "        </div>\n",
              "</body>\n",
              "</html>"
            ]
          },
          "metadata": {
            "tags": []
          }
        },
        {
          "output_type": "stream",
          "text": [
            "\n",
            "\n"
          ],
          "name": "stdout"
        },
        {
          "output_type": "display_data",
          "data": {
            "text/html": [
              "<html>\n",
              "<head><meta charset=\"utf-8\" /></head>\n",
              "<body>\n",
              "    <div>\n",
              "            <script src=\"https://cdnjs.cloudflare.com/ajax/libs/mathjax/2.7.5/MathJax.js?config=TeX-AMS-MML_SVG\"></script><script type=\"text/javascript\">if (window.MathJax) {MathJax.Hub.Config({SVG: {font: \"STIX-Web\"}});}</script>\n",
              "                <script type=\"text/javascript\">window.PlotlyConfig = {MathJaxConfig: 'local'};</script>\n",
              "        <script src=\"https://cdn.plot.ly/plotly-latest.min.js\"></script>    \n",
              "            <div id=\"020a1225-d0ca-4724-b255-8fdf8f47ed12\" class=\"plotly-graph-div\" style=\"height:450px; width:700px;\"></div>\n",
              "            <script type=\"text/javascript\">\n",
              "                \n",
              "                    window.PLOTLYENV=window.PLOTLYENV || {};\n",
              "                    \n",
              "                if (document.getElementById(\"020a1225-d0ca-4724-b255-8fdf8f47ed12\")) {\n",
              "                    Plotly.newPlot(\n",
              "                        '020a1225-d0ca-4724-b255-8fdf8f47ed12',\n",
              "                        [{\"mode\": \"lines+markers\", \"name\": \"Dropout model Acc\", \"textposition\": \"bottom center\", \"type\": \"scatter\", \"x\": [1, 2, 3, 4, 5, 6, 7, 8, 9, 10, 11, 12, 13, 14, 15, 16, 17, 18, 19, 20, 21, 22, 23, 24, 25, 26, 27, 28, 29, 30, 31, 32, 33, 34, 35, 36, 37, 38, 39, 40], \"y\": [0.22971666666666668, 0.3525, 0.40846666666666664, 0.44056666666666666, 0.45891666666666664, 0.47428333333333333, 0.4847166666666667, 0.49356666666666665, 0.5015666666666667, 0.5039666666666667, 0.50465, 0.5157333333333334, 0.51705, 0.5208166666666667, 0.5204833333333333, 0.5211166666666667, 0.5252166666666667, 0.5275333333333333, 0.5285333333333333, 0.5314833333333333, 0.5333833333333333, 0.5351833333333333, 0.5345666666666666, 0.5361333333333334, 0.5340666666666667, 0.5338166666666667, 0.5346166666666666, 0.5317333333333333, 0.5297666666666667, 0.5364333333333333, 0.5369833333333334, 0.5350333333333334, 0.5343166666666667, 0.5378333333333334, 0.5349, 0.5360333333333334, 0.53785, 0.5316666666666666, 0.5356, 0.53745]}],\n",
              "                        {\"autosize\": false, \"font\": {\"color\": \"#7f7f7f\", \"family\": \"Courier New, monospace\", \"size\": 14}, \"height\": 450, \"template\": {\"data\": {\"bar\": [{\"error_x\": {\"color\": \"#2a3f5f\"}, \"error_y\": {\"color\": \"#2a3f5f\"}, \"marker\": {\"line\": {\"color\": \"#E5ECF6\", \"width\": 0.5}}, \"type\": \"bar\"}], \"barpolar\": [{\"marker\": {\"line\": {\"color\": \"#E5ECF6\", \"width\": 0.5}}, \"type\": \"barpolar\"}], \"carpet\": [{\"aaxis\": {\"endlinecolor\": \"#2a3f5f\", \"gridcolor\": \"white\", \"linecolor\": \"white\", \"minorgridcolor\": \"white\", \"startlinecolor\": \"#2a3f5f\"}, \"baxis\": {\"endlinecolor\": \"#2a3f5f\", \"gridcolor\": \"white\", \"linecolor\": \"white\", \"minorgridcolor\": \"white\", \"startlinecolor\": \"#2a3f5f\"}, \"type\": \"carpet\"}], \"choropleth\": [{\"colorbar\": {\"outlinewidth\": 0, \"ticks\": \"\"}, \"type\": \"choropleth\"}], \"contour\": [{\"colorbar\": {\"outlinewidth\": 0, \"ticks\": \"\"}, \"colorscale\": [[0.0, \"#0d0887\"], [0.1111111111111111, \"#46039f\"], [0.2222222222222222, \"#7201a8\"], [0.3333333333333333, \"#9c179e\"], [0.4444444444444444, \"#bd3786\"], [0.5555555555555556, \"#d8576b\"], [0.6666666666666666, \"#ed7953\"], [0.7777777777777778, \"#fb9f3a\"], [0.8888888888888888, \"#fdca26\"], [1.0, \"#f0f921\"]], \"type\": \"contour\"}], \"contourcarpet\": [{\"colorbar\": {\"outlinewidth\": 0, \"ticks\": \"\"}, \"type\": \"contourcarpet\"}], \"heatmap\": [{\"colorbar\": {\"outlinewidth\": 0, \"ticks\": \"\"}, \"colorscale\": [[0.0, \"#0d0887\"], [0.1111111111111111, \"#46039f\"], [0.2222222222222222, \"#7201a8\"], [0.3333333333333333, \"#9c179e\"], [0.4444444444444444, \"#bd3786\"], [0.5555555555555556, \"#d8576b\"], [0.6666666666666666, \"#ed7953\"], [0.7777777777777778, \"#fb9f3a\"], [0.8888888888888888, \"#fdca26\"], [1.0, \"#f0f921\"]], \"type\": \"heatmap\"}], \"heatmapgl\": [{\"colorbar\": {\"outlinewidth\": 0, \"ticks\": \"\"}, \"colorscale\": [[0.0, \"#0d0887\"], [0.1111111111111111, \"#46039f\"], [0.2222222222222222, \"#7201a8\"], [0.3333333333333333, \"#9c179e\"], [0.4444444444444444, \"#bd3786\"], [0.5555555555555556, \"#d8576b\"], [0.6666666666666666, \"#ed7953\"], [0.7777777777777778, \"#fb9f3a\"], [0.8888888888888888, \"#fdca26\"], [1.0, \"#f0f921\"]], \"type\": \"heatmapgl\"}], \"histogram\": [{\"marker\": {\"colorbar\": {\"outlinewidth\": 0, \"ticks\": \"\"}}, \"type\": \"histogram\"}], \"histogram2d\": [{\"colorbar\": {\"outlinewidth\": 0, \"ticks\": \"\"}, \"colorscale\": [[0.0, \"#0d0887\"], [0.1111111111111111, \"#46039f\"], [0.2222222222222222, \"#7201a8\"], [0.3333333333333333, \"#9c179e\"], [0.4444444444444444, \"#bd3786\"], [0.5555555555555556, \"#d8576b\"], [0.6666666666666666, \"#ed7953\"], [0.7777777777777778, \"#fb9f3a\"], [0.8888888888888888, \"#fdca26\"], [1.0, \"#f0f921\"]], \"type\": \"histogram2d\"}], \"histogram2dcontour\": [{\"colorbar\": {\"outlinewidth\": 0, \"ticks\": \"\"}, \"colorscale\": [[0.0, \"#0d0887\"], [0.1111111111111111, \"#46039f\"], [0.2222222222222222, \"#7201a8\"], [0.3333333333333333, \"#9c179e\"], [0.4444444444444444, \"#bd3786\"], [0.5555555555555556, \"#d8576b\"], [0.6666666666666666, \"#ed7953\"], [0.7777777777777778, \"#fb9f3a\"], [0.8888888888888888, \"#fdca26\"], [1.0, \"#f0f921\"]], \"type\": \"histogram2dcontour\"}], \"mesh3d\": [{\"colorbar\": {\"outlinewidth\": 0, \"ticks\": \"\"}, \"type\": \"mesh3d\"}], \"parcoords\": [{\"line\": {\"colorbar\": {\"outlinewidth\": 0, \"ticks\": \"\"}}, \"type\": \"parcoords\"}], \"pie\": [{\"automargin\": true, \"type\": \"pie\"}], \"scatter\": [{\"marker\": {\"colorbar\": {\"outlinewidth\": 0, \"ticks\": \"\"}}, \"type\": \"scatter\"}], \"scatter3d\": [{\"line\": {\"colorbar\": {\"outlinewidth\": 0, \"ticks\": \"\"}}, \"marker\": {\"colorbar\": {\"outlinewidth\": 0, \"ticks\": \"\"}}, \"type\": \"scatter3d\"}], \"scattercarpet\": [{\"marker\": {\"colorbar\": {\"outlinewidth\": 0, \"ticks\": \"\"}}, \"type\": \"scattercarpet\"}], \"scattergeo\": [{\"marker\": {\"colorbar\": {\"outlinewidth\": 0, \"ticks\": \"\"}}, \"type\": \"scattergeo\"}], \"scattergl\": [{\"marker\": {\"colorbar\": {\"outlinewidth\": 0, \"ticks\": \"\"}}, \"type\": \"scattergl\"}], \"scattermapbox\": [{\"marker\": {\"colorbar\": {\"outlinewidth\": 0, \"ticks\": \"\"}}, \"type\": \"scattermapbox\"}], \"scatterpolar\": [{\"marker\": {\"colorbar\": {\"outlinewidth\": 0, \"ticks\": \"\"}}, \"type\": \"scatterpolar\"}], \"scatterpolargl\": [{\"marker\": {\"colorbar\": {\"outlinewidth\": 0, \"ticks\": \"\"}}, \"type\": \"scatterpolargl\"}], \"scatterternary\": [{\"marker\": {\"colorbar\": {\"outlinewidth\": 0, \"ticks\": \"\"}}, \"type\": \"scatterternary\"}], \"surface\": [{\"colorbar\": {\"outlinewidth\": 0, \"ticks\": \"\"}, \"colorscale\": [[0.0, \"#0d0887\"], [0.1111111111111111, \"#46039f\"], [0.2222222222222222, \"#7201a8\"], [0.3333333333333333, \"#9c179e\"], [0.4444444444444444, \"#bd3786\"], [0.5555555555555556, \"#d8576b\"], [0.6666666666666666, \"#ed7953\"], [0.7777777777777778, \"#fb9f3a\"], [0.8888888888888888, \"#fdca26\"], [1.0, \"#f0f921\"]], \"type\": \"surface\"}], \"table\": [{\"cells\": {\"fill\": {\"color\": \"#EBF0F8\"}, \"line\": {\"color\": \"white\"}}, \"header\": {\"fill\": {\"color\": \"#C8D4E3\"}, \"line\": {\"color\": \"white\"}}, \"type\": \"table\"}]}, \"layout\": {\"annotationdefaults\": {\"arrowcolor\": \"#2a3f5f\", \"arrowhead\": 0, \"arrowwidth\": 1}, \"coloraxis\": {\"colorbar\": {\"outlinewidth\": 0, \"ticks\": \"\"}}, \"colorscale\": {\"diverging\": [[0, \"#8e0152\"], [0.1, \"#c51b7d\"], [0.2, \"#de77ae\"], [0.3, \"#f1b6da\"], [0.4, \"#fde0ef\"], [0.5, \"#f7f7f7\"], [0.6, \"#e6f5d0\"], [0.7, \"#b8e186\"], [0.8, \"#7fbc41\"], [0.9, \"#4d9221\"], [1, \"#276419\"]], \"sequential\": [[0.0, \"#0d0887\"], [0.1111111111111111, \"#46039f\"], [0.2222222222222222, \"#7201a8\"], [0.3333333333333333, \"#9c179e\"], [0.4444444444444444, \"#bd3786\"], [0.5555555555555556, \"#d8576b\"], [0.6666666666666666, \"#ed7953\"], [0.7777777777777778, \"#fb9f3a\"], [0.8888888888888888, \"#fdca26\"], [1.0, \"#f0f921\"]], \"sequentialminus\": [[0.0, \"#0d0887\"], [0.1111111111111111, \"#46039f\"], [0.2222222222222222, \"#7201a8\"], [0.3333333333333333, \"#9c179e\"], [0.4444444444444444, \"#bd3786\"], [0.5555555555555556, \"#d8576b\"], [0.6666666666666666, \"#ed7953\"], [0.7777777777777778, \"#fb9f3a\"], [0.8888888888888888, \"#fdca26\"], [1.0, \"#f0f921\"]]}, \"colorway\": [\"#636efa\", \"#EF553B\", \"#00cc96\", \"#ab63fa\", \"#FFA15A\", \"#19d3f3\", \"#FF6692\", \"#B6E880\", \"#FF97FF\", \"#FECB52\"], \"font\": {\"color\": \"#2a3f5f\"}, \"geo\": {\"bgcolor\": \"white\", \"lakecolor\": \"white\", \"landcolor\": \"#E5ECF6\", \"showlakes\": true, \"showland\": true, \"subunitcolor\": \"white\"}, \"hoverlabel\": {\"align\": \"left\"}, \"hovermode\": \"closest\", \"mapbox\": {\"style\": \"light\"}, \"paper_bgcolor\": \"white\", \"plot_bgcolor\": \"#E5ECF6\", \"polar\": {\"angularaxis\": {\"gridcolor\": \"white\", \"linecolor\": \"white\", \"ticks\": \"\"}, \"bgcolor\": \"#E5ECF6\", \"radialaxis\": {\"gridcolor\": \"white\", \"linecolor\": \"white\", \"ticks\": \"\"}}, \"scene\": {\"xaxis\": {\"backgroundcolor\": \"#E5ECF6\", \"gridcolor\": \"white\", \"gridwidth\": 2, \"linecolor\": \"white\", \"showbackground\": true, \"ticks\": \"\", \"zerolinecolor\": \"white\"}, \"yaxis\": {\"backgroundcolor\": \"#E5ECF6\", \"gridcolor\": \"white\", \"gridwidth\": 2, \"linecolor\": \"white\", \"showbackground\": true, \"ticks\": \"\", \"zerolinecolor\": \"white\"}, \"zaxis\": {\"backgroundcolor\": \"#E5ECF6\", \"gridcolor\": \"white\", \"gridwidth\": 2, \"linecolor\": \"white\", \"showbackground\": true, \"ticks\": \"\", \"zerolinecolor\": \"white\"}}, \"shapedefaults\": {\"line\": {\"color\": \"#2a3f5f\"}}, \"ternary\": {\"aaxis\": {\"gridcolor\": \"white\", \"linecolor\": \"white\", \"ticks\": \"\"}, \"baxis\": {\"gridcolor\": \"white\", \"linecolor\": \"white\", \"ticks\": \"\"}, \"bgcolor\": \"#E5ECF6\", \"caxis\": {\"gridcolor\": \"white\", \"linecolor\": \"white\", \"ticks\": \"\"}}, \"title\": {\"x\": 0.05}, \"xaxis\": {\"automargin\": true, \"gridcolor\": \"white\", \"linecolor\": \"white\", \"ticks\": \"\", \"title\": {\"standoff\": 15}, \"zerolinecolor\": \"white\", \"zerolinewidth\": 2}, \"yaxis\": {\"automargin\": true, \"gridcolor\": \"white\", \"linecolor\": \"white\", \"ticks\": \"\", \"title\": {\"standoff\": 15}, \"zerolinecolor\": \"white\", \"zerolinewidth\": 2}}}, \"title\": {\"text\": \"Accuracy Chart\"}, \"width\": 700, \"xaxis\": {\"title\": {\"text\": \"Epochs\"}}, \"yaxis\": {\"title\": {\"text\": \"Acc\"}}},\n",
              "                        {\"responsive\": true}\n",
              "                    ).then(function(){\n",
              "                            \n",
              "var gd = document.getElementById('020a1225-d0ca-4724-b255-8fdf8f47ed12');\n",
              "var x = new MutationObserver(function (mutations, observer) {{\n",
              "        var display = window.getComputedStyle(gd).display;\n",
              "        if (!display || display === 'none') {{\n",
              "            console.log([gd, 'removed!']);\n",
              "            Plotly.purge(gd);\n",
              "            observer.disconnect();\n",
              "        }}\n",
              "}});\n",
              "\n",
              "// Listen for the removal of the full notebook cells\n",
              "var notebookContainer = gd.closest('#notebook-container');\n",
              "if (notebookContainer) {{\n",
              "    x.observe(notebookContainer, {childList: true});\n",
              "}}\n",
              "\n",
              "// Listen for the clearing of the current output cell\n",
              "var outputEl = gd.closest('.output');\n",
              "if (outputEl) {{\n",
              "    x.observe(outputEl, {childList: true});\n",
              "}}\n",
              "\n",
              "                        })\n",
              "                };\n",
              "                \n",
              "            </script>\n",
              "        </div>\n",
              "</body>\n",
              "</html>"
            ]
          },
          "metadata": {
            "tags": []
          }
        }
      ]
    },
    {
      "cell_type": "markdown",
      "metadata": {
        "id": "sktNybk5gJx8"
      },
      "source": [
        "### Adding weight Decay"
      ]
    },
    {
      "cell_type": "code",
      "metadata": {
        "colab": {
          "base_uri": "https://localhost:8080/"
        },
        "id": "beIVR2MkgSE5",
        "outputId": "30452f8d-4d28-4660-82bc-11cacd6b2333"
      },
      "source": [
        "# Test model using Inverted Dropout\n",
        "model = FFNN(784,[512,1024,128],[relu,celu,swish, softmax],10,init_method=torch.randn)\n",
        "model.to(\"cuda\")\n",
        "optimizer = SGD(model.parameters(), lr=1e-5, beta=1e-4)\n",
        "\n",
        "with torch.no_grad():\n",
        "  loss, acc = train(model, dataset_train, optimizer,epochs=20,batch_size=200,collate=custom_collate)\n",
        "  test_loss, test_acc = test(model,dataset_test,batch_size=200,collate=custom_collate)\n",
        "  \n",
        "  # Formatting results to plot\n",
        "  loss_data = {\n",
        "    \"x\": [x+1 for x in range(20)],\n",
        "    \"y\": loss,\n",
        "    \"name\": \"Dropout model Loss\"\n",
        "  }\n",
        "\n",
        "  acc_data = {\n",
        "    \"x\": [x+1 for x in range(20)],\n",
        "    \"y\": acc,\n",
        "    \"name\": \"Dropout model Acc\"\n",
        "  }"
      ],
      "execution_count": null,
      "outputs": [
        {
          "output_type": "stream",
          "text": [
            "/usr/local/lib/python3.6/dist-packages/torch/nn/modules/container.py:434: UserWarning:\n",
            "\n",
            "Setting attributes on ParameterList is not supported.\n",
            "\n"
          ],
          "name": "stderr"
        },
        {
          "output_type": "stream",
          "text": [
            "Epoch: 1 | Acc: 24.61% | loss: 13.884\n",
            "Epoch: 2 | Acc: 47.48% | loss: 9.668\n",
            "Epoch: 3 | Acc: 57.47% | loss: 7.827\n",
            "Epoch: 4 | Acc: 62.49% | loss: 6.901\n",
            "Epoch: 5 | Acc: 65.52% | loss: 6.343\n",
            "Epoch: 6 | Acc: 67.78% | loss: 5.925\n",
            "Epoch: 7 | Acc: 69.35% | loss: 5.637\n",
            "Epoch: 8 | Acc: 70.54% | loss: 5.414\n",
            "Epoch: 9 | Acc: 71.59% | loss: 5.216\n",
            "Epoch: 10 | Acc: 72.43% | loss: 5.065\n",
            "Epoch: 11 | Acc: 73.09% | loss: 4.937\n",
            "Epoch: 12 | Acc: 73.69% | loss: 4.828\n",
            "Epoch: 13 | Acc: 74.08% | loss: 4.751\n",
            "Epoch: 14 | Acc: 74.58% | loss: 4.655\n",
            "Epoch: 15 | Acc: 74.99% | loss: 4.575\n",
            "Epoch: 16 | Acc: 75.28% | loss: 4.520\n",
            "Epoch: 17 | Acc: 75.57% | loss: 4.458\n",
            "Epoch: 18 | Acc: 75.85% | loss: 4.405\n",
            "Epoch: 19 | Acc: 76.11% | loss: 4.345\n",
            "Epoch: 20 | Acc: 76.34% | loss: 4.303\n",
            "\n",
            "Test Results: Acc: 77.62% | loss: 4.071\n"
          ],
          "name": "stdout"
        }
      ]
    },
    {
      "cell_type": "code",
      "metadata": {
        "colab": {
          "base_uri": "https://localhost:8080/"
        },
        "id": "aF61yETlkigP",
        "outputId": "1a7642a7-5c33-41d2-811c-3440a3c8d232"
      },
      "source": [
        "# Weight Decay model test vs train metrics\n",
        "print(f\"Difference between best train loss and test loss: {abs(np.min(loss)-test_loss):.3f}\")\n",
        "print(f\"Difference between best train acc and test acc: {abs(np.max(acc)-test_acc)*100:.3f}%\\n\") \n",
        "plot_results([loss_data], [acc_data])"
      ],
      "execution_count": null,
      "outputs": [
        {
          "output_type": "stream",
          "text": [
            "Difference between best train loss and test loss: 0.232\n",
            "Difference between best train acc and test acc: 1.282%\n",
            "\n"
          ],
          "name": "stdout"
        },
        {
          "output_type": "display_data",
          "data": {
            "text/html": [
              "<html>\n",
              "<head><meta charset=\"utf-8\" /></head>\n",
              "<body>\n",
              "    <div>\n",
              "            <script src=\"https://cdnjs.cloudflare.com/ajax/libs/mathjax/2.7.5/MathJax.js?config=TeX-AMS-MML_SVG\"></script><script type=\"text/javascript\">if (window.MathJax) {MathJax.Hub.Config({SVG: {font: \"STIX-Web\"}});}</script>\n",
              "                <script type=\"text/javascript\">window.PlotlyConfig = {MathJaxConfig: 'local'};</script>\n",
              "        <script src=\"https://cdn.plot.ly/plotly-latest.min.js\"></script>    \n",
              "            <div id=\"51e9b914-1d58-4dbd-939c-2e72d752dfb4\" class=\"plotly-graph-div\" style=\"height:450px; width:700px;\"></div>\n",
              "            <script type=\"text/javascript\">\n",
              "                \n",
              "                    window.PLOTLYENV=window.PLOTLYENV || {};\n",
              "                    \n",
              "                if (document.getElementById(\"51e9b914-1d58-4dbd-939c-2e72d752dfb4\")) {\n",
              "                    Plotly.newPlot(\n",
              "                        '51e9b914-1d58-4dbd-939c-2e72d752dfb4',\n",
              "                        [{\"mode\": \"lines+markers\", \"name\": \"Dropout model Loss\", \"textposition\": \"bottom center\", \"type\": \"scatter\", \"x\": [1, 2, 3, 4, 5, 6, 7, 8, 9, 10, 11, 12, 13, 14, 15, 16, 17, 18, 19, 20], \"y\": [13.883520657221476, 9.667730210622151, 7.827396607398987, 6.900972830454509, 6.342768189112345, 5.924501276016236, 5.636525224844615, 5.414466859499614, 5.216489466826121, 5.064594140052795, 4.9371470697720845, 4.827984940210978, 4.751468753814697, 4.654904176394145, 4.5754714544614155, 4.519886085192362, 4.4584312931696575, 4.404671673774719, 4.345340135097504, 4.302963553269704]}],\n",
              "                        {\"autosize\": false, \"font\": {\"color\": \"#7f7f7f\", \"family\": \"Courier New, monospace\", \"size\": 14}, \"height\": 450, \"template\": {\"data\": {\"bar\": [{\"error_x\": {\"color\": \"#2a3f5f\"}, \"error_y\": {\"color\": \"#2a3f5f\"}, \"marker\": {\"line\": {\"color\": \"#E5ECF6\", \"width\": 0.5}}, \"type\": \"bar\"}], \"barpolar\": [{\"marker\": {\"line\": {\"color\": \"#E5ECF6\", \"width\": 0.5}}, \"type\": \"barpolar\"}], \"carpet\": [{\"aaxis\": {\"endlinecolor\": \"#2a3f5f\", \"gridcolor\": \"white\", \"linecolor\": \"white\", \"minorgridcolor\": \"white\", \"startlinecolor\": \"#2a3f5f\"}, \"baxis\": {\"endlinecolor\": \"#2a3f5f\", \"gridcolor\": \"white\", \"linecolor\": \"white\", \"minorgridcolor\": \"white\", \"startlinecolor\": \"#2a3f5f\"}, \"type\": \"carpet\"}], \"choropleth\": [{\"colorbar\": {\"outlinewidth\": 0, \"ticks\": \"\"}, \"type\": \"choropleth\"}], \"contour\": [{\"colorbar\": {\"outlinewidth\": 0, \"ticks\": \"\"}, \"colorscale\": [[0.0, \"#0d0887\"], [0.1111111111111111, \"#46039f\"], [0.2222222222222222, \"#7201a8\"], [0.3333333333333333, \"#9c179e\"], [0.4444444444444444, \"#bd3786\"], [0.5555555555555556, \"#d8576b\"], [0.6666666666666666, \"#ed7953\"], [0.7777777777777778, \"#fb9f3a\"], [0.8888888888888888, \"#fdca26\"], [1.0, \"#f0f921\"]], \"type\": \"contour\"}], \"contourcarpet\": [{\"colorbar\": {\"outlinewidth\": 0, \"ticks\": \"\"}, \"type\": \"contourcarpet\"}], \"heatmap\": [{\"colorbar\": {\"outlinewidth\": 0, \"ticks\": \"\"}, \"colorscale\": [[0.0, \"#0d0887\"], [0.1111111111111111, \"#46039f\"], [0.2222222222222222, \"#7201a8\"], [0.3333333333333333, \"#9c179e\"], [0.4444444444444444, \"#bd3786\"], [0.5555555555555556, \"#d8576b\"], [0.6666666666666666, \"#ed7953\"], [0.7777777777777778, \"#fb9f3a\"], [0.8888888888888888, \"#fdca26\"], [1.0, \"#f0f921\"]], \"type\": \"heatmap\"}], \"heatmapgl\": [{\"colorbar\": {\"outlinewidth\": 0, \"ticks\": \"\"}, \"colorscale\": [[0.0, \"#0d0887\"], [0.1111111111111111, \"#46039f\"], [0.2222222222222222, \"#7201a8\"], [0.3333333333333333, \"#9c179e\"], [0.4444444444444444, \"#bd3786\"], [0.5555555555555556, \"#d8576b\"], [0.6666666666666666, \"#ed7953\"], [0.7777777777777778, \"#fb9f3a\"], [0.8888888888888888, \"#fdca26\"], [1.0, \"#f0f921\"]], \"type\": \"heatmapgl\"}], \"histogram\": [{\"marker\": {\"colorbar\": {\"outlinewidth\": 0, \"ticks\": \"\"}}, \"type\": \"histogram\"}], \"histogram2d\": [{\"colorbar\": {\"outlinewidth\": 0, \"ticks\": \"\"}, \"colorscale\": [[0.0, \"#0d0887\"], [0.1111111111111111, \"#46039f\"], [0.2222222222222222, \"#7201a8\"], [0.3333333333333333, \"#9c179e\"], [0.4444444444444444, \"#bd3786\"], [0.5555555555555556, \"#d8576b\"], [0.6666666666666666, \"#ed7953\"], [0.7777777777777778, \"#fb9f3a\"], [0.8888888888888888, \"#fdca26\"], [1.0, \"#f0f921\"]], \"type\": \"histogram2d\"}], \"histogram2dcontour\": [{\"colorbar\": {\"outlinewidth\": 0, \"ticks\": \"\"}, \"colorscale\": [[0.0, \"#0d0887\"], [0.1111111111111111, \"#46039f\"], [0.2222222222222222, \"#7201a8\"], [0.3333333333333333, \"#9c179e\"], [0.4444444444444444, \"#bd3786\"], [0.5555555555555556, \"#d8576b\"], [0.6666666666666666, \"#ed7953\"], [0.7777777777777778, \"#fb9f3a\"], [0.8888888888888888, \"#fdca26\"], [1.0, \"#f0f921\"]], \"type\": \"histogram2dcontour\"}], \"mesh3d\": [{\"colorbar\": {\"outlinewidth\": 0, \"ticks\": \"\"}, \"type\": \"mesh3d\"}], \"parcoords\": [{\"line\": {\"colorbar\": {\"outlinewidth\": 0, \"ticks\": \"\"}}, \"type\": \"parcoords\"}], \"pie\": [{\"automargin\": true, \"type\": \"pie\"}], \"scatter\": [{\"marker\": {\"colorbar\": {\"outlinewidth\": 0, \"ticks\": \"\"}}, \"type\": \"scatter\"}], \"scatter3d\": [{\"line\": {\"colorbar\": {\"outlinewidth\": 0, \"ticks\": \"\"}}, \"marker\": {\"colorbar\": {\"outlinewidth\": 0, \"ticks\": \"\"}}, \"type\": \"scatter3d\"}], \"scattercarpet\": [{\"marker\": {\"colorbar\": {\"outlinewidth\": 0, \"ticks\": \"\"}}, \"type\": \"scattercarpet\"}], \"scattergeo\": [{\"marker\": {\"colorbar\": {\"outlinewidth\": 0, \"ticks\": \"\"}}, \"type\": \"scattergeo\"}], \"scattergl\": [{\"marker\": {\"colorbar\": {\"outlinewidth\": 0, \"ticks\": \"\"}}, \"type\": \"scattergl\"}], \"scattermapbox\": [{\"marker\": {\"colorbar\": {\"outlinewidth\": 0, \"ticks\": \"\"}}, \"type\": \"scattermapbox\"}], \"scatterpolar\": [{\"marker\": {\"colorbar\": {\"outlinewidth\": 0, \"ticks\": \"\"}}, \"type\": \"scatterpolar\"}], \"scatterpolargl\": [{\"marker\": {\"colorbar\": {\"outlinewidth\": 0, \"ticks\": \"\"}}, \"type\": \"scatterpolargl\"}], \"scatterternary\": [{\"marker\": {\"colorbar\": {\"outlinewidth\": 0, \"ticks\": \"\"}}, \"type\": \"scatterternary\"}], \"surface\": [{\"colorbar\": {\"outlinewidth\": 0, \"ticks\": \"\"}, \"colorscale\": [[0.0, \"#0d0887\"], [0.1111111111111111, \"#46039f\"], [0.2222222222222222, \"#7201a8\"], [0.3333333333333333, \"#9c179e\"], [0.4444444444444444, \"#bd3786\"], [0.5555555555555556, \"#d8576b\"], [0.6666666666666666, \"#ed7953\"], [0.7777777777777778, \"#fb9f3a\"], [0.8888888888888888, \"#fdca26\"], [1.0, \"#f0f921\"]], \"type\": \"surface\"}], \"table\": [{\"cells\": {\"fill\": {\"color\": \"#EBF0F8\"}, \"line\": {\"color\": \"white\"}}, \"header\": {\"fill\": {\"color\": \"#C8D4E3\"}, \"line\": {\"color\": \"white\"}}, \"type\": \"table\"}]}, \"layout\": {\"annotationdefaults\": {\"arrowcolor\": \"#2a3f5f\", \"arrowhead\": 0, \"arrowwidth\": 1}, \"coloraxis\": {\"colorbar\": {\"outlinewidth\": 0, \"ticks\": \"\"}}, \"colorscale\": {\"diverging\": [[0, \"#8e0152\"], [0.1, \"#c51b7d\"], [0.2, \"#de77ae\"], [0.3, \"#f1b6da\"], [0.4, \"#fde0ef\"], [0.5, \"#f7f7f7\"], [0.6, \"#e6f5d0\"], [0.7, \"#b8e186\"], [0.8, \"#7fbc41\"], [0.9, \"#4d9221\"], [1, \"#276419\"]], \"sequential\": [[0.0, \"#0d0887\"], [0.1111111111111111, \"#46039f\"], [0.2222222222222222, \"#7201a8\"], [0.3333333333333333, \"#9c179e\"], [0.4444444444444444, \"#bd3786\"], [0.5555555555555556, \"#d8576b\"], [0.6666666666666666, \"#ed7953\"], [0.7777777777777778, \"#fb9f3a\"], [0.8888888888888888, \"#fdca26\"], [1.0, \"#f0f921\"]], \"sequentialminus\": [[0.0, \"#0d0887\"], [0.1111111111111111, \"#46039f\"], [0.2222222222222222, \"#7201a8\"], [0.3333333333333333, \"#9c179e\"], [0.4444444444444444, \"#bd3786\"], [0.5555555555555556, \"#d8576b\"], [0.6666666666666666, \"#ed7953\"], [0.7777777777777778, \"#fb9f3a\"], [0.8888888888888888, \"#fdca26\"], [1.0, \"#f0f921\"]]}, \"colorway\": [\"#636efa\", \"#EF553B\", \"#00cc96\", \"#ab63fa\", \"#FFA15A\", \"#19d3f3\", \"#FF6692\", \"#B6E880\", \"#FF97FF\", \"#FECB52\"], \"font\": {\"color\": \"#2a3f5f\"}, \"geo\": {\"bgcolor\": \"white\", \"lakecolor\": \"white\", \"landcolor\": \"#E5ECF6\", \"showlakes\": true, \"showland\": true, \"subunitcolor\": \"white\"}, \"hoverlabel\": {\"align\": \"left\"}, \"hovermode\": \"closest\", \"mapbox\": {\"style\": \"light\"}, \"paper_bgcolor\": \"white\", \"plot_bgcolor\": \"#E5ECF6\", \"polar\": {\"angularaxis\": {\"gridcolor\": \"white\", \"linecolor\": \"white\", \"ticks\": \"\"}, \"bgcolor\": \"#E5ECF6\", \"radialaxis\": {\"gridcolor\": \"white\", \"linecolor\": \"white\", \"ticks\": \"\"}}, \"scene\": {\"xaxis\": {\"backgroundcolor\": \"#E5ECF6\", \"gridcolor\": \"white\", \"gridwidth\": 2, \"linecolor\": \"white\", \"showbackground\": true, \"ticks\": \"\", \"zerolinecolor\": \"white\"}, \"yaxis\": {\"backgroundcolor\": \"#E5ECF6\", \"gridcolor\": \"white\", \"gridwidth\": 2, \"linecolor\": \"white\", \"showbackground\": true, \"ticks\": \"\", \"zerolinecolor\": \"white\"}, \"zaxis\": {\"backgroundcolor\": \"#E5ECF6\", \"gridcolor\": \"white\", \"gridwidth\": 2, \"linecolor\": \"white\", \"showbackground\": true, \"ticks\": \"\", \"zerolinecolor\": \"white\"}}, \"shapedefaults\": {\"line\": {\"color\": \"#2a3f5f\"}}, \"ternary\": {\"aaxis\": {\"gridcolor\": \"white\", \"linecolor\": \"white\", \"ticks\": \"\"}, \"baxis\": {\"gridcolor\": \"white\", \"linecolor\": \"white\", \"ticks\": \"\"}, \"bgcolor\": \"#E5ECF6\", \"caxis\": {\"gridcolor\": \"white\", \"linecolor\": \"white\", \"ticks\": \"\"}}, \"title\": {\"x\": 0.05}, \"xaxis\": {\"automargin\": true, \"gridcolor\": \"white\", \"linecolor\": \"white\", \"ticks\": \"\", \"title\": {\"standoff\": 15}, \"zerolinecolor\": \"white\", \"zerolinewidth\": 2}, \"yaxis\": {\"automargin\": true, \"gridcolor\": \"white\", \"linecolor\": \"white\", \"ticks\": \"\", \"title\": {\"standoff\": 15}, \"zerolinecolor\": \"white\", \"zerolinewidth\": 2}}}, \"title\": {\"text\": \"Loss Chart\"}, \"width\": 700, \"xaxis\": {\"title\": {\"text\": \"Epochs\"}}, \"yaxis\": {\"title\": {\"text\": \"Loss\"}}},\n",
              "                        {\"responsive\": true}\n",
              "                    ).then(function(){\n",
              "                            \n",
              "var gd = document.getElementById('51e9b914-1d58-4dbd-939c-2e72d752dfb4');\n",
              "var x = new MutationObserver(function (mutations, observer) {{\n",
              "        var display = window.getComputedStyle(gd).display;\n",
              "        if (!display || display === 'none') {{\n",
              "            console.log([gd, 'removed!']);\n",
              "            Plotly.purge(gd);\n",
              "            observer.disconnect();\n",
              "        }}\n",
              "}});\n",
              "\n",
              "// Listen for the removal of the full notebook cells\n",
              "var notebookContainer = gd.closest('#notebook-container');\n",
              "if (notebookContainer) {{\n",
              "    x.observe(notebookContainer, {childList: true});\n",
              "}}\n",
              "\n",
              "// Listen for the clearing of the current output cell\n",
              "var outputEl = gd.closest('.output');\n",
              "if (outputEl) {{\n",
              "    x.observe(outputEl, {childList: true});\n",
              "}}\n",
              "\n",
              "                        })\n",
              "                };\n",
              "                \n",
              "            </script>\n",
              "        </div>\n",
              "</body>\n",
              "</html>"
            ]
          },
          "metadata": {
            "tags": []
          }
        },
        {
          "output_type": "stream",
          "text": [
            "\n",
            "\n"
          ],
          "name": "stdout"
        },
        {
          "output_type": "display_data",
          "data": {
            "text/html": [
              "<html>\n",
              "<head><meta charset=\"utf-8\" /></head>\n",
              "<body>\n",
              "    <div>\n",
              "            <script src=\"https://cdnjs.cloudflare.com/ajax/libs/mathjax/2.7.5/MathJax.js?config=TeX-AMS-MML_SVG\"></script><script type=\"text/javascript\">if (window.MathJax) {MathJax.Hub.Config({SVG: {font: \"STIX-Web\"}});}</script>\n",
              "                <script type=\"text/javascript\">window.PlotlyConfig = {MathJaxConfig: 'local'};</script>\n",
              "        <script src=\"https://cdn.plot.ly/plotly-latest.min.js\"></script>    \n",
              "            <div id=\"f5649bc1-59fc-418c-893b-f0095808791a\" class=\"plotly-graph-div\" style=\"height:450px; width:700px;\"></div>\n",
              "            <script type=\"text/javascript\">\n",
              "                \n",
              "                    window.PLOTLYENV=window.PLOTLYENV || {};\n",
              "                    \n",
              "                if (document.getElementById(\"f5649bc1-59fc-418c-893b-f0095808791a\")) {\n",
              "                    Plotly.newPlot(\n",
              "                        'f5649bc1-59fc-418c-893b-f0095808791a',\n",
              "                        [{\"mode\": \"lines+markers\", \"name\": \"Dropout model Acc\", \"textposition\": \"bottom center\", \"type\": \"scatter\", \"x\": [1, 2, 3, 4, 5, 6, 7, 8, 9, 10, 11, 12, 13, 14, 15, 16, 17, 18, 19, 20], \"y\": [0.2461, 0.47481666666666666, 0.5747166666666667, 0.6249333333333333, 0.6552, 0.6778333333333333, 0.6934833333333333, 0.7053833333333334, 0.7158666666666667, 0.7242666666666666, 0.7308833333333333, 0.7368666666666667, 0.7408333333333333, 0.7458333333333333, 0.7499166666666667, 0.7528166666666667, 0.7557333333333334, 0.7585, 0.7611333333333333, 0.7633833333333333]}],\n",
              "                        {\"autosize\": false, \"font\": {\"color\": \"#7f7f7f\", \"family\": \"Courier New, monospace\", \"size\": 14}, \"height\": 450, \"template\": {\"data\": {\"bar\": [{\"error_x\": {\"color\": \"#2a3f5f\"}, \"error_y\": {\"color\": \"#2a3f5f\"}, \"marker\": {\"line\": {\"color\": \"#E5ECF6\", \"width\": 0.5}}, \"type\": \"bar\"}], \"barpolar\": [{\"marker\": {\"line\": {\"color\": \"#E5ECF6\", \"width\": 0.5}}, \"type\": \"barpolar\"}], \"carpet\": [{\"aaxis\": {\"endlinecolor\": \"#2a3f5f\", \"gridcolor\": \"white\", \"linecolor\": \"white\", \"minorgridcolor\": \"white\", \"startlinecolor\": \"#2a3f5f\"}, \"baxis\": {\"endlinecolor\": \"#2a3f5f\", \"gridcolor\": \"white\", \"linecolor\": \"white\", \"minorgridcolor\": \"white\", \"startlinecolor\": \"#2a3f5f\"}, \"type\": \"carpet\"}], \"choropleth\": [{\"colorbar\": {\"outlinewidth\": 0, \"ticks\": \"\"}, \"type\": \"choropleth\"}], \"contour\": [{\"colorbar\": {\"outlinewidth\": 0, \"ticks\": \"\"}, \"colorscale\": [[0.0, \"#0d0887\"], [0.1111111111111111, \"#46039f\"], [0.2222222222222222, \"#7201a8\"], [0.3333333333333333, \"#9c179e\"], [0.4444444444444444, \"#bd3786\"], [0.5555555555555556, \"#d8576b\"], [0.6666666666666666, \"#ed7953\"], [0.7777777777777778, \"#fb9f3a\"], [0.8888888888888888, \"#fdca26\"], [1.0, \"#f0f921\"]], \"type\": \"contour\"}], \"contourcarpet\": [{\"colorbar\": {\"outlinewidth\": 0, \"ticks\": \"\"}, \"type\": \"contourcarpet\"}], \"heatmap\": [{\"colorbar\": {\"outlinewidth\": 0, \"ticks\": \"\"}, \"colorscale\": [[0.0, \"#0d0887\"], [0.1111111111111111, \"#46039f\"], [0.2222222222222222, \"#7201a8\"], [0.3333333333333333, \"#9c179e\"], [0.4444444444444444, \"#bd3786\"], [0.5555555555555556, \"#d8576b\"], [0.6666666666666666, \"#ed7953\"], [0.7777777777777778, \"#fb9f3a\"], [0.8888888888888888, \"#fdca26\"], [1.0, \"#f0f921\"]], \"type\": \"heatmap\"}], \"heatmapgl\": [{\"colorbar\": {\"outlinewidth\": 0, \"ticks\": \"\"}, \"colorscale\": [[0.0, \"#0d0887\"], [0.1111111111111111, \"#46039f\"], [0.2222222222222222, \"#7201a8\"], [0.3333333333333333, \"#9c179e\"], [0.4444444444444444, \"#bd3786\"], [0.5555555555555556, \"#d8576b\"], [0.6666666666666666, \"#ed7953\"], [0.7777777777777778, \"#fb9f3a\"], [0.8888888888888888, \"#fdca26\"], [1.0, \"#f0f921\"]], \"type\": \"heatmapgl\"}], \"histogram\": [{\"marker\": {\"colorbar\": {\"outlinewidth\": 0, \"ticks\": \"\"}}, \"type\": \"histogram\"}], \"histogram2d\": [{\"colorbar\": {\"outlinewidth\": 0, \"ticks\": \"\"}, \"colorscale\": [[0.0, \"#0d0887\"], [0.1111111111111111, \"#46039f\"], [0.2222222222222222, \"#7201a8\"], [0.3333333333333333, \"#9c179e\"], [0.4444444444444444, \"#bd3786\"], [0.5555555555555556, \"#d8576b\"], [0.6666666666666666, \"#ed7953\"], [0.7777777777777778, \"#fb9f3a\"], [0.8888888888888888, \"#fdca26\"], [1.0, \"#f0f921\"]], \"type\": \"histogram2d\"}], \"histogram2dcontour\": [{\"colorbar\": {\"outlinewidth\": 0, \"ticks\": \"\"}, \"colorscale\": [[0.0, \"#0d0887\"], [0.1111111111111111, \"#46039f\"], [0.2222222222222222, \"#7201a8\"], [0.3333333333333333, \"#9c179e\"], [0.4444444444444444, \"#bd3786\"], [0.5555555555555556, \"#d8576b\"], [0.6666666666666666, \"#ed7953\"], [0.7777777777777778, \"#fb9f3a\"], [0.8888888888888888, \"#fdca26\"], [1.0, \"#f0f921\"]], \"type\": \"histogram2dcontour\"}], \"mesh3d\": [{\"colorbar\": {\"outlinewidth\": 0, \"ticks\": \"\"}, \"type\": \"mesh3d\"}], \"parcoords\": [{\"line\": {\"colorbar\": {\"outlinewidth\": 0, \"ticks\": \"\"}}, \"type\": \"parcoords\"}], \"pie\": [{\"automargin\": true, \"type\": \"pie\"}], \"scatter\": [{\"marker\": {\"colorbar\": {\"outlinewidth\": 0, \"ticks\": \"\"}}, \"type\": \"scatter\"}], \"scatter3d\": [{\"line\": {\"colorbar\": {\"outlinewidth\": 0, \"ticks\": \"\"}}, \"marker\": {\"colorbar\": {\"outlinewidth\": 0, \"ticks\": \"\"}}, \"type\": \"scatter3d\"}], \"scattercarpet\": [{\"marker\": {\"colorbar\": {\"outlinewidth\": 0, \"ticks\": \"\"}}, \"type\": \"scattercarpet\"}], \"scattergeo\": [{\"marker\": {\"colorbar\": {\"outlinewidth\": 0, \"ticks\": \"\"}}, \"type\": \"scattergeo\"}], \"scattergl\": [{\"marker\": {\"colorbar\": {\"outlinewidth\": 0, \"ticks\": \"\"}}, \"type\": \"scattergl\"}], \"scattermapbox\": [{\"marker\": {\"colorbar\": {\"outlinewidth\": 0, \"ticks\": \"\"}}, \"type\": \"scattermapbox\"}], \"scatterpolar\": [{\"marker\": {\"colorbar\": {\"outlinewidth\": 0, \"ticks\": \"\"}}, \"type\": \"scatterpolar\"}], \"scatterpolargl\": [{\"marker\": {\"colorbar\": {\"outlinewidth\": 0, \"ticks\": \"\"}}, \"type\": \"scatterpolargl\"}], \"scatterternary\": [{\"marker\": {\"colorbar\": {\"outlinewidth\": 0, \"ticks\": \"\"}}, \"type\": \"scatterternary\"}], \"surface\": [{\"colorbar\": {\"outlinewidth\": 0, \"ticks\": \"\"}, \"colorscale\": [[0.0, \"#0d0887\"], [0.1111111111111111, \"#46039f\"], [0.2222222222222222, \"#7201a8\"], [0.3333333333333333, \"#9c179e\"], [0.4444444444444444, \"#bd3786\"], [0.5555555555555556, \"#d8576b\"], [0.6666666666666666, \"#ed7953\"], [0.7777777777777778, \"#fb9f3a\"], [0.8888888888888888, \"#fdca26\"], [1.0, \"#f0f921\"]], \"type\": \"surface\"}], \"table\": [{\"cells\": {\"fill\": {\"color\": \"#EBF0F8\"}, \"line\": {\"color\": \"white\"}}, \"header\": {\"fill\": {\"color\": \"#C8D4E3\"}, \"line\": {\"color\": \"white\"}}, \"type\": \"table\"}]}, \"layout\": {\"annotationdefaults\": {\"arrowcolor\": \"#2a3f5f\", \"arrowhead\": 0, \"arrowwidth\": 1}, \"coloraxis\": {\"colorbar\": {\"outlinewidth\": 0, \"ticks\": \"\"}}, \"colorscale\": {\"diverging\": [[0, \"#8e0152\"], [0.1, \"#c51b7d\"], [0.2, \"#de77ae\"], [0.3, \"#f1b6da\"], [0.4, \"#fde0ef\"], [0.5, \"#f7f7f7\"], [0.6, \"#e6f5d0\"], [0.7, \"#b8e186\"], [0.8, \"#7fbc41\"], [0.9, \"#4d9221\"], [1, \"#276419\"]], \"sequential\": [[0.0, \"#0d0887\"], [0.1111111111111111, \"#46039f\"], [0.2222222222222222, \"#7201a8\"], [0.3333333333333333, \"#9c179e\"], [0.4444444444444444, \"#bd3786\"], [0.5555555555555556, \"#d8576b\"], [0.6666666666666666, \"#ed7953\"], [0.7777777777777778, \"#fb9f3a\"], [0.8888888888888888, \"#fdca26\"], [1.0, \"#f0f921\"]], \"sequentialminus\": [[0.0, \"#0d0887\"], [0.1111111111111111, \"#46039f\"], [0.2222222222222222, \"#7201a8\"], [0.3333333333333333, \"#9c179e\"], [0.4444444444444444, \"#bd3786\"], [0.5555555555555556, \"#d8576b\"], [0.6666666666666666, \"#ed7953\"], [0.7777777777777778, \"#fb9f3a\"], [0.8888888888888888, \"#fdca26\"], [1.0, \"#f0f921\"]]}, \"colorway\": [\"#636efa\", \"#EF553B\", \"#00cc96\", \"#ab63fa\", \"#FFA15A\", \"#19d3f3\", \"#FF6692\", \"#B6E880\", \"#FF97FF\", \"#FECB52\"], \"font\": {\"color\": \"#2a3f5f\"}, \"geo\": {\"bgcolor\": \"white\", \"lakecolor\": \"white\", \"landcolor\": \"#E5ECF6\", \"showlakes\": true, \"showland\": true, \"subunitcolor\": \"white\"}, \"hoverlabel\": {\"align\": \"left\"}, \"hovermode\": \"closest\", \"mapbox\": {\"style\": \"light\"}, \"paper_bgcolor\": \"white\", \"plot_bgcolor\": \"#E5ECF6\", \"polar\": {\"angularaxis\": {\"gridcolor\": \"white\", \"linecolor\": \"white\", \"ticks\": \"\"}, \"bgcolor\": \"#E5ECF6\", \"radialaxis\": {\"gridcolor\": \"white\", \"linecolor\": \"white\", \"ticks\": \"\"}}, \"scene\": {\"xaxis\": {\"backgroundcolor\": \"#E5ECF6\", \"gridcolor\": \"white\", \"gridwidth\": 2, \"linecolor\": \"white\", \"showbackground\": true, \"ticks\": \"\", \"zerolinecolor\": \"white\"}, \"yaxis\": {\"backgroundcolor\": \"#E5ECF6\", \"gridcolor\": \"white\", \"gridwidth\": 2, \"linecolor\": \"white\", \"showbackground\": true, \"ticks\": \"\", \"zerolinecolor\": \"white\"}, \"zaxis\": {\"backgroundcolor\": \"#E5ECF6\", \"gridcolor\": \"white\", \"gridwidth\": 2, \"linecolor\": \"white\", \"showbackground\": true, \"ticks\": \"\", \"zerolinecolor\": \"white\"}}, \"shapedefaults\": {\"line\": {\"color\": \"#2a3f5f\"}}, \"ternary\": {\"aaxis\": {\"gridcolor\": \"white\", \"linecolor\": \"white\", \"ticks\": \"\"}, \"baxis\": {\"gridcolor\": \"white\", \"linecolor\": \"white\", \"ticks\": \"\"}, \"bgcolor\": \"#E5ECF6\", \"caxis\": {\"gridcolor\": \"white\", \"linecolor\": \"white\", \"ticks\": \"\"}}, \"title\": {\"x\": 0.05}, \"xaxis\": {\"automargin\": true, \"gridcolor\": \"white\", \"linecolor\": \"white\", \"ticks\": \"\", \"title\": {\"standoff\": 15}, \"zerolinecolor\": \"white\", \"zerolinewidth\": 2}, \"yaxis\": {\"automargin\": true, \"gridcolor\": \"white\", \"linecolor\": \"white\", \"ticks\": \"\", \"title\": {\"standoff\": 15}, \"zerolinecolor\": \"white\", \"zerolinewidth\": 2}}}, \"title\": {\"text\": \"Accuracy Chart\"}, \"width\": 700, \"xaxis\": {\"title\": {\"text\": \"Epochs\"}}, \"yaxis\": {\"title\": {\"text\": \"Acc\"}}},\n",
              "                        {\"responsive\": true}\n",
              "                    ).then(function(){\n",
              "                            \n",
              "var gd = document.getElementById('f5649bc1-59fc-418c-893b-f0095808791a');\n",
              "var x = new MutationObserver(function (mutations, observer) {{\n",
              "        var display = window.getComputedStyle(gd).display;\n",
              "        if (!display || display === 'none') {{\n",
              "            console.log([gd, 'removed!']);\n",
              "            Plotly.purge(gd);\n",
              "            observer.disconnect();\n",
              "        }}\n",
              "}});\n",
              "\n",
              "// Listen for the removal of the full notebook cells\n",
              "var notebookContainer = gd.closest('#notebook-container');\n",
              "if (notebookContainer) {{\n",
              "    x.observe(notebookContainer, {childList: true});\n",
              "}}\n",
              "\n",
              "// Listen for the clearing of the current output cell\n",
              "var outputEl = gd.closest('.output');\n",
              "if (outputEl) {{\n",
              "    x.observe(outputEl, {childList: true});\n",
              "}}\n",
              "\n",
              "                        })\n",
              "                };\n",
              "                \n",
              "            </script>\n",
              "        </div>\n",
              "</body>\n",
              "</html>"
            ]
          },
          "metadata": {
            "tags": []
          }
        }
      ]
    },
    {
      "cell_type": "markdown",
      "metadata": {
        "id": "89fUJTfDlgXk"
      },
      "source": [
        "### Combining Inverted Dropout + Weight Decay"
      ]
    },
    {
      "cell_type": "code",
      "metadata": {
        "colab": {
          "base_uri": "https://localhost:8080/"
        },
        "id": "KUyx-nEZlpls",
        "outputId": "8ecd331c-c228-42ed-8408-47bfbfa3f283"
      },
      "source": [
        "# Test model using Inverted Dropout + Weight Decay\n",
        "model = FFNN(784,[512,1024,128],[relu,celu,swish, softmax],10,init_method=torch.randn,keep_prob=[1.0,0.8,0.8,0.9])\n",
        "model.to(\"cuda\")\n",
        "optimizer = SGD(model.parameters(), lr=1e-5, beta=1e-5)\n",
        "\n",
        "with torch.no_grad():\n",
        "  loss, acc = train(model, dataset_train, optimizer,epochs=30,batch_size=200,collate=custom_collate)\n",
        "  test_loss, test_acc = test(model,dataset_test,batch_size=200,collate=custom_collate)\n",
        "  \n",
        "  # Formatting results to plot\n",
        "  loss_data = {\n",
        "    \"x\": [x+1 for x in range(30)],\n",
        "    \"y\": loss,\n",
        "    \"name\": \"Dropout model Loss\"\n",
        "  }\n",
        "\n",
        "  acc_data = {\n",
        "    \"x\": [x+1 for x in range(30)],\n",
        "    \"y\": acc,\n",
        "    \"name\": \"Dropout model Acc\"\n",
        "  }\n"
      ],
      "execution_count": null,
      "outputs": [
        {
          "output_type": "stream",
          "text": [
            "/usr/local/lib/python3.6/dist-packages/torch/nn/modules/container.py:434: UserWarning:\n",
            "\n",
            "Setting attributes on ParameterList is not supported.\n",
            "\n"
          ],
          "name": "stderr"
        },
        {
          "output_type": "stream",
          "text": [
            "Epoch: 1 | Acc: 19.73% | loss: 8.753\n",
            "Epoch: 2 | Acc: 33.70% | loss: 6.251\n",
            "Epoch: 3 | Acc: 39.70% | loss: 5.140\n",
            "Epoch: 4 | Acc: 43.01% | loss: 4.502\n",
            "Epoch: 5 | Acc: 45.56% | loss: 4.089\n",
            "Epoch: 6 | Acc: 46.66% | loss: 3.845\n",
            "Epoch: 7 | Acc: 48.38% | loss: 3.625\n",
            "Epoch: 8 | Acc: 49.01% | loss: 3.418\n",
            "Epoch: 9 | Acc: 49.73% | loss: 3.309\n",
            "Epoch: 10 | Acc: 50.52% | loss: 3.210\n",
            "Epoch: 11 | Acc: 50.76% | loss: 3.129\n",
            "Epoch: 12 | Acc: 50.97% | loss: 3.063\n",
            "Epoch: 13 | Acc: 51.86% | loss: 2.938\n",
            "Epoch: 14 | Acc: 52.02% | loss: 2.901\n",
            "Epoch: 15 | Acc: 52.20% | loss: 2.873\n",
            "Epoch: 16 | Acc: 52.29% | loss: 2.840\n",
            "Epoch: 17 | Acc: 52.39% | loss: 2.794\n",
            "Epoch: 18 | Acc: 52.81% | loss: 2.762\n",
            "Epoch: 19 | Acc: 52.64% | loss: 2.733\n",
            "Epoch: 20 | Acc: 53.05% | loss: 2.683\n",
            "Epoch: 21 | Acc: 53.16% | loss: 2.696\n",
            "Epoch: 22 | Acc: 52.85% | loss: 2.667\n",
            "Epoch: 23 | Acc: 53.43% | loss: 2.622\n",
            "Epoch: 24 | Acc: 53.30% | loss: 2.594\n",
            "Epoch: 25 | Acc: 53.65% | loss: 2.621\n",
            "Epoch: 26 | Acc: 53.74% | loss: 2.575\n",
            "Epoch: 27 | Acc: 53.75% | loss: 2.563\n",
            "Epoch: 28 | Acc: 53.78% | loss: 2.567\n",
            "Epoch: 29 | Acc: 53.90% | loss: 2.540\n",
            "Epoch: 30 | Acc: 53.87% | loss: 2.545\n",
            "\n",
            "Test Results: Acc: 85.67% | loss: 2.637\n"
          ],
          "name": "stdout"
        }
      ]
    },
    {
      "cell_type": "code",
      "metadata": {
        "colab": {
          "base_uri": "https://localhost:8080/"
        },
        "id": "ZAPBPg11lv9I",
        "outputId": "a8c093da-b57c-419d-ae44-372e9a023ae3"
      },
      "source": [
        "# Inverted Dropout + Weight Decay model test vs train metrics\n",
        "print(f\"Difference between best train loss and test loss: {abs(np.min(loss)-test_loss):.3f}\")\n",
        "print(f\"Difference between best train acc and test acc: {abs(np.max(acc)-test_acc)*100:.3f}%\\n\") \n",
        "plot_results([loss_data], [acc_data])"
      ],
      "execution_count": null,
      "outputs": [
        {
          "output_type": "stream",
          "text": [
            "Difference between best train loss and test loss: 0.097\n",
            "Difference between best train acc and test acc: 31.770%\n",
            "\n"
          ],
          "name": "stdout"
        },
        {
          "output_type": "display_data",
          "data": {
            "text/html": [
              "<html>\n",
              "<head><meta charset=\"utf-8\" /></head>\n",
              "<body>\n",
              "    <div>\n",
              "            <script src=\"https://cdnjs.cloudflare.com/ajax/libs/mathjax/2.7.5/MathJax.js?config=TeX-AMS-MML_SVG\"></script><script type=\"text/javascript\">if (window.MathJax) {MathJax.Hub.Config({SVG: {font: \"STIX-Web\"}});}</script>\n",
              "                <script type=\"text/javascript\">window.PlotlyConfig = {MathJaxConfig: 'local'};</script>\n",
              "        <script src=\"https://cdn.plot.ly/plotly-latest.min.js\"></script>    \n",
              "            <div id=\"ba889acf-2cda-4b0d-9a65-c4785681b40f\" class=\"plotly-graph-div\" style=\"height:450px; width:700px;\"></div>\n",
              "            <script type=\"text/javascript\">\n",
              "                \n",
              "                    window.PLOTLYENV=window.PLOTLYENV || {};\n",
              "                    \n",
              "                if (document.getElementById(\"ba889acf-2cda-4b0d-9a65-c4785681b40f\")) {\n",
              "                    Plotly.newPlot(\n",
              "                        'ba889acf-2cda-4b0d-9a65-c4785681b40f',\n",
              "                        [{\"mode\": \"lines+markers\", \"name\": \"Dropout model Loss\", \"textposition\": \"bottom center\", \"type\": \"scatter\", \"x\": [1, 2, 3, 4, 5, 6, 7, 8, 9, 10, 11, 12, 13, 14, 15, 16, 17, 18, 19, 20, 21, 22, 23, 24, 25, 26, 27, 28, 29, 30], \"y\": [8.753060736656188, 6.250605511665344, 5.139944571654001, 4.502331936359406, 4.089396069844564, 3.844772350788116, 3.62495196501414, 3.4179296247164404, 3.3093058061599736, 3.2098582116762793, 3.1286586586634315, 3.063197242418925, 2.938043605486552, 2.9009311612447104, 2.873334860801697, 2.8397947891553246, 2.794013664325078, 2.7620380290349322, 2.7334187440077464, 2.68323015610377, 2.6964659317334494, 2.667027290264765, 2.6224513109525045, 2.5937225357691447, 2.6208325350284576, 2.5748235058784488, 2.5628732156753538, 2.5668908977508544, 2.5397653102874758, 2.5448975574970243]}],\n",
              "                        {\"autosize\": false, \"font\": {\"color\": \"#7f7f7f\", \"family\": \"Courier New, monospace\", \"size\": 14}, \"height\": 450, \"template\": {\"data\": {\"bar\": [{\"error_x\": {\"color\": \"#2a3f5f\"}, \"error_y\": {\"color\": \"#2a3f5f\"}, \"marker\": {\"line\": {\"color\": \"#E5ECF6\", \"width\": 0.5}}, \"type\": \"bar\"}], \"barpolar\": [{\"marker\": {\"line\": {\"color\": \"#E5ECF6\", \"width\": 0.5}}, \"type\": \"barpolar\"}], \"carpet\": [{\"aaxis\": {\"endlinecolor\": \"#2a3f5f\", \"gridcolor\": \"white\", \"linecolor\": \"white\", \"minorgridcolor\": \"white\", \"startlinecolor\": \"#2a3f5f\"}, \"baxis\": {\"endlinecolor\": \"#2a3f5f\", \"gridcolor\": \"white\", \"linecolor\": \"white\", \"minorgridcolor\": \"white\", \"startlinecolor\": \"#2a3f5f\"}, \"type\": \"carpet\"}], \"choropleth\": [{\"colorbar\": {\"outlinewidth\": 0, \"ticks\": \"\"}, \"type\": \"choropleth\"}], \"contour\": [{\"colorbar\": {\"outlinewidth\": 0, \"ticks\": \"\"}, \"colorscale\": [[0.0, \"#0d0887\"], [0.1111111111111111, \"#46039f\"], [0.2222222222222222, \"#7201a8\"], [0.3333333333333333, \"#9c179e\"], [0.4444444444444444, \"#bd3786\"], [0.5555555555555556, \"#d8576b\"], [0.6666666666666666, \"#ed7953\"], [0.7777777777777778, \"#fb9f3a\"], [0.8888888888888888, \"#fdca26\"], [1.0, \"#f0f921\"]], \"type\": \"contour\"}], \"contourcarpet\": [{\"colorbar\": {\"outlinewidth\": 0, \"ticks\": \"\"}, \"type\": \"contourcarpet\"}], \"heatmap\": [{\"colorbar\": {\"outlinewidth\": 0, \"ticks\": \"\"}, \"colorscale\": [[0.0, \"#0d0887\"], [0.1111111111111111, \"#46039f\"], [0.2222222222222222, \"#7201a8\"], [0.3333333333333333, \"#9c179e\"], [0.4444444444444444, \"#bd3786\"], [0.5555555555555556, \"#d8576b\"], [0.6666666666666666, \"#ed7953\"], [0.7777777777777778, \"#fb9f3a\"], [0.8888888888888888, \"#fdca26\"], [1.0, \"#f0f921\"]], \"type\": \"heatmap\"}], \"heatmapgl\": [{\"colorbar\": {\"outlinewidth\": 0, \"ticks\": \"\"}, \"colorscale\": [[0.0, \"#0d0887\"], [0.1111111111111111, \"#46039f\"], [0.2222222222222222, \"#7201a8\"], [0.3333333333333333, \"#9c179e\"], [0.4444444444444444, \"#bd3786\"], [0.5555555555555556, \"#d8576b\"], [0.6666666666666666, \"#ed7953\"], [0.7777777777777778, \"#fb9f3a\"], [0.8888888888888888, \"#fdca26\"], [1.0, \"#f0f921\"]], \"type\": \"heatmapgl\"}], \"histogram\": [{\"marker\": {\"colorbar\": {\"outlinewidth\": 0, \"ticks\": \"\"}}, \"type\": \"histogram\"}], \"histogram2d\": [{\"colorbar\": {\"outlinewidth\": 0, \"ticks\": \"\"}, \"colorscale\": [[0.0, \"#0d0887\"], [0.1111111111111111, \"#46039f\"], [0.2222222222222222, \"#7201a8\"], [0.3333333333333333, \"#9c179e\"], [0.4444444444444444, \"#bd3786\"], [0.5555555555555556, \"#d8576b\"], [0.6666666666666666, \"#ed7953\"], [0.7777777777777778, \"#fb9f3a\"], [0.8888888888888888, \"#fdca26\"], [1.0, \"#f0f921\"]], \"type\": \"histogram2d\"}], \"histogram2dcontour\": [{\"colorbar\": {\"outlinewidth\": 0, \"ticks\": \"\"}, \"colorscale\": [[0.0, \"#0d0887\"], [0.1111111111111111, \"#46039f\"], [0.2222222222222222, \"#7201a8\"], [0.3333333333333333, \"#9c179e\"], [0.4444444444444444, \"#bd3786\"], [0.5555555555555556, \"#d8576b\"], [0.6666666666666666, \"#ed7953\"], [0.7777777777777778, \"#fb9f3a\"], [0.8888888888888888, \"#fdca26\"], [1.0, \"#f0f921\"]], \"type\": \"histogram2dcontour\"}], \"mesh3d\": [{\"colorbar\": {\"outlinewidth\": 0, \"ticks\": \"\"}, \"type\": \"mesh3d\"}], \"parcoords\": [{\"line\": {\"colorbar\": {\"outlinewidth\": 0, \"ticks\": \"\"}}, \"type\": \"parcoords\"}], \"pie\": [{\"automargin\": true, \"type\": \"pie\"}], \"scatter\": [{\"marker\": {\"colorbar\": {\"outlinewidth\": 0, \"ticks\": \"\"}}, \"type\": \"scatter\"}], \"scatter3d\": [{\"line\": {\"colorbar\": {\"outlinewidth\": 0, \"ticks\": \"\"}}, \"marker\": {\"colorbar\": {\"outlinewidth\": 0, \"ticks\": \"\"}}, \"type\": \"scatter3d\"}], \"scattercarpet\": [{\"marker\": {\"colorbar\": {\"outlinewidth\": 0, \"ticks\": \"\"}}, \"type\": \"scattercarpet\"}], \"scattergeo\": [{\"marker\": {\"colorbar\": {\"outlinewidth\": 0, \"ticks\": \"\"}}, \"type\": \"scattergeo\"}], \"scattergl\": [{\"marker\": {\"colorbar\": {\"outlinewidth\": 0, \"ticks\": \"\"}}, \"type\": \"scattergl\"}], \"scattermapbox\": [{\"marker\": {\"colorbar\": {\"outlinewidth\": 0, \"ticks\": \"\"}}, \"type\": \"scattermapbox\"}], \"scatterpolar\": [{\"marker\": {\"colorbar\": {\"outlinewidth\": 0, \"ticks\": \"\"}}, \"type\": \"scatterpolar\"}], \"scatterpolargl\": [{\"marker\": {\"colorbar\": {\"outlinewidth\": 0, \"ticks\": \"\"}}, \"type\": \"scatterpolargl\"}], \"scatterternary\": [{\"marker\": {\"colorbar\": {\"outlinewidth\": 0, \"ticks\": \"\"}}, \"type\": \"scatterternary\"}], \"surface\": [{\"colorbar\": {\"outlinewidth\": 0, \"ticks\": \"\"}, \"colorscale\": [[0.0, \"#0d0887\"], [0.1111111111111111, \"#46039f\"], [0.2222222222222222, \"#7201a8\"], [0.3333333333333333, \"#9c179e\"], [0.4444444444444444, \"#bd3786\"], [0.5555555555555556, \"#d8576b\"], [0.6666666666666666, \"#ed7953\"], [0.7777777777777778, \"#fb9f3a\"], [0.8888888888888888, \"#fdca26\"], [1.0, \"#f0f921\"]], \"type\": \"surface\"}], \"table\": [{\"cells\": {\"fill\": {\"color\": \"#EBF0F8\"}, \"line\": {\"color\": \"white\"}}, \"header\": {\"fill\": {\"color\": \"#C8D4E3\"}, \"line\": {\"color\": \"white\"}}, \"type\": \"table\"}]}, \"layout\": {\"annotationdefaults\": {\"arrowcolor\": \"#2a3f5f\", \"arrowhead\": 0, \"arrowwidth\": 1}, \"coloraxis\": {\"colorbar\": {\"outlinewidth\": 0, \"ticks\": \"\"}}, \"colorscale\": {\"diverging\": [[0, \"#8e0152\"], [0.1, \"#c51b7d\"], [0.2, \"#de77ae\"], [0.3, \"#f1b6da\"], [0.4, \"#fde0ef\"], [0.5, \"#f7f7f7\"], [0.6, \"#e6f5d0\"], [0.7, \"#b8e186\"], [0.8, \"#7fbc41\"], [0.9, \"#4d9221\"], [1, \"#276419\"]], \"sequential\": [[0.0, \"#0d0887\"], [0.1111111111111111, \"#46039f\"], [0.2222222222222222, \"#7201a8\"], [0.3333333333333333, \"#9c179e\"], [0.4444444444444444, \"#bd3786\"], [0.5555555555555556, \"#d8576b\"], [0.6666666666666666, \"#ed7953\"], [0.7777777777777778, \"#fb9f3a\"], [0.8888888888888888, \"#fdca26\"], [1.0, \"#f0f921\"]], \"sequentialminus\": [[0.0, \"#0d0887\"], [0.1111111111111111, \"#46039f\"], [0.2222222222222222, \"#7201a8\"], [0.3333333333333333, \"#9c179e\"], [0.4444444444444444, \"#bd3786\"], [0.5555555555555556, \"#d8576b\"], [0.6666666666666666, \"#ed7953\"], [0.7777777777777778, \"#fb9f3a\"], [0.8888888888888888, \"#fdca26\"], [1.0, \"#f0f921\"]]}, \"colorway\": [\"#636efa\", \"#EF553B\", \"#00cc96\", \"#ab63fa\", \"#FFA15A\", \"#19d3f3\", \"#FF6692\", \"#B6E880\", \"#FF97FF\", \"#FECB52\"], \"font\": {\"color\": \"#2a3f5f\"}, \"geo\": {\"bgcolor\": \"white\", \"lakecolor\": \"white\", \"landcolor\": \"#E5ECF6\", \"showlakes\": true, \"showland\": true, \"subunitcolor\": \"white\"}, \"hoverlabel\": {\"align\": \"left\"}, \"hovermode\": \"closest\", \"mapbox\": {\"style\": \"light\"}, \"paper_bgcolor\": \"white\", \"plot_bgcolor\": \"#E5ECF6\", \"polar\": {\"angularaxis\": {\"gridcolor\": \"white\", \"linecolor\": \"white\", \"ticks\": \"\"}, \"bgcolor\": \"#E5ECF6\", \"radialaxis\": {\"gridcolor\": \"white\", \"linecolor\": \"white\", \"ticks\": \"\"}}, \"scene\": {\"xaxis\": {\"backgroundcolor\": \"#E5ECF6\", \"gridcolor\": \"white\", \"gridwidth\": 2, \"linecolor\": \"white\", \"showbackground\": true, \"ticks\": \"\", \"zerolinecolor\": \"white\"}, \"yaxis\": {\"backgroundcolor\": \"#E5ECF6\", \"gridcolor\": \"white\", \"gridwidth\": 2, \"linecolor\": \"white\", \"showbackground\": true, \"ticks\": \"\", \"zerolinecolor\": \"white\"}, \"zaxis\": {\"backgroundcolor\": \"#E5ECF6\", \"gridcolor\": \"white\", \"gridwidth\": 2, \"linecolor\": \"white\", \"showbackground\": true, \"ticks\": \"\", \"zerolinecolor\": \"white\"}}, \"shapedefaults\": {\"line\": {\"color\": \"#2a3f5f\"}}, \"ternary\": {\"aaxis\": {\"gridcolor\": \"white\", \"linecolor\": \"white\", \"ticks\": \"\"}, \"baxis\": {\"gridcolor\": \"white\", \"linecolor\": \"white\", \"ticks\": \"\"}, \"bgcolor\": \"#E5ECF6\", \"caxis\": {\"gridcolor\": \"white\", \"linecolor\": \"white\", \"ticks\": \"\"}}, \"title\": {\"x\": 0.05}, \"xaxis\": {\"automargin\": true, \"gridcolor\": \"white\", \"linecolor\": \"white\", \"ticks\": \"\", \"title\": {\"standoff\": 15}, \"zerolinecolor\": \"white\", \"zerolinewidth\": 2}, \"yaxis\": {\"automargin\": true, \"gridcolor\": \"white\", \"linecolor\": \"white\", \"ticks\": \"\", \"title\": {\"standoff\": 15}, \"zerolinecolor\": \"white\", \"zerolinewidth\": 2}}}, \"title\": {\"text\": \"Loss Chart\"}, \"width\": 700, \"xaxis\": {\"title\": {\"text\": \"Epochs\"}}, \"yaxis\": {\"title\": {\"text\": \"Loss\"}}},\n",
              "                        {\"responsive\": true}\n",
              "                    ).then(function(){\n",
              "                            \n",
              "var gd = document.getElementById('ba889acf-2cda-4b0d-9a65-c4785681b40f');\n",
              "var x = new MutationObserver(function (mutations, observer) {{\n",
              "        var display = window.getComputedStyle(gd).display;\n",
              "        if (!display || display === 'none') {{\n",
              "            console.log([gd, 'removed!']);\n",
              "            Plotly.purge(gd);\n",
              "            observer.disconnect();\n",
              "        }}\n",
              "}});\n",
              "\n",
              "// Listen for the removal of the full notebook cells\n",
              "var notebookContainer = gd.closest('#notebook-container');\n",
              "if (notebookContainer) {{\n",
              "    x.observe(notebookContainer, {childList: true});\n",
              "}}\n",
              "\n",
              "// Listen for the clearing of the current output cell\n",
              "var outputEl = gd.closest('.output');\n",
              "if (outputEl) {{\n",
              "    x.observe(outputEl, {childList: true});\n",
              "}}\n",
              "\n",
              "                        })\n",
              "                };\n",
              "                \n",
              "            </script>\n",
              "        </div>\n",
              "</body>\n",
              "</html>"
            ]
          },
          "metadata": {
            "tags": []
          }
        },
        {
          "output_type": "stream",
          "text": [
            "\n",
            "\n"
          ],
          "name": "stdout"
        },
        {
          "output_type": "display_data",
          "data": {
            "text/html": [
              "<html>\n",
              "<head><meta charset=\"utf-8\" /></head>\n",
              "<body>\n",
              "    <div>\n",
              "            <script src=\"https://cdnjs.cloudflare.com/ajax/libs/mathjax/2.7.5/MathJax.js?config=TeX-AMS-MML_SVG\"></script><script type=\"text/javascript\">if (window.MathJax) {MathJax.Hub.Config({SVG: {font: \"STIX-Web\"}});}</script>\n",
              "                <script type=\"text/javascript\">window.PlotlyConfig = {MathJaxConfig: 'local'};</script>\n",
              "        <script src=\"https://cdn.plot.ly/plotly-latest.min.js\"></script>    \n",
              "            <div id=\"dd59aed7-7e7f-4172-85ef-925ac3fdc95e\" class=\"plotly-graph-div\" style=\"height:450px; width:700px;\"></div>\n",
              "            <script type=\"text/javascript\">\n",
              "                \n",
              "                    window.PLOTLYENV=window.PLOTLYENV || {};\n",
              "                    \n",
              "                if (document.getElementById(\"dd59aed7-7e7f-4172-85ef-925ac3fdc95e\")) {\n",
              "                    Plotly.newPlot(\n",
              "                        'dd59aed7-7e7f-4172-85ef-925ac3fdc95e',\n",
              "                        [{\"mode\": \"lines+markers\", \"name\": \"Dropout model Acc\", \"textposition\": \"bottom center\", \"type\": \"scatter\", \"x\": [1, 2, 3, 4, 5, 6, 7, 8, 9, 10, 11, 12, 13, 14, 15, 16, 17, 18, 19, 20, 21, 22, 23, 24, 25, 26, 27, 28, 29, 30], \"y\": [0.1973, 0.33695, 0.3970166666666667, 0.43006666666666665, 0.45565, 0.46663333333333334, 0.4837666666666667, 0.49006666666666665, 0.49735, 0.5051833333333333, 0.5075666666666667, 0.5097333333333334, 0.5185833333333333, 0.52025, 0.52205, 0.52285, 0.5238833333333334, 0.5281, 0.5264166666666666, 0.5305166666666666, 0.5315833333333333, 0.5284833333333333, 0.5343333333333333, 0.5330166666666667, 0.5365, 0.5374333333333333, 0.5374666666666666, 0.5377833333333333, 0.539, 0.5387166666666666]}],\n",
              "                        {\"autosize\": false, \"font\": {\"color\": \"#7f7f7f\", \"family\": \"Courier New, monospace\", \"size\": 14}, \"height\": 450, \"template\": {\"data\": {\"bar\": [{\"error_x\": {\"color\": \"#2a3f5f\"}, \"error_y\": {\"color\": \"#2a3f5f\"}, \"marker\": {\"line\": {\"color\": \"#E5ECF6\", \"width\": 0.5}}, \"type\": \"bar\"}], \"barpolar\": [{\"marker\": {\"line\": {\"color\": \"#E5ECF6\", \"width\": 0.5}}, \"type\": \"barpolar\"}], \"carpet\": [{\"aaxis\": {\"endlinecolor\": \"#2a3f5f\", \"gridcolor\": \"white\", \"linecolor\": \"white\", \"minorgridcolor\": \"white\", \"startlinecolor\": \"#2a3f5f\"}, \"baxis\": {\"endlinecolor\": \"#2a3f5f\", \"gridcolor\": \"white\", \"linecolor\": \"white\", \"minorgridcolor\": \"white\", \"startlinecolor\": \"#2a3f5f\"}, \"type\": \"carpet\"}], \"choropleth\": [{\"colorbar\": {\"outlinewidth\": 0, \"ticks\": \"\"}, \"type\": \"choropleth\"}], \"contour\": [{\"colorbar\": {\"outlinewidth\": 0, \"ticks\": \"\"}, \"colorscale\": [[0.0, \"#0d0887\"], [0.1111111111111111, \"#46039f\"], [0.2222222222222222, \"#7201a8\"], [0.3333333333333333, \"#9c179e\"], [0.4444444444444444, \"#bd3786\"], [0.5555555555555556, \"#d8576b\"], [0.6666666666666666, \"#ed7953\"], [0.7777777777777778, \"#fb9f3a\"], [0.8888888888888888, \"#fdca26\"], [1.0, \"#f0f921\"]], \"type\": \"contour\"}], \"contourcarpet\": [{\"colorbar\": {\"outlinewidth\": 0, \"ticks\": \"\"}, \"type\": \"contourcarpet\"}], \"heatmap\": [{\"colorbar\": {\"outlinewidth\": 0, \"ticks\": \"\"}, \"colorscale\": [[0.0, \"#0d0887\"], [0.1111111111111111, \"#46039f\"], [0.2222222222222222, \"#7201a8\"], [0.3333333333333333, \"#9c179e\"], [0.4444444444444444, \"#bd3786\"], [0.5555555555555556, \"#d8576b\"], [0.6666666666666666, \"#ed7953\"], [0.7777777777777778, \"#fb9f3a\"], [0.8888888888888888, \"#fdca26\"], [1.0, \"#f0f921\"]], \"type\": \"heatmap\"}], \"heatmapgl\": [{\"colorbar\": {\"outlinewidth\": 0, \"ticks\": \"\"}, \"colorscale\": [[0.0, \"#0d0887\"], [0.1111111111111111, \"#46039f\"], [0.2222222222222222, \"#7201a8\"], [0.3333333333333333, \"#9c179e\"], [0.4444444444444444, \"#bd3786\"], [0.5555555555555556, \"#d8576b\"], [0.6666666666666666, \"#ed7953\"], [0.7777777777777778, \"#fb9f3a\"], [0.8888888888888888, \"#fdca26\"], [1.0, \"#f0f921\"]], \"type\": \"heatmapgl\"}], \"histogram\": [{\"marker\": {\"colorbar\": {\"outlinewidth\": 0, \"ticks\": \"\"}}, \"type\": \"histogram\"}], \"histogram2d\": [{\"colorbar\": {\"outlinewidth\": 0, \"ticks\": \"\"}, \"colorscale\": [[0.0, \"#0d0887\"], [0.1111111111111111, \"#46039f\"], [0.2222222222222222, \"#7201a8\"], [0.3333333333333333, \"#9c179e\"], [0.4444444444444444, \"#bd3786\"], [0.5555555555555556, \"#d8576b\"], [0.6666666666666666, \"#ed7953\"], [0.7777777777777778, \"#fb9f3a\"], [0.8888888888888888, \"#fdca26\"], [1.0, \"#f0f921\"]], \"type\": \"histogram2d\"}], \"histogram2dcontour\": [{\"colorbar\": {\"outlinewidth\": 0, \"ticks\": \"\"}, \"colorscale\": [[0.0, \"#0d0887\"], [0.1111111111111111, \"#46039f\"], [0.2222222222222222, \"#7201a8\"], [0.3333333333333333, \"#9c179e\"], [0.4444444444444444, \"#bd3786\"], [0.5555555555555556, \"#d8576b\"], [0.6666666666666666, \"#ed7953\"], [0.7777777777777778, \"#fb9f3a\"], [0.8888888888888888, \"#fdca26\"], [1.0, \"#f0f921\"]], \"type\": \"histogram2dcontour\"}], \"mesh3d\": [{\"colorbar\": {\"outlinewidth\": 0, \"ticks\": \"\"}, \"type\": \"mesh3d\"}], \"parcoords\": [{\"line\": {\"colorbar\": {\"outlinewidth\": 0, \"ticks\": \"\"}}, \"type\": \"parcoords\"}], \"pie\": [{\"automargin\": true, \"type\": \"pie\"}], \"scatter\": [{\"marker\": {\"colorbar\": {\"outlinewidth\": 0, \"ticks\": \"\"}}, \"type\": \"scatter\"}], \"scatter3d\": [{\"line\": {\"colorbar\": {\"outlinewidth\": 0, \"ticks\": \"\"}}, \"marker\": {\"colorbar\": {\"outlinewidth\": 0, \"ticks\": \"\"}}, \"type\": \"scatter3d\"}], \"scattercarpet\": [{\"marker\": {\"colorbar\": {\"outlinewidth\": 0, \"ticks\": \"\"}}, \"type\": \"scattercarpet\"}], \"scattergeo\": [{\"marker\": {\"colorbar\": {\"outlinewidth\": 0, \"ticks\": \"\"}}, \"type\": \"scattergeo\"}], \"scattergl\": [{\"marker\": {\"colorbar\": {\"outlinewidth\": 0, \"ticks\": \"\"}}, \"type\": \"scattergl\"}], \"scattermapbox\": [{\"marker\": {\"colorbar\": {\"outlinewidth\": 0, \"ticks\": \"\"}}, \"type\": \"scattermapbox\"}], \"scatterpolar\": [{\"marker\": {\"colorbar\": {\"outlinewidth\": 0, \"ticks\": \"\"}}, \"type\": \"scatterpolar\"}], \"scatterpolargl\": [{\"marker\": {\"colorbar\": {\"outlinewidth\": 0, \"ticks\": \"\"}}, \"type\": \"scatterpolargl\"}], \"scatterternary\": [{\"marker\": {\"colorbar\": {\"outlinewidth\": 0, \"ticks\": \"\"}}, \"type\": \"scatterternary\"}], \"surface\": [{\"colorbar\": {\"outlinewidth\": 0, \"ticks\": \"\"}, \"colorscale\": [[0.0, \"#0d0887\"], [0.1111111111111111, \"#46039f\"], [0.2222222222222222, \"#7201a8\"], [0.3333333333333333, \"#9c179e\"], [0.4444444444444444, \"#bd3786\"], [0.5555555555555556, \"#d8576b\"], [0.6666666666666666, \"#ed7953\"], [0.7777777777777778, \"#fb9f3a\"], [0.8888888888888888, \"#fdca26\"], [1.0, \"#f0f921\"]], \"type\": \"surface\"}], \"table\": [{\"cells\": {\"fill\": {\"color\": \"#EBF0F8\"}, \"line\": {\"color\": \"white\"}}, \"header\": {\"fill\": {\"color\": \"#C8D4E3\"}, \"line\": {\"color\": \"white\"}}, \"type\": \"table\"}]}, \"layout\": {\"annotationdefaults\": {\"arrowcolor\": \"#2a3f5f\", \"arrowhead\": 0, \"arrowwidth\": 1}, \"coloraxis\": {\"colorbar\": {\"outlinewidth\": 0, \"ticks\": \"\"}}, \"colorscale\": {\"diverging\": [[0, \"#8e0152\"], [0.1, \"#c51b7d\"], [0.2, \"#de77ae\"], [0.3, \"#f1b6da\"], [0.4, \"#fde0ef\"], [0.5, \"#f7f7f7\"], [0.6, \"#e6f5d0\"], [0.7, \"#b8e186\"], [0.8, \"#7fbc41\"], [0.9, \"#4d9221\"], [1, \"#276419\"]], \"sequential\": [[0.0, \"#0d0887\"], [0.1111111111111111, \"#46039f\"], [0.2222222222222222, \"#7201a8\"], [0.3333333333333333, \"#9c179e\"], [0.4444444444444444, \"#bd3786\"], [0.5555555555555556, \"#d8576b\"], [0.6666666666666666, \"#ed7953\"], [0.7777777777777778, \"#fb9f3a\"], [0.8888888888888888, \"#fdca26\"], [1.0, \"#f0f921\"]], \"sequentialminus\": [[0.0, \"#0d0887\"], [0.1111111111111111, \"#46039f\"], [0.2222222222222222, \"#7201a8\"], [0.3333333333333333, \"#9c179e\"], [0.4444444444444444, \"#bd3786\"], [0.5555555555555556, \"#d8576b\"], [0.6666666666666666, \"#ed7953\"], [0.7777777777777778, \"#fb9f3a\"], [0.8888888888888888, \"#fdca26\"], [1.0, \"#f0f921\"]]}, \"colorway\": [\"#636efa\", \"#EF553B\", \"#00cc96\", \"#ab63fa\", \"#FFA15A\", \"#19d3f3\", \"#FF6692\", \"#B6E880\", \"#FF97FF\", \"#FECB52\"], \"font\": {\"color\": \"#2a3f5f\"}, \"geo\": {\"bgcolor\": \"white\", \"lakecolor\": \"white\", \"landcolor\": \"#E5ECF6\", \"showlakes\": true, \"showland\": true, \"subunitcolor\": \"white\"}, \"hoverlabel\": {\"align\": \"left\"}, \"hovermode\": \"closest\", \"mapbox\": {\"style\": \"light\"}, \"paper_bgcolor\": \"white\", \"plot_bgcolor\": \"#E5ECF6\", \"polar\": {\"angularaxis\": {\"gridcolor\": \"white\", \"linecolor\": \"white\", \"ticks\": \"\"}, \"bgcolor\": \"#E5ECF6\", \"radialaxis\": {\"gridcolor\": \"white\", \"linecolor\": \"white\", \"ticks\": \"\"}}, \"scene\": {\"xaxis\": {\"backgroundcolor\": \"#E5ECF6\", \"gridcolor\": \"white\", \"gridwidth\": 2, \"linecolor\": \"white\", \"showbackground\": true, \"ticks\": \"\", \"zerolinecolor\": \"white\"}, \"yaxis\": {\"backgroundcolor\": \"#E5ECF6\", \"gridcolor\": \"white\", \"gridwidth\": 2, \"linecolor\": \"white\", \"showbackground\": true, \"ticks\": \"\", \"zerolinecolor\": \"white\"}, \"zaxis\": {\"backgroundcolor\": \"#E5ECF6\", \"gridcolor\": \"white\", \"gridwidth\": 2, \"linecolor\": \"white\", \"showbackground\": true, \"ticks\": \"\", \"zerolinecolor\": \"white\"}}, \"shapedefaults\": {\"line\": {\"color\": \"#2a3f5f\"}}, \"ternary\": {\"aaxis\": {\"gridcolor\": \"white\", \"linecolor\": \"white\", \"ticks\": \"\"}, \"baxis\": {\"gridcolor\": \"white\", \"linecolor\": \"white\", \"ticks\": \"\"}, \"bgcolor\": \"#E5ECF6\", \"caxis\": {\"gridcolor\": \"white\", \"linecolor\": \"white\", \"ticks\": \"\"}}, \"title\": {\"x\": 0.05}, \"xaxis\": {\"automargin\": true, \"gridcolor\": \"white\", \"linecolor\": \"white\", \"ticks\": \"\", \"title\": {\"standoff\": 15}, \"zerolinecolor\": \"white\", \"zerolinewidth\": 2}, \"yaxis\": {\"automargin\": true, \"gridcolor\": \"white\", \"linecolor\": \"white\", \"ticks\": \"\", \"title\": {\"standoff\": 15}, \"zerolinecolor\": \"white\", \"zerolinewidth\": 2}}}, \"title\": {\"text\": \"Accuracy Chart\"}, \"width\": 700, \"xaxis\": {\"title\": {\"text\": \"Epochs\"}}, \"yaxis\": {\"title\": {\"text\": \"Acc\"}}},\n",
              "                        {\"responsive\": true}\n",
              "                    ).then(function(){\n",
              "                            \n",
              "var gd = document.getElementById('dd59aed7-7e7f-4172-85ef-925ac3fdc95e');\n",
              "var x = new MutationObserver(function (mutations, observer) {{\n",
              "        var display = window.getComputedStyle(gd).display;\n",
              "        if (!display || display === 'none') {{\n",
              "            console.log([gd, 'removed!']);\n",
              "            Plotly.purge(gd);\n",
              "            observer.disconnect();\n",
              "        }}\n",
              "}});\n",
              "\n",
              "// Listen for the removal of the full notebook cells\n",
              "var notebookContainer = gd.closest('#notebook-container');\n",
              "if (notebookContainer) {{\n",
              "    x.observe(notebookContainer, {childList: true});\n",
              "}}\n",
              "\n",
              "// Listen for the clearing of the current output cell\n",
              "var outputEl = gd.closest('.output');\n",
              "if (outputEl) {{\n",
              "    x.observe(outputEl, {childList: true});\n",
              "}}\n",
              "\n",
              "                        })\n",
              "                };\n",
              "                \n",
              "            </script>\n",
              "        </div>\n",
              "</body>\n",
              "</html>"
            ]
          },
          "metadata": {
            "tags": []
          }
        }
      ]
    },
    {
      "cell_type": "markdown",
      "metadata": {
        "id": "wg0eSn_gq0f4"
      },
      "source": [
        "### Results\n",
        "\n",
        "The first thing to notice after applying these regularization methods is the increment in the time needed in the convergency process of the model, that is the main reason we apply a different number of epochs to train the different tests, specifically the `dropout` method requires more training and this time is deeply connected to how aggresives are the probabilities to drop neurons. Another important fact is that the estimation of those `keep_probabilities` can be easily interpreted as hyper-parameters of the model and are also related to the `width` of the layers where it will be applied. In other words, more aggresively dropout chances can be applied in `wider` layers. \n",
        "\n",
        "In terms of advantages, we can notice a really big `generalization leap` (based in accuracy) between the model using dropout and the baseline, one which is the main reason of applying this approach. In the other hand in the charts is also visible that the curves are not smooth as the baseline ones this means that closer to the convergency point there is more `back` and `forth` descending through the loss.\n",
        "\n",
        "Regarding the `Weight decay` method there is no much more time added to the convergency but there are different facts to mention. The main one is the difficulty choosing a value for the `beta` parameter which is also a new hyper-parameter for a model. A big value (less than `1` of course ) can cause a tremendous reduction of original content of the parameter causing in some cases that the application of the grad does not have effect at all. If beta is close to epsilon then almost no `weigth decay` is  being applied. \n",
        "  "
      ]
    },
    {
      "cell_type": "markdown",
      "metadata": {
        "id": "EwedMCZjXDSw"
      },
      "source": [
        "# Part 2: Optimization algorithms"
      ]
    },
    {
      "cell_type": "markdown",
      "metadata": {
        "id": "nftKKxlBXDSx"
      },
      "source": [
        "## 2a) Xavier and He initialization methods"
      ]
    },
    {
      "cell_type": "markdown",
      "metadata": {
        "id": "yxEVEoeJTq81"
      },
      "source": [
        "A common issue in the fully connected neural networks is the gradient vanishing problem which can be understood as the tendency of the gradients to approach 0 in the backward process due to continuous multiplications. A possible approach to amortize this effect is to set initial weights with specific properties, two of the most common initialization schemas are `xavier` and `he` based in the activation function of the layer. In general `he` method is used when the activation function is `relu` otherwise `xavier` is used. "
      ]
    },
    {
      "cell_type": "code",
      "metadata": {
        "id": "F7DHcaQDTimb"
      },
      "source": [
        "import math\n",
        "\n",
        "def xavier_init(first_dim, second_dim, r=None):\n",
        "  if r is None:\n",
        "    r = torch.randn((first_dim,second_dim))\n",
        "  return r * (math.sqrt(1/first_dim))\n",
        "\n",
        "# Variation of xavier using a uniform distribution for r instead of a normal one\n",
        "def xavier_init_uniform(first_dim, second_dim, r=None):\n",
        "  if r is None:\n",
        "    r = torch.rand((first_dim,second_dim))\n",
        "  return r * (math.sqrt(1/first_dim))\n",
        "\n",
        "def he_init(first_dim, second_dim, r=None):\n",
        "  if r is None:\n",
        "    r = torch.randn((first_dim,second_dim))\n",
        "  return r * (math.sqrt(2/first_dim))\n",
        "\n",
        "def he_init_uniform(first_dim, second_dim, r=None):\n",
        "  if r is None:\n",
        "    r = torch.rand((first_dim,second_dim))\n",
        "  return r * (math.sqrt(2/first_dim))"
      ],
      "execution_count": null,
      "outputs": []
    },
    {
      "cell_type": "code",
      "metadata": {
        "colab": {
          "base_uri": "https://localhost:8080/"
        },
        "id": "7Rl25Jr5UAgv",
        "outputId": "8e3960d4-936d-4f8f-8ff1-d5c48924eea7"
      },
      "source": [
        "# Running xavier and he automatic tests\n",
        "r_xavier = corrector.get_test_data(homework=3, question=\"2a\", test=1, token=token)\n",
        "r_he = corrector.get_test_data(homework=3, question=\"2a\", test=2, token=token)\n",
        "\n",
        "w_xavier = xavier_init(50, 50, torch.tensor(r_xavier))\n",
        "w_he = he_init(50, 50, torch.tensor(r_he))\n",
        "\n",
        "corrector.submit(homework=3, question=\"2a\", test=1, token=token, answer=w_xavier)\n",
        "corrector.submit(homework=3, question=\"2a\", test=2, token=token, answer=w_he)"
      ],
      "execution_count": null,
      "outputs": [
        {
          "output_type": "stream",
          "text": [
            "Correct Test!\n",
            "Correct Test!\n"
          ],
          "name": "stdout"
        }
      ]
    },
    {
      "cell_type": "markdown",
      "metadata": {
        "id": "RyyHN_Dxr4PZ"
      },
      "source": [
        "### **Important**:\n",
        "We will be apllying this schemas in our `FFNN` class by adding a new parameter in the constructor called `init_method`. The expected value for this parameter is the python function that will be executed to generate the initial tensors.\n",
        "\n",
        "example:\n",
        "\n",
        "```python\n",
        "# This will set all the initial weights with `xavier` method\n",
        "model = FFNN(784,[512,1024,128],[relu,relu,relu, softmax],10,init_method=xavier_init)\n",
        "\n",
        "# This will set all the initial weights with `he` method\n",
        "model = FFNN(784,[512,1024,128],[relu,relu,relu, softmax],10,init_method=he_init)\n",
        "\n",
        "# It is important to notice we can obtaing the same results\n",
        "# we had before applying this heuristics passing randn as the init method\n",
        "model = FFNN(784,[512,1024,128],[relu,relu,relu, softmax],10,init_method=torch.randn)\n",
        "\n",
        "# Passing init_method as None will result in applying this two functions based of the activation layer\n",
        "# This is the heuristic way we described before\n",
        "model = FFNN(784,[512,1024,128],[relu,relu,relu, softmax],10)\n",
        "\n",
        "```"
      ]
    },
    {
      "cell_type": "markdown",
      "metadata": {
        "id": "Nzp5SWKBXDSy"
      },
      "source": [
        "## 2b) Stochastic gradient descend with momentum"
      ]
    },
    {
      "cell_type": "code",
      "metadata": {
        "id": "whoBUewrUgWB"
      },
      "source": [
        "# SGD With momentum\n",
        "class SGD():\n",
        "  def __init__(self, parameters, lr=0.001, momentum=0):\n",
        "\n",
        "    # Assuming the call will be done with model.parameters()\n",
        "    self.parameters = [p for p in parameters if p is not None]\n",
        "    self.lr = lr\n",
        "    self.momentum = momentum\n",
        "    self.V = [ torch.zeros_like(p) for p in self.parameters if p is not None ]\n",
        "  \n",
        "  def step(self):\n",
        "    for idx, p in enumerate(self.parameters):\n",
        "      if p.grad is not None:\n",
        "        self.V[idx].data = (self.momentum * self.V[idx].data) - (self.lr * p.grad)\n",
        "        p.data = p.data + self.V[idx].data"
      ],
      "execution_count": null,
      "outputs": []
    },
    {
      "cell_type": "code",
      "metadata": {
        "colab": {
          "base_uri": "https://localhost:8080/"
        },
        "id": "8WIcvmWUVl9r",
        "outputId": "b4d5cf30-0882-4fdc-ff30-2fc6378132f6"
      },
      "source": [
        "# Tests del API del curso\n",
        "weight, grad = corrector.get_test_data(homework=3, question=\"2b\", test=1, token=token)\n",
        "\n",
        "weight = torch.tensor(weight, requires_grad=True)\n",
        "weight.grad = torch.tensor(grad)\n",
        "\n",
        "optimizer = SGD([weight], lr=0.1, momentum=0.9)\n",
        "optimizer.step()\n",
        "\n",
        "# Submit\n",
        "corrector.submit(homework=3, question=\"2b\", test=1, token=token, answer=weight)\n",
        "optimizer.step()\n",
        "corrector.submit(homework=3, question=\"2b\", test=2, token=token, answer=weight)"
      ],
      "execution_count": null,
      "outputs": [
        {
          "output_type": "stream",
          "text": [
            "Correct Test!\n",
            "Correct Test!\n"
          ],
          "name": "stdout"
        }
      ]
    },
    {
      "cell_type": "markdown",
      "metadata": {
        "id": "1WNYoTIHXDS0"
      },
      "source": [
        "## 2c) RMSProp"
      ]
    },
    {
      "cell_type": "code",
      "metadata": {
        "id": "IjLGmGoXV_kG"
      },
      "source": [
        "class RMSProp():\n",
        "  def __init__(self, parameters, lr=0.001, beta=0.9, epsilon=1e-8):\n",
        "\n",
        "    # Assuming the call will be done with model.parameters()\n",
        "    self.parameters = [p for p in parameters if p is not None]\n",
        "\n",
        "    # Commonly called lambda in the formulations\n",
        "    self.lr = lr\n",
        "\n",
        "    # beta will be the weighting value for the EMA\n",
        "    self.beta = beta\n",
        "\n",
        "    # small computational trick to avoid divisions by 0\n",
        "    self.epsilon = epsilon\n",
        "\n",
        "    # EMA accumulator \n",
        "    self.S = [ torch.zeros_like(p) for p in self.parameters if p is not None ]\n",
        "  \n",
        "  def step(self):\n",
        "    for idx, p in enumerate(self.parameters):\n",
        "      if p.grad is not None:\n",
        "        self.S[idx].data = (self.beta * self.S[idx].data) + ((1-self.beta) * (p.grad * p.grad))\n",
        "        p.data = p.data - ((self.lr/(self.epsilon + torch.sqrt(self.S[idx].data)))* p.grad)"
      ],
      "execution_count": null,
      "outputs": []
    },
    {
      "cell_type": "code",
      "metadata": {
        "colab": {
          "base_uri": "https://localhost:8080/"
        },
        "id": "PNnw6obOWDC4",
        "outputId": "5285667c-5ea7-4341-c5a5-715db1b6a9b1"
      },
      "source": [
        "# Tests del API del curso\n",
        "weight, grad = corrector.get_test_data(homework=3, question=\"2c\", test=1, token=token)\n",
        "\n",
        "weight = torch.tensor(weight, requires_grad=True)\n",
        "weight.grad = torch.tensor(grad)\n",
        "\n",
        "optimizer = RMSProp([weight], lr=0.001, beta=0.9, epsilon=1e-8)\n",
        "optimizer.step()\n",
        "\n",
        "# Submit\n",
        "corrector.submit(homework=3, question=\"2c\", test=1, token=token, answer=weight)\n",
        "optimizer.step()\n",
        "corrector.submit(homework=3, question=\"2c\", test=2, token=token, answer=weight)"
      ],
      "execution_count": null,
      "outputs": [
        {
          "output_type": "stream",
          "text": [
            "Correct Test!\n",
            "Correct Test!\n"
          ],
          "name": "stdout"
        }
      ]
    },
    {
      "cell_type": "markdown",
      "metadata": {
        "id": "QJTTDpeTWTwY"
      },
      "source": [
        "## 2d) Adam"
      ]
    },
    {
      "cell_type": "code",
      "metadata": {
        "id": "ola7FuFdWZH6"
      },
      "source": [
        "class Adam():\n",
        "  def __init__(self, parameters, lr=0.001, beta1=0.9, beta2=0.999, epsilon=1e-8):\n",
        "\n",
        "    # Assuming the call will be done with model.parameters()\n",
        "    self.parameters = [p for p in parameters if p is not None]\n",
        "\n",
        "    # Commonly called lambda in the formulations\n",
        "    self.lr = lr\n",
        "\n",
        "    # beta1 will be the weighting value for P\n",
        "    self.beta1 = beta1\n",
        "\n",
        "    # beta1 will be the weighting value for S\n",
        "    self.beta2 = beta2\n",
        "\n",
        "    # small computational trick to avoid divisions by 0\n",
        "    self.epsilon = epsilon\n",
        "\n",
        "    # P EMA accumulator \n",
        "    self.P = [ torch.zeros_like(p) for p in self.parameters if p is not None ]\n",
        "\n",
        "    # S EMA accumulator \n",
        "    self.S = [ torch.zeros_like(p) for p in self.parameters if p is not None ]\n",
        "\n",
        "    # Represent the nummber of accumulations commonly called t\n",
        "    self.n = 1\n",
        "  \n",
        "  def step(self):\n",
        "    for idx, p in enumerate(self.parameters):\n",
        "      if p.grad is not None:\n",
        "        self.P[idx].data = (self.beta1 * self.P[idx].data) + ((1-self.beta1) * p.grad)\n",
        "        self.S[idx].data = (self.beta2 * self.S[idx].data) + ((1-self.beta2) * (p.grad * p.grad))\n",
        "\n",
        "        P_fixed = self.P[idx].data / (1 - (self.beta1**self.n))\n",
        "        S_fixed = self.S[idx].data / (1 - (self.beta2**self.n))\n",
        "\n",
        "        p.data = p.data - ((self.lr/(self.epsilon + torch.sqrt(S_fixed)))* P_fixed)\n",
        "\n",
        "        self.n += 1"
      ],
      "execution_count": null,
      "outputs": []
    },
    {
      "cell_type": "code",
      "metadata": {
        "colab": {
          "base_uri": "https://localhost:8080/"
        },
        "id": "8OdCG4RjWeMJ",
        "outputId": "1d2e3d87-4e50-4fe3-b02a-4deaeaefea9b"
      },
      "source": [
        "# Tests del API del curso\n",
        "weight, grad = corrector.get_test_data(homework=3, question=\"2d\", test=1, token=token)\n",
        "\n",
        "weight = torch.tensor(weight, requires_grad=True)\n",
        "weight.grad = torch.tensor(grad)\n",
        "\n",
        "optimizer = Adam([weight], lr=0.001, beta1=0.9, beta2=0.999, epsilon=1e-8)\n",
        "optimizer.step()\n",
        "\n",
        "# Submit\n",
        "corrector.submit(homework=3, question=\"2d\", test=1, token=token, answer=weight)\n",
        "optimizer.step()\n",
        "corrector.submit_check_some(homework=3, question=\"2d\", tests=[2, 3], token=token,\n",
        "                            answer_dict={2: weight, 3: weight}, required_number=1)"
      ],
      "execution_count": null,
      "outputs": [
        {
          "output_type": "stream",
          "text": [
            "Correct Test!\n",
            "Correct Test!\n"
          ],
          "name": "stdout"
        }
      ]
    },
    {
      "cell_type": "markdown",
      "metadata": {
        "id": "isKfnQt_Wszx"
      },
      "source": [
        "## 2e) Experiments using MNIST (Powerful ones)\n",
        "\n",
        "In this sections we will be testing the same netwrok structure in terms of capacity, learn rate and the same dataset with different optimization algorithms and initialization methods.\n",
        "\n"
      ]
    },
    {
      "cell_type": "markdown",
      "metadata": {
        "id": "Z6z8WuKY9IAU"
      },
      "source": [
        "### Using Fixed **Xavier** initialization:"
      ]
    },
    {
      "cell_type": "code",
      "metadata": {
        "id": "AHf8Gl6oE0O-"
      },
      "source": [
        "fixed_xavier_data_to_plot_loss = []\n",
        "fixed_xavier_data_to_plot_acc = []"
      ],
      "execution_count": null,
      "outputs": []
    },
    {
      "cell_type": "code",
      "metadata": {
        "colab": {
          "base_uri": "https://localhost:8080/"
        },
        "id": "ccy31ejpWt3P",
        "outputId": "200039ab-bc2d-4d5e-d7df-de50c1161e2a"
      },
      "source": [
        "# SGD + momentum test\n",
        "model = FFNN(784,[512,1024,128],[relu,celu,swish, softmax],10,init_method=xavier_init)\n",
        "model.to('cuda')\n",
        "optimizer = SGD(model.parameters(),lr=1e-3,momentum=0.9)\n",
        "with torch.no_grad():\n",
        "  loss, acc = train(model, dataset_train, optimizer,epochs=10,batch_size=100,collate=custom_collate)\n",
        "  test_loss, test_acc = test(model,dataset_test,batch_size=100,collate=custom_collate)\n",
        "\n",
        "  # Formatting results to plot\n",
        "  fixed_xavier_data_to_plot_loss.append({\n",
        "    \"x\": [x+1 for x in range(10)],\n",
        "    \"y\": loss,\n",
        "    \"name\": \"Fixed-Xavier SGD + momentum loss\"\n",
        "  })\n",
        "\n",
        "  fixed_xavier_data_to_plot_acc.append({\n",
        "    \"x\": [x+1 for x in range(10)],\n",
        "    \"y\": acc,\n",
        "    \"name\": \"Fixed-Xavier SGD + momentum Acc\"\n",
        "  })"
      ],
      "execution_count": null,
      "outputs": [
        {
          "output_type": "stream",
          "text": [
            "/usr/local/lib/python3.6/dist-packages/torch/nn/modules/container.py:434: UserWarning:\n",
            "\n",
            "Setting attributes on ParameterList is not supported.\n",
            "\n"
          ],
          "name": "stderr"
        },
        {
          "output_type": "stream",
          "text": [
            "Epoch: 1 | Acc: 65.56% | loss: 1.495\n",
            "Epoch: 2 | Acc: 86.94% | loss: 0.499\n",
            "Epoch: 3 | Acc: 89.64% | loss: 0.369\n",
            "Epoch: 4 | Acc: 90.81% | loss: 0.321\n",
            "Epoch: 5 | Acc: 91.54% | loss: 0.291\n",
            "Epoch: 6 | Acc: 92.24% | loss: 0.268\n",
            "Epoch: 7 | Acc: 92.83% | loss: 0.249\n",
            "Epoch: 8 | Acc: 93.35% | loss: 0.233\n",
            "Epoch: 9 | Acc: 93.78% | loss: 0.218\n",
            "Epoch: 10 | Acc: 94.14% | loss: 0.204\n",
            "\n",
            "Test Results: Acc: 94.42% | loss: 0.195\n"
          ],
          "name": "stdout"
        }
      ]
    },
    {
      "cell_type": "code",
      "metadata": {
        "colab": {
          "base_uri": "https://localhost:8080/"
        },
        "id": "1ps7NczIEq1l",
        "outputId": "6f6c8a20-1b5a-44d1-b523-0ddd337aad5a"
      },
      "source": [
        "# RMSProp test\n",
        "model = FFNN(784,[512,1024,128],[relu,celu,swish, softmax],10,init_method=xavier_init)\n",
        "model.to('cuda')\n",
        "optimizer = RMSProp(model.parameters(),lr=1e-3)\n",
        "with torch.no_grad():\n",
        "  loss, acc = train(model, dataset_train, optimizer,epochs=10,batch_size=100,collate=custom_collate)\n",
        "  test_loss, test_acc = test(model,dataset_test,batch_size=100,collate=custom_collate)\n",
        "\n",
        "  # Formatting results to plot\n",
        "  fixed_xavier_data_to_plot_loss.append({\n",
        "    \"x\": [x+1 for x in range(10)],\n",
        "    \"y\": loss,\n",
        "    \"name\": \"Fixed-Xavier RMSProp loss\"\n",
        "  })\n",
        "\n",
        "  fixed_xavier_data_to_plot_acc.append({\n",
        "    \"x\": [x+1 for x in range(10)],\n",
        "    \"y\": acc,\n",
        "    \"name\": \"Fixed-Xavier RMSProp Acc\"\n",
        "  })"
      ],
      "execution_count": null,
      "outputs": [
        {
          "output_type": "stream",
          "text": [
            "/usr/local/lib/python3.6/dist-packages/torch/nn/modules/container.py:434: UserWarning:\n",
            "\n",
            "Setting attributes on ParameterList is not supported.\n",
            "\n"
          ],
          "name": "stderr"
        },
        {
          "output_type": "stream",
          "text": [
            "Epoch: 1 | Acc: 92.89% | loss: 0.226\n",
            "Epoch: 2 | Acc: 97.16% | loss: 0.094\n",
            "Epoch: 3 | Acc: 97.97% | loss: 0.070\n",
            "Epoch: 4 | Acc: 98.42% | loss: 0.054\n",
            "Epoch: 5 | Acc: 98.64% | loss: 0.047\n",
            "Epoch: 6 | Acc: 98.85% | loss: 0.041\n",
            "Epoch: 7 | Acc: 99.02% | loss: 0.036\n",
            "Epoch: 8 | Acc: 99.13% | loss: 0.033\n",
            "Epoch: 9 | Acc: 99.19% | loss: 0.030\n",
            "Epoch: 10 | Acc: 99.28% | loss: 0.028\n",
            "\n",
            "Test Results: Acc: 97.53% | loss: 0.145\n"
          ],
          "name": "stdout"
        }
      ]
    },
    {
      "cell_type": "code",
      "metadata": {
        "colab": {
          "base_uri": "https://localhost:8080/"
        },
        "id": "_3qUXj0fLNnz",
        "outputId": "a53aaddf-9248-4f77-c754-82485a8d26d6"
      },
      "source": [
        "# Adam test\n",
        "model = FFNN(784,[512,1024,128],[relu,celu,swish, softmax],10,init_method=xavier_init)\n",
        "model.to('cuda')\n",
        "optimizer = Adam(model.parameters(),lr=1e-3)\n",
        "with torch.no_grad():\n",
        "  loss, acc = train(model, dataset_train, optimizer,epochs=10,batch_size=100,collate=custom_collate)\n",
        "  test_loss, test_acc = test(model,dataset_test,batch_size=100,collate=custom_collate)\n",
        "\n",
        "  # Formatting results to plot\n",
        "  fixed_xavier_data_to_plot_loss.append({\n",
        "    \"x\": [x+1 for x in range(10)],\n",
        "    \"y\": loss,\n",
        "    \"name\": \"Fixed-Xavier Adam loss\"\n",
        "  })\n",
        "\n",
        "  fixed_xavier_data_to_plot_acc.append({\n",
        "    \"x\": [x+1 for x in range(10)],\n",
        "    \"y\": acc,\n",
        "    \"name\": \"Fixed-Xavier Adam Acc\"\n",
        "  })"
      ],
      "execution_count": null,
      "outputs": [
        {
          "output_type": "stream",
          "text": [
            "/usr/local/lib/python3.6/dist-packages/torch/nn/modules/container.py:434: UserWarning:\n",
            "\n",
            "Setting attributes on ParameterList is not supported.\n",
            "\n"
          ],
          "name": "stderr"
        },
        {
          "output_type": "stream",
          "text": [
            "Epoch: 1 | Acc: 93.20% | loss: 0.226\n",
            "Epoch: 2 | Acc: 97.52% | loss: 0.083\n",
            "Epoch: 3 | Acc: 98.22% | loss: 0.057\n",
            "Epoch: 4 | Acc: 98.63% | loss: 0.042\n",
            "Epoch: 5 | Acc: 98.90% | loss: 0.034\n",
            "Epoch: 6 | Acc: 99.05% | loss: 0.031\n",
            "Epoch: 7 | Acc: 99.15% | loss: 0.027\n",
            "Epoch: 8 | Acc: 99.22% | loss: 0.024\n",
            "Epoch: 9 | Acc: 99.22% | loss: 0.025\n",
            "Epoch: 10 | Acc: 99.35% | loss: 0.020\n",
            "\n",
            "Test Results: Acc: 98.01% | loss: 0.099\n"
          ],
          "name": "stdout"
        }
      ]
    },
    {
      "cell_type": "code",
      "metadata": {
        "colab": {
          "base_uri": "https://localhost:8080/",
          "height": 951
        },
        "id": "-9XHVhT5JxaV",
        "outputId": "47899aaf-836b-4c3c-c6ef-809f834765a4"
      },
      "source": [
        "plot_results(fixed_xavier_data_to_plot_loss, fixed_xavier_data_to_plot_acc)"
      ],
      "execution_count": null,
      "outputs": [
        {
          "output_type": "display_data",
          "data": {
            "text/html": [
              "<html>\n",
              "<head><meta charset=\"utf-8\" /></head>\n",
              "<body>\n",
              "    <div>\n",
              "            <script src=\"https://cdnjs.cloudflare.com/ajax/libs/mathjax/2.7.5/MathJax.js?config=TeX-AMS-MML_SVG\"></script><script type=\"text/javascript\">if (window.MathJax) {MathJax.Hub.Config({SVG: {font: \"STIX-Web\"}});}</script>\n",
              "                <script type=\"text/javascript\">window.PlotlyConfig = {MathJaxConfig: 'local'};</script>\n",
              "        <script src=\"https://cdn.plot.ly/plotly-latest.min.js\"></script>    \n",
              "            <div id=\"a020b4bd-a462-4939-9b6a-fa0dec187a63\" class=\"plotly-graph-div\" style=\"height:450px; width:700px;\"></div>\n",
              "            <script type=\"text/javascript\">\n",
              "                \n",
              "                    window.PLOTLYENV=window.PLOTLYENV || {};\n",
              "                    \n",
              "                if (document.getElementById(\"a020b4bd-a462-4939-9b6a-fa0dec187a63\")) {\n",
              "                    Plotly.newPlot(\n",
              "                        'a020b4bd-a462-4939-9b6a-fa0dec187a63',\n",
              "                        [{\"mode\": \"lines+markers\", \"name\": \"Fixed-Xavier SGD + momentum loss\", \"textposition\": \"bottom center\", \"type\": \"scatter\", \"x\": [1, 2, 3, 4, 5, 6, 7, 8, 9, 10], \"y\": [1.4946726839741071, 0.498989820231994, 0.36857071094214916, 0.3213222634792328, 0.2912554858997464, 0.2678770395244161, 0.2494154192134738, 0.23263534603019556, 0.21756284800668557, 0.2042642163857818]}, {\"mode\": \"lines+markers\", \"name\": \"Fixed-Xavier RMSProp loss\", \"textposition\": \"bottom center\", \"type\": \"scatter\", \"x\": [1, 2, 3, 4, 5, 6, 7, 8, 9, 10], \"y\": [0.2257288221952816, 0.09393703438108787, 0.06987469767685979, 0.05428213584052476, 0.046729436523625434, 0.04114304787096141, 0.035826217399990125, 0.032514702738565875, 0.029771010969016062, 0.028011562846070318]}, {\"mode\": \"lines+markers\", \"name\": \"Fixed-Xavier Adam loss\", \"textposition\": \"bottom center\", \"type\": \"scatter\", \"x\": [1, 2, 3, 4, 5, 6, 7, 8, 9, 10], \"y\": [0.2255943719173471, 0.08292709234248226, 0.05701175695556837, 0.0423638500845603, 0.03449733970745001, 0.03083574618659137, 0.02679147577614155, 0.02424602373708088, 0.024687034874629414, 0.020294866199225603]}],\n",
              "                        {\"autosize\": false, \"font\": {\"color\": \"#7f7f7f\", \"family\": \"Courier New, monospace\", \"size\": 14}, \"height\": 450, \"template\": {\"data\": {\"bar\": [{\"error_x\": {\"color\": \"#2a3f5f\"}, \"error_y\": {\"color\": \"#2a3f5f\"}, \"marker\": {\"line\": {\"color\": \"#E5ECF6\", \"width\": 0.5}}, \"type\": \"bar\"}], \"barpolar\": [{\"marker\": {\"line\": {\"color\": \"#E5ECF6\", \"width\": 0.5}}, \"type\": \"barpolar\"}], \"carpet\": [{\"aaxis\": {\"endlinecolor\": \"#2a3f5f\", \"gridcolor\": \"white\", \"linecolor\": \"white\", \"minorgridcolor\": \"white\", \"startlinecolor\": \"#2a3f5f\"}, \"baxis\": {\"endlinecolor\": \"#2a3f5f\", \"gridcolor\": \"white\", \"linecolor\": \"white\", \"minorgridcolor\": \"white\", \"startlinecolor\": \"#2a3f5f\"}, \"type\": \"carpet\"}], \"choropleth\": [{\"colorbar\": {\"outlinewidth\": 0, \"ticks\": \"\"}, \"type\": \"choropleth\"}], \"contour\": [{\"colorbar\": {\"outlinewidth\": 0, \"ticks\": \"\"}, \"colorscale\": [[0.0, \"#0d0887\"], [0.1111111111111111, \"#46039f\"], [0.2222222222222222, \"#7201a8\"], [0.3333333333333333, \"#9c179e\"], [0.4444444444444444, \"#bd3786\"], [0.5555555555555556, \"#d8576b\"], [0.6666666666666666, \"#ed7953\"], [0.7777777777777778, \"#fb9f3a\"], [0.8888888888888888, \"#fdca26\"], [1.0, \"#f0f921\"]], \"type\": \"contour\"}], \"contourcarpet\": [{\"colorbar\": {\"outlinewidth\": 0, \"ticks\": \"\"}, \"type\": \"contourcarpet\"}], \"heatmap\": [{\"colorbar\": {\"outlinewidth\": 0, \"ticks\": \"\"}, \"colorscale\": [[0.0, \"#0d0887\"], [0.1111111111111111, \"#46039f\"], [0.2222222222222222, \"#7201a8\"], [0.3333333333333333, \"#9c179e\"], [0.4444444444444444, \"#bd3786\"], [0.5555555555555556, \"#d8576b\"], [0.6666666666666666, \"#ed7953\"], [0.7777777777777778, \"#fb9f3a\"], [0.8888888888888888, \"#fdca26\"], [1.0, \"#f0f921\"]], \"type\": \"heatmap\"}], \"heatmapgl\": [{\"colorbar\": {\"outlinewidth\": 0, \"ticks\": \"\"}, \"colorscale\": [[0.0, \"#0d0887\"], [0.1111111111111111, \"#46039f\"], [0.2222222222222222, \"#7201a8\"], [0.3333333333333333, \"#9c179e\"], [0.4444444444444444, \"#bd3786\"], [0.5555555555555556, \"#d8576b\"], [0.6666666666666666, \"#ed7953\"], [0.7777777777777778, \"#fb9f3a\"], [0.8888888888888888, \"#fdca26\"], [1.0, \"#f0f921\"]], \"type\": \"heatmapgl\"}], \"histogram\": [{\"marker\": {\"colorbar\": {\"outlinewidth\": 0, \"ticks\": \"\"}}, \"type\": \"histogram\"}], \"histogram2d\": [{\"colorbar\": {\"outlinewidth\": 0, \"ticks\": \"\"}, \"colorscale\": [[0.0, \"#0d0887\"], [0.1111111111111111, \"#46039f\"], [0.2222222222222222, \"#7201a8\"], [0.3333333333333333, \"#9c179e\"], [0.4444444444444444, \"#bd3786\"], [0.5555555555555556, \"#d8576b\"], [0.6666666666666666, \"#ed7953\"], [0.7777777777777778, \"#fb9f3a\"], [0.8888888888888888, \"#fdca26\"], [1.0, \"#f0f921\"]], \"type\": \"histogram2d\"}], \"histogram2dcontour\": [{\"colorbar\": {\"outlinewidth\": 0, \"ticks\": \"\"}, \"colorscale\": [[0.0, \"#0d0887\"], [0.1111111111111111, \"#46039f\"], [0.2222222222222222, \"#7201a8\"], [0.3333333333333333, \"#9c179e\"], [0.4444444444444444, \"#bd3786\"], [0.5555555555555556, \"#d8576b\"], [0.6666666666666666, \"#ed7953\"], [0.7777777777777778, \"#fb9f3a\"], [0.8888888888888888, \"#fdca26\"], [1.0, \"#f0f921\"]], \"type\": \"histogram2dcontour\"}], \"mesh3d\": [{\"colorbar\": {\"outlinewidth\": 0, \"ticks\": \"\"}, \"type\": \"mesh3d\"}], \"parcoords\": [{\"line\": {\"colorbar\": {\"outlinewidth\": 0, \"ticks\": \"\"}}, \"type\": \"parcoords\"}], \"pie\": [{\"automargin\": true, \"type\": \"pie\"}], \"scatter\": [{\"marker\": {\"colorbar\": {\"outlinewidth\": 0, \"ticks\": \"\"}}, \"type\": \"scatter\"}], \"scatter3d\": [{\"line\": {\"colorbar\": {\"outlinewidth\": 0, \"ticks\": \"\"}}, \"marker\": {\"colorbar\": {\"outlinewidth\": 0, \"ticks\": \"\"}}, \"type\": \"scatter3d\"}], \"scattercarpet\": [{\"marker\": {\"colorbar\": {\"outlinewidth\": 0, \"ticks\": \"\"}}, \"type\": \"scattercarpet\"}], \"scattergeo\": [{\"marker\": {\"colorbar\": {\"outlinewidth\": 0, \"ticks\": \"\"}}, \"type\": \"scattergeo\"}], \"scattergl\": [{\"marker\": {\"colorbar\": {\"outlinewidth\": 0, \"ticks\": \"\"}}, \"type\": \"scattergl\"}], \"scattermapbox\": [{\"marker\": {\"colorbar\": {\"outlinewidth\": 0, \"ticks\": \"\"}}, \"type\": \"scattermapbox\"}], \"scatterpolar\": [{\"marker\": {\"colorbar\": {\"outlinewidth\": 0, \"ticks\": \"\"}}, \"type\": \"scatterpolar\"}], \"scatterpolargl\": [{\"marker\": {\"colorbar\": {\"outlinewidth\": 0, \"ticks\": \"\"}}, \"type\": \"scatterpolargl\"}], \"scatterternary\": [{\"marker\": {\"colorbar\": {\"outlinewidth\": 0, \"ticks\": \"\"}}, \"type\": \"scatterternary\"}], \"surface\": [{\"colorbar\": {\"outlinewidth\": 0, \"ticks\": \"\"}, \"colorscale\": [[0.0, \"#0d0887\"], [0.1111111111111111, \"#46039f\"], [0.2222222222222222, \"#7201a8\"], [0.3333333333333333, \"#9c179e\"], [0.4444444444444444, \"#bd3786\"], [0.5555555555555556, \"#d8576b\"], [0.6666666666666666, \"#ed7953\"], [0.7777777777777778, \"#fb9f3a\"], [0.8888888888888888, \"#fdca26\"], [1.0, \"#f0f921\"]], \"type\": \"surface\"}], \"table\": [{\"cells\": {\"fill\": {\"color\": \"#EBF0F8\"}, \"line\": {\"color\": \"white\"}}, \"header\": {\"fill\": {\"color\": \"#C8D4E3\"}, \"line\": {\"color\": \"white\"}}, \"type\": \"table\"}]}, \"layout\": {\"annotationdefaults\": {\"arrowcolor\": \"#2a3f5f\", \"arrowhead\": 0, \"arrowwidth\": 1}, \"coloraxis\": {\"colorbar\": {\"outlinewidth\": 0, \"ticks\": \"\"}}, \"colorscale\": {\"diverging\": [[0, \"#8e0152\"], [0.1, \"#c51b7d\"], [0.2, \"#de77ae\"], [0.3, \"#f1b6da\"], [0.4, \"#fde0ef\"], [0.5, \"#f7f7f7\"], [0.6, \"#e6f5d0\"], [0.7, \"#b8e186\"], [0.8, \"#7fbc41\"], [0.9, \"#4d9221\"], [1, \"#276419\"]], \"sequential\": [[0.0, \"#0d0887\"], [0.1111111111111111, \"#46039f\"], [0.2222222222222222, \"#7201a8\"], [0.3333333333333333, \"#9c179e\"], [0.4444444444444444, \"#bd3786\"], [0.5555555555555556, \"#d8576b\"], [0.6666666666666666, \"#ed7953\"], [0.7777777777777778, \"#fb9f3a\"], [0.8888888888888888, \"#fdca26\"], [1.0, \"#f0f921\"]], \"sequentialminus\": [[0.0, \"#0d0887\"], [0.1111111111111111, \"#46039f\"], [0.2222222222222222, \"#7201a8\"], [0.3333333333333333, \"#9c179e\"], [0.4444444444444444, \"#bd3786\"], [0.5555555555555556, \"#d8576b\"], [0.6666666666666666, \"#ed7953\"], [0.7777777777777778, \"#fb9f3a\"], [0.8888888888888888, \"#fdca26\"], [1.0, \"#f0f921\"]]}, \"colorway\": [\"#636efa\", \"#EF553B\", \"#00cc96\", \"#ab63fa\", \"#FFA15A\", \"#19d3f3\", \"#FF6692\", \"#B6E880\", \"#FF97FF\", \"#FECB52\"], \"font\": {\"color\": \"#2a3f5f\"}, \"geo\": {\"bgcolor\": \"white\", \"lakecolor\": \"white\", \"landcolor\": \"#E5ECF6\", \"showlakes\": true, \"showland\": true, \"subunitcolor\": \"white\"}, \"hoverlabel\": {\"align\": \"left\"}, \"hovermode\": \"closest\", \"mapbox\": {\"style\": \"light\"}, \"paper_bgcolor\": \"white\", \"plot_bgcolor\": \"#E5ECF6\", \"polar\": {\"angularaxis\": {\"gridcolor\": \"white\", \"linecolor\": \"white\", \"ticks\": \"\"}, \"bgcolor\": \"#E5ECF6\", \"radialaxis\": {\"gridcolor\": \"white\", \"linecolor\": \"white\", \"ticks\": \"\"}}, \"scene\": {\"xaxis\": {\"backgroundcolor\": \"#E5ECF6\", \"gridcolor\": \"white\", \"gridwidth\": 2, \"linecolor\": \"white\", \"showbackground\": true, \"ticks\": \"\", \"zerolinecolor\": \"white\"}, \"yaxis\": {\"backgroundcolor\": \"#E5ECF6\", \"gridcolor\": \"white\", \"gridwidth\": 2, \"linecolor\": \"white\", \"showbackground\": true, \"ticks\": \"\", \"zerolinecolor\": \"white\"}, \"zaxis\": {\"backgroundcolor\": \"#E5ECF6\", \"gridcolor\": \"white\", \"gridwidth\": 2, \"linecolor\": \"white\", \"showbackground\": true, \"ticks\": \"\", \"zerolinecolor\": \"white\"}}, \"shapedefaults\": {\"line\": {\"color\": \"#2a3f5f\"}}, \"ternary\": {\"aaxis\": {\"gridcolor\": \"white\", \"linecolor\": \"white\", \"ticks\": \"\"}, \"baxis\": {\"gridcolor\": \"white\", \"linecolor\": \"white\", \"ticks\": \"\"}, \"bgcolor\": \"#E5ECF6\", \"caxis\": {\"gridcolor\": \"white\", \"linecolor\": \"white\", \"ticks\": \"\"}}, \"title\": {\"x\": 0.05}, \"xaxis\": {\"automargin\": true, \"gridcolor\": \"white\", \"linecolor\": \"white\", \"ticks\": \"\", \"title\": {\"standoff\": 15}, \"zerolinecolor\": \"white\", \"zerolinewidth\": 2}, \"yaxis\": {\"automargin\": true, \"gridcolor\": \"white\", \"linecolor\": \"white\", \"ticks\": \"\", \"title\": {\"standoff\": 15}, \"zerolinecolor\": \"white\", \"zerolinewidth\": 2}}}, \"title\": {\"text\": \"Loss Chart\"}, \"width\": 700, \"xaxis\": {\"title\": {\"text\": \"Epochs\"}}, \"yaxis\": {\"title\": {\"text\": \"Loss\"}}},\n",
              "                        {\"responsive\": true}\n",
              "                    ).then(function(){\n",
              "                            \n",
              "var gd = document.getElementById('a020b4bd-a462-4939-9b6a-fa0dec187a63');\n",
              "var x = new MutationObserver(function (mutations, observer) {{\n",
              "        var display = window.getComputedStyle(gd).display;\n",
              "        if (!display || display === 'none') {{\n",
              "            console.log([gd, 'removed!']);\n",
              "            Plotly.purge(gd);\n",
              "            observer.disconnect();\n",
              "        }}\n",
              "}});\n",
              "\n",
              "// Listen for the removal of the full notebook cells\n",
              "var notebookContainer = gd.closest('#notebook-container');\n",
              "if (notebookContainer) {{\n",
              "    x.observe(notebookContainer, {childList: true});\n",
              "}}\n",
              "\n",
              "// Listen for the clearing of the current output cell\n",
              "var outputEl = gd.closest('.output');\n",
              "if (outputEl) {{\n",
              "    x.observe(outputEl, {childList: true});\n",
              "}}\n",
              "\n",
              "                        })\n",
              "                };\n",
              "                \n",
              "            </script>\n",
              "        </div>\n",
              "</body>\n",
              "</html>"
            ]
          },
          "metadata": {
            "tags": []
          }
        },
        {
          "output_type": "stream",
          "text": [
            "\n",
            "\n"
          ],
          "name": "stdout"
        },
        {
          "output_type": "display_data",
          "data": {
            "text/html": [
              "<html>\n",
              "<head><meta charset=\"utf-8\" /></head>\n",
              "<body>\n",
              "    <div>\n",
              "            <script src=\"https://cdnjs.cloudflare.com/ajax/libs/mathjax/2.7.5/MathJax.js?config=TeX-AMS-MML_SVG\"></script><script type=\"text/javascript\">if (window.MathJax) {MathJax.Hub.Config({SVG: {font: \"STIX-Web\"}});}</script>\n",
              "                <script type=\"text/javascript\">window.PlotlyConfig = {MathJaxConfig: 'local'};</script>\n",
              "        <script src=\"https://cdn.plot.ly/plotly-latest.min.js\"></script>    \n",
              "            <div id=\"83f13d49-aac1-4899-960b-f711a47af693\" class=\"plotly-graph-div\" style=\"height:450px; width:700px;\"></div>\n",
              "            <script type=\"text/javascript\">\n",
              "                \n",
              "                    window.PLOTLYENV=window.PLOTLYENV || {};\n",
              "                    \n",
              "                if (document.getElementById(\"83f13d49-aac1-4899-960b-f711a47af693\")) {\n",
              "                    Plotly.newPlot(\n",
              "                        '83f13d49-aac1-4899-960b-f711a47af693',\n",
              "                        [{\"mode\": \"lines+markers\", \"name\": \"Fixed-Xavier SGD + momentum Acc\", \"textposition\": \"bottom center\", \"type\": \"scatter\", \"x\": [1, 2, 3, 4, 5, 6, 7, 8, 9, 10], \"y\": [0.6556166666666666, 0.86945, 0.8963833333333333, 0.9080833333333334, 0.9153666666666667, 0.9224, 0.9282833333333333, 0.9335166666666667, 0.9378, 0.9414]}, {\"mode\": \"lines+markers\", \"name\": \"Fixed-Xavier RMSProp Acc\", \"textposition\": \"bottom center\", \"type\": \"scatter\", \"x\": [1, 2, 3, 4, 5, 6, 7, 8, 9, 10], \"y\": [0.9289166666666666, 0.9715833333333334, 0.9796666666666667, 0.9842166666666666, 0.9864166666666667, 0.9885333333333334, 0.9901833333333333, 0.9912833333333333, 0.9919166666666667, 0.9927833333333334]}, {\"mode\": \"lines+markers\", \"name\": \"Fixed-Xavier Adam Acc\", \"textposition\": \"bottom center\", \"type\": \"scatter\", \"x\": [1, 2, 3, 4, 5, 6, 7, 8, 9, 10], \"y\": [0.932, 0.97515, 0.98215, 0.9862666666666666, 0.9889666666666667, 0.99045, 0.9915166666666667, 0.99215, 0.9922333333333333, 0.9934666666666667]}],\n",
              "                        {\"autosize\": false, \"font\": {\"color\": \"#7f7f7f\", \"family\": \"Courier New, monospace\", \"size\": 14}, \"height\": 450, \"template\": {\"data\": {\"bar\": [{\"error_x\": {\"color\": \"#2a3f5f\"}, \"error_y\": {\"color\": \"#2a3f5f\"}, \"marker\": {\"line\": {\"color\": \"#E5ECF6\", \"width\": 0.5}}, \"type\": \"bar\"}], \"barpolar\": [{\"marker\": {\"line\": {\"color\": \"#E5ECF6\", \"width\": 0.5}}, \"type\": \"barpolar\"}], \"carpet\": [{\"aaxis\": {\"endlinecolor\": \"#2a3f5f\", \"gridcolor\": \"white\", \"linecolor\": \"white\", \"minorgridcolor\": \"white\", \"startlinecolor\": \"#2a3f5f\"}, \"baxis\": {\"endlinecolor\": \"#2a3f5f\", \"gridcolor\": \"white\", \"linecolor\": \"white\", \"minorgridcolor\": \"white\", \"startlinecolor\": \"#2a3f5f\"}, \"type\": \"carpet\"}], \"choropleth\": [{\"colorbar\": {\"outlinewidth\": 0, \"ticks\": \"\"}, \"type\": \"choropleth\"}], \"contour\": [{\"colorbar\": {\"outlinewidth\": 0, \"ticks\": \"\"}, \"colorscale\": [[0.0, \"#0d0887\"], [0.1111111111111111, \"#46039f\"], [0.2222222222222222, \"#7201a8\"], [0.3333333333333333, \"#9c179e\"], [0.4444444444444444, \"#bd3786\"], [0.5555555555555556, \"#d8576b\"], [0.6666666666666666, \"#ed7953\"], [0.7777777777777778, \"#fb9f3a\"], [0.8888888888888888, \"#fdca26\"], [1.0, \"#f0f921\"]], \"type\": \"contour\"}], \"contourcarpet\": [{\"colorbar\": {\"outlinewidth\": 0, \"ticks\": \"\"}, \"type\": \"contourcarpet\"}], \"heatmap\": [{\"colorbar\": {\"outlinewidth\": 0, \"ticks\": \"\"}, \"colorscale\": [[0.0, \"#0d0887\"], [0.1111111111111111, \"#46039f\"], [0.2222222222222222, \"#7201a8\"], [0.3333333333333333, \"#9c179e\"], [0.4444444444444444, \"#bd3786\"], [0.5555555555555556, \"#d8576b\"], [0.6666666666666666, \"#ed7953\"], [0.7777777777777778, \"#fb9f3a\"], [0.8888888888888888, \"#fdca26\"], [1.0, \"#f0f921\"]], \"type\": \"heatmap\"}], \"heatmapgl\": [{\"colorbar\": {\"outlinewidth\": 0, \"ticks\": \"\"}, \"colorscale\": [[0.0, \"#0d0887\"], [0.1111111111111111, \"#46039f\"], [0.2222222222222222, \"#7201a8\"], [0.3333333333333333, \"#9c179e\"], [0.4444444444444444, \"#bd3786\"], [0.5555555555555556, \"#d8576b\"], [0.6666666666666666, \"#ed7953\"], [0.7777777777777778, \"#fb9f3a\"], [0.8888888888888888, \"#fdca26\"], [1.0, \"#f0f921\"]], \"type\": \"heatmapgl\"}], \"histogram\": [{\"marker\": {\"colorbar\": {\"outlinewidth\": 0, \"ticks\": \"\"}}, \"type\": \"histogram\"}], \"histogram2d\": [{\"colorbar\": {\"outlinewidth\": 0, \"ticks\": \"\"}, \"colorscale\": [[0.0, \"#0d0887\"], [0.1111111111111111, \"#46039f\"], [0.2222222222222222, \"#7201a8\"], [0.3333333333333333, \"#9c179e\"], [0.4444444444444444, \"#bd3786\"], [0.5555555555555556, \"#d8576b\"], [0.6666666666666666, \"#ed7953\"], [0.7777777777777778, \"#fb9f3a\"], [0.8888888888888888, \"#fdca26\"], [1.0, \"#f0f921\"]], \"type\": \"histogram2d\"}], \"histogram2dcontour\": [{\"colorbar\": {\"outlinewidth\": 0, \"ticks\": \"\"}, \"colorscale\": [[0.0, \"#0d0887\"], [0.1111111111111111, \"#46039f\"], [0.2222222222222222, \"#7201a8\"], [0.3333333333333333, \"#9c179e\"], [0.4444444444444444, \"#bd3786\"], [0.5555555555555556, \"#d8576b\"], [0.6666666666666666, \"#ed7953\"], [0.7777777777777778, \"#fb9f3a\"], [0.8888888888888888, \"#fdca26\"], [1.0, \"#f0f921\"]], \"type\": \"histogram2dcontour\"}], \"mesh3d\": [{\"colorbar\": {\"outlinewidth\": 0, \"ticks\": \"\"}, \"type\": \"mesh3d\"}], \"parcoords\": [{\"line\": {\"colorbar\": {\"outlinewidth\": 0, \"ticks\": \"\"}}, \"type\": \"parcoords\"}], \"pie\": [{\"automargin\": true, \"type\": \"pie\"}], \"scatter\": [{\"marker\": {\"colorbar\": {\"outlinewidth\": 0, \"ticks\": \"\"}}, \"type\": \"scatter\"}], \"scatter3d\": [{\"line\": {\"colorbar\": {\"outlinewidth\": 0, \"ticks\": \"\"}}, \"marker\": {\"colorbar\": {\"outlinewidth\": 0, \"ticks\": \"\"}}, \"type\": \"scatter3d\"}], \"scattercarpet\": [{\"marker\": {\"colorbar\": {\"outlinewidth\": 0, \"ticks\": \"\"}}, \"type\": \"scattercarpet\"}], \"scattergeo\": [{\"marker\": {\"colorbar\": {\"outlinewidth\": 0, \"ticks\": \"\"}}, \"type\": \"scattergeo\"}], \"scattergl\": [{\"marker\": {\"colorbar\": {\"outlinewidth\": 0, \"ticks\": \"\"}}, \"type\": \"scattergl\"}], \"scattermapbox\": [{\"marker\": {\"colorbar\": {\"outlinewidth\": 0, \"ticks\": \"\"}}, \"type\": \"scattermapbox\"}], \"scatterpolar\": [{\"marker\": {\"colorbar\": {\"outlinewidth\": 0, \"ticks\": \"\"}}, \"type\": \"scatterpolar\"}], \"scatterpolargl\": [{\"marker\": {\"colorbar\": {\"outlinewidth\": 0, \"ticks\": \"\"}}, \"type\": \"scatterpolargl\"}], \"scatterternary\": [{\"marker\": {\"colorbar\": {\"outlinewidth\": 0, \"ticks\": \"\"}}, \"type\": \"scatterternary\"}], \"surface\": [{\"colorbar\": {\"outlinewidth\": 0, \"ticks\": \"\"}, \"colorscale\": [[0.0, \"#0d0887\"], [0.1111111111111111, \"#46039f\"], [0.2222222222222222, \"#7201a8\"], [0.3333333333333333, \"#9c179e\"], [0.4444444444444444, \"#bd3786\"], [0.5555555555555556, \"#d8576b\"], [0.6666666666666666, \"#ed7953\"], [0.7777777777777778, \"#fb9f3a\"], [0.8888888888888888, \"#fdca26\"], [1.0, \"#f0f921\"]], \"type\": \"surface\"}], \"table\": [{\"cells\": {\"fill\": {\"color\": \"#EBF0F8\"}, \"line\": {\"color\": \"white\"}}, \"header\": {\"fill\": {\"color\": \"#C8D4E3\"}, \"line\": {\"color\": \"white\"}}, \"type\": \"table\"}]}, \"layout\": {\"annotationdefaults\": {\"arrowcolor\": \"#2a3f5f\", \"arrowhead\": 0, \"arrowwidth\": 1}, \"coloraxis\": {\"colorbar\": {\"outlinewidth\": 0, \"ticks\": \"\"}}, \"colorscale\": {\"diverging\": [[0, \"#8e0152\"], [0.1, \"#c51b7d\"], [0.2, \"#de77ae\"], [0.3, \"#f1b6da\"], [0.4, \"#fde0ef\"], [0.5, \"#f7f7f7\"], [0.6, \"#e6f5d0\"], [0.7, \"#b8e186\"], [0.8, \"#7fbc41\"], [0.9, \"#4d9221\"], [1, \"#276419\"]], \"sequential\": [[0.0, \"#0d0887\"], [0.1111111111111111, \"#46039f\"], [0.2222222222222222, \"#7201a8\"], [0.3333333333333333, \"#9c179e\"], [0.4444444444444444, \"#bd3786\"], [0.5555555555555556, \"#d8576b\"], [0.6666666666666666, \"#ed7953\"], [0.7777777777777778, \"#fb9f3a\"], [0.8888888888888888, \"#fdca26\"], [1.0, \"#f0f921\"]], \"sequentialminus\": [[0.0, \"#0d0887\"], [0.1111111111111111, \"#46039f\"], [0.2222222222222222, \"#7201a8\"], [0.3333333333333333, \"#9c179e\"], [0.4444444444444444, \"#bd3786\"], [0.5555555555555556, \"#d8576b\"], [0.6666666666666666, \"#ed7953\"], [0.7777777777777778, \"#fb9f3a\"], [0.8888888888888888, \"#fdca26\"], [1.0, \"#f0f921\"]]}, \"colorway\": [\"#636efa\", \"#EF553B\", \"#00cc96\", \"#ab63fa\", \"#FFA15A\", \"#19d3f3\", \"#FF6692\", \"#B6E880\", \"#FF97FF\", \"#FECB52\"], \"font\": {\"color\": \"#2a3f5f\"}, \"geo\": {\"bgcolor\": \"white\", \"lakecolor\": \"white\", \"landcolor\": \"#E5ECF6\", \"showlakes\": true, \"showland\": true, \"subunitcolor\": \"white\"}, \"hoverlabel\": {\"align\": \"left\"}, \"hovermode\": \"closest\", \"mapbox\": {\"style\": \"light\"}, \"paper_bgcolor\": \"white\", \"plot_bgcolor\": \"#E5ECF6\", \"polar\": {\"angularaxis\": {\"gridcolor\": \"white\", \"linecolor\": \"white\", \"ticks\": \"\"}, \"bgcolor\": \"#E5ECF6\", \"radialaxis\": {\"gridcolor\": \"white\", \"linecolor\": \"white\", \"ticks\": \"\"}}, \"scene\": {\"xaxis\": {\"backgroundcolor\": \"#E5ECF6\", \"gridcolor\": \"white\", \"gridwidth\": 2, \"linecolor\": \"white\", \"showbackground\": true, \"ticks\": \"\", \"zerolinecolor\": \"white\"}, \"yaxis\": {\"backgroundcolor\": \"#E5ECF6\", \"gridcolor\": \"white\", \"gridwidth\": 2, \"linecolor\": \"white\", \"showbackground\": true, \"ticks\": \"\", \"zerolinecolor\": \"white\"}, \"zaxis\": {\"backgroundcolor\": \"#E5ECF6\", \"gridcolor\": \"white\", \"gridwidth\": 2, \"linecolor\": \"white\", \"showbackground\": true, \"ticks\": \"\", \"zerolinecolor\": \"white\"}}, \"shapedefaults\": {\"line\": {\"color\": \"#2a3f5f\"}}, \"ternary\": {\"aaxis\": {\"gridcolor\": \"white\", \"linecolor\": \"white\", \"ticks\": \"\"}, \"baxis\": {\"gridcolor\": \"white\", \"linecolor\": \"white\", \"ticks\": \"\"}, \"bgcolor\": \"#E5ECF6\", \"caxis\": {\"gridcolor\": \"white\", \"linecolor\": \"white\", \"ticks\": \"\"}}, \"title\": {\"x\": 0.05}, \"xaxis\": {\"automargin\": true, \"gridcolor\": \"white\", \"linecolor\": \"white\", \"ticks\": \"\", \"title\": {\"standoff\": 15}, \"zerolinecolor\": \"white\", \"zerolinewidth\": 2}, \"yaxis\": {\"automargin\": true, \"gridcolor\": \"white\", \"linecolor\": \"white\", \"ticks\": \"\", \"title\": {\"standoff\": 15}, \"zerolinecolor\": \"white\", \"zerolinewidth\": 2}}}, \"title\": {\"text\": \"Accuracy Chart\"}, \"width\": 700, \"xaxis\": {\"title\": {\"text\": \"Epochs\"}}, \"yaxis\": {\"title\": {\"text\": \"Acc\"}}},\n",
              "                        {\"responsive\": true}\n",
              "                    ).then(function(){\n",
              "                            \n",
              "var gd = document.getElementById('83f13d49-aac1-4899-960b-f711a47af693');\n",
              "var x = new MutationObserver(function (mutations, observer) {{\n",
              "        var display = window.getComputedStyle(gd).display;\n",
              "        if (!display || display === 'none') {{\n",
              "            console.log([gd, 'removed!']);\n",
              "            Plotly.purge(gd);\n",
              "            observer.disconnect();\n",
              "        }}\n",
              "}});\n",
              "\n",
              "// Listen for the removal of the full notebook cells\n",
              "var notebookContainer = gd.closest('#notebook-container');\n",
              "if (notebookContainer) {{\n",
              "    x.observe(notebookContainer, {childList: true});\n",
              "}}\n",
              "\n",
              "// Listen for the clearing of the current output cell\n",
              "var outputEl = gd.closest('.output');\n",
              "if (outputEl) {{\n",
              "    x.observe(outputEl, {childList: true});\n",
              "}}\n",
              "\n",
              "                        })\n",
              "                };\n",
              "                \n",
              "            </script>\n",
              "        </div>\n",
              "</body>\n",
              "</html>"
            ]
          },
          "metadata": {
            "tags": []
          }
        }
      ]
    },
    {
      "cell_type": "markdown",
      "metadata": {
        "id": "s9Q2JBQV-bzE"
      },
      "source": [
        "### Using Fixed **He** initialization:"
      ]
    },
    {
      "cell_type": "code",
      "metadata": {
        "id": "GyzYkS-7PFel"
      },
      "source": [
        "fixed_he_data_to_plot_loss = []\n",
        "fixed_he_data_to_plot_acc = []"
      ],
      "execution_count": null,
      "outputs": []
    },
    {
      "cell_type": "code",
      "metadata": {
        "colab": {
          "base_uri": "https://localhost:8080/"
        },
        "id": "Vi53Lczj-fn_",
        "outputId": "ea59a73d-f78e-4d12-8fb3-dec977332d19"
      },
      "source": [
        "# SGD + momentum test\n",
        "model = FFNN(784,[512,1024,128],[relu,celu,swish, softmax],10,init_method=he_init)\n",
        "model.to('cuda')\n",
        "optimizer = SGD(model.parameters(),lr=1e-3,momentum=0.9)\n",
        "with torch.no_grad():\n",
        "  loss, acc = train(model, dataset_train, optimizer,epochs=10,batch_size=100,collate=custom_collate)\n",
        "  test_loss, test_acc = test(model,dataset_test,batch_size=100,collate=custom_collate)\n",
        "\n",
        "  # Formatting results to plot\n",
        "  fixed_he_data_to_plot_loss.append({\n",
        "    \"x\": [x+1 for x in range(10)],\n",
        "    \"y\": loss,\n",
        "    \"name\": \"Fixed-He SGD + momentum loss\"\n",
        "  })\n",
        "\n",
        "  fixed_he_data_to_plot_acc.append({\n",
        "    \"x\": [x+1 for x in range(10)],\n",
        "    \"y\": acc,\n",
        "    \"name\": \"Fixed-He SGD + momentum Acc\"\n",
        "  })"
      ],
      "execution_count": null,
      "outputs": [
        {
          "output_type": "stream",
          "text": [
            "/usr/local/lib/python3.6/dist-packages/torch/nn/modules/container.py:434: UserWarning:\n",
            "\n",
            "Setting attributes on ParameterList is not supported.\n",
            "\n"
          ],
          "name": "stderr"
        },
        {
          "output_type": "stream",
          "text": [
            "Epoch: 1 | Acc: 78.87% | loss: 0.814\n",
            "Epoch: 2 | Acc: 90.06% | loss: 0.351\n",
            "Epoch: 3 | Acc: 91.56% | loss: 0.293\n",
            "Epoch: 4 | Acc: 92.52% | loss: 0.260\n",
            "Epoch: 5 | Acc: 93.28% | loss: 0.236\n",
            "Epoch: 6 | Acc: 93.77% | loss: 0.216\n",
            "Epoch: 7 | Acc: 94.25% | loss: 0.200\n",
            "Epoch: 8 | Acc: 94.66% | loss: 0.186\n",
            "Epoch: 9 | Acc: 95.03% | loss: 0.174\n",
            "Epoch: 10 | Acc: 95.31% | loss: 0.163\n",
            "\n",
            "Test Results: Acc: 95.41% | loss: 0.161\n"
          ],
          "name": "stdout"
        }
      ]
    },
    {
      "cell_type": "code",
      "metadata": {
        "colab": {
          "base_uri": "https://localhost:8080/"
        },
        "id": "mgH8ZNtK-r-N",
        "outputId": "3eb696ca-bb86-49f2-b576-8e93bedc006f"
      },
      "source": [
        "# RMSProp test\n",
        "model = FFNN(784,[512,1024,128],[relu,celu,swish, softmax],10,init_method=he_init)\n",
        "model.to('cuda')\n",
        "optimizer = RMSProp(model.parameters(),lr=1e-3)\n",
        "with torch.no_grad():\n",
        "  loss, acc = train(model, dataset_train, optimizer,epochs=10,batch_size=100,collate=custom_collate)\n",
        "  test_loss, test_acc = test(model,dataset_test,batch_size=100,collate=custom_collate)\n",
        "\n",
        "  # Formatting results to plot\n",
        "  fixed_he_data_to_plot_loss.append({\n",
        "    \"x\": [x+1 for x in range(10)],\n",
        "    \"y\": loss,\n",
        "    \"name\": \"Fixed-He RMSProp loss\"\n",
        "  })\n",
        "\n",
        "  fixed_he_data_to_plot_acc.append({\n",
        "    \"x\": [x+1 for x in range(10)],\n",
        "    \"y\": acc,\n",
        "    \"name\": \"Fixed-He RMSProp Acc\"\n",
        "  })"
      ],
      "execution_count": null,
      "outputs": [
        {
          "output_type": "stream",
          "text": [
            "/usr/local/lib/python3.6/dist-packages/torch/nn/modules/container.py:434: UserWarning:\n",
            "\n",
            "Setting attributes on ParameterList is not supported.\n",
            "\n"
          ],
          "name": "stderr"
        },
        {
          "output_type": "stream",
          "text": [
            "Epoch: 1 | Acc: 92.84% | loss: 0.229\n",
            "Epoch: 2 | Acc: 97.21% | loss: 0.094\n",
            "Epoch: 3 | Acc: 97.95% | loss: 0.069\n",
            "Epoch: 4 | Acc: 98.35% | loss: 0.057\n",
            "Epoch: 5 | Acc: 98.65% | loss: 0.049\n",
            "Epoch: 6 | Acc: 98.83% | loss: 0.044\n",
            "Epoch: 7 | Acc: 98.96% | loss: 0.041\n",
            "Epoch: 8 | Acc: 99.01% | loss: 0.036\n",
            "Epoch: 9 | Acc: 99.11% | loss: 0.034\n",
            "Epoch: 10 | Acc: 99.28% | loss: 0.030\n",
            "\n",
            "Test Results: Acc: 98.00% | loss: 0.112\n"
          ],
          "name": "stdout"
        }
      ]
    },
    {
      "cell_type": "code",
      "metadata": {
        "colab": {
          "base_uri": "https://localhost:8080/"
        },
        "id": "guBAfA3D-zOu",
        "outputId": "f6baaf6e-dba9-43aa-ed4f-e3893d38edf5"
      },
      "source": [
        "# Adam test\n",
        "model = FFNN(784,[512,1024,128],[relu,celu,swish, softmax],10,init_method=he_init)\n",
        "model.to('cuda')\n",
        "optimizer = Adam(model.parameters(),lr=1e-3)\n",
        "with torch.no_grad():\n",
        "  loss, acc = train(model, dataset_train, optimizer,epochs=10,batch_size=100,collate=custom_collate)\n",
        "  test_loss, test_acc = test(model,dataset_test,batch_size=100,collate=custom_collate)\n",
        "\n",
        "  # Formatting results to plot\n",
        "  fixed_he_data_to_plot_loss.append({\n",
        "    \"x\": [x+1 for x in range(10)],\n",
        "    \"y\": loss,\n",
        "    \"name\": \"Fixed-He Adam loss\"\n",
        "  })\n",
        "\n",
        "  fixed_he_data_to_plot_acc.append({\n",
        "    \"x\": [x+1 for x in range(10)],\n",
        "    \"y\": acc,\n",
        "    \"name\": \"Fixed-He Adam Acc\"\n",
        "  })"
      ],
      "execution_count": null,
      "outputs": [
        {
          "output_type": "stream",
          "text": [
            "/usr/local/lib/python3.6/dist-packages/torch/nn/modules/container.py:434: UserWarning:\n",
            "\n",
            "Setting attributes on ParameterList is not supported.\n",
            "\n"
          ],
          "name": "stderr"
        },
        {
          "output_type": "stream",
          "text": [
            "Epoch: 1 | Acc: 93.59% | loss: 0.211\n",
            "Epoch: 2 | Acc: 97.47% | loss: 0.081\n",
            "Epoch: 3 | Acc: 98.27% | loss: 0.054\n",
            "Epoch: 4 | Acc: 98.62% | loss: 0.042\n",
            "Epoch: 5 | Acc: 98.90% | loss: 0.033\n",
            "Epoch: 6 | Acc: 98.94% | loss: 0.032\n",
            "Epoch: 7 | Acc: 99.19% | loss: 0.026\n",
            "Epoch: 8 | Acc: 99.19% | loss: 0.026\n",
            "Epoch: 9 | Acc: 99.30% | loss: 0.022\n",
            "Epoch: 10 | Acc: 99.32% | loss: 0.022\n",
            "\n",
            "Test Results: Acc: 97.81% | loss: 0.094\n"
          ],
          "name": "stdout"
        }
      ]
    },
    {
      "cell_type": "code",
      "metadata": {
        "colab": {
          "base_uri": "https://localhost:8080/",
          "height": 951
        },
        "id": "_ZZNbS7wJvI_",
        "outputId": "aa3b64cb-9ce7-422c-860f-734d8baf59fc"
      },
      "source": [
        "plot_results(fixed_he_data_to_plot_loss, fixed_he_data_to_plot_acc)"
      ],
      "execution_count": null,
      "outputs": [
        {
          "output_type": "display_data",
          "data": {
            "text/html": [
              "<html>\n",
              "<head><meta charset=\"utf-8\" /></head>\n",
              "<body>\n",
              "    <div>\n",
              "            <script src=\"https://cdnjs.cloudflare.com/ajax/libs/mathjax/2.7.5/MathJax.js?config=TeX-AMS-MML_SVG\"></script><script type=\"text/javascript\">if (window.MathJax) {MathJax.Hub.Config({SVG: {font: \"STIX-Web\"}});}</script>\n",
              "                <script type=\"text/javascript\">window.PlotlyConfig = {MathJaxConfig: 'local'};</script>\n",
              "        <script src=\"https://cdn.plot.ly/plotly-latest.min.js\"></script>    \n",
              "            <div id=\"37d340c2-d9f4-48ae-8df5-6be5803f0c92\" class=\"plotly-graph-div\" style=\"height:450px; width:700px;\"></div>\n",
              "            <script type=\"text/javascript\">\n",
              "                \n",
              "                    window.PLOTLYENV=window.PLOTLYENV || {};\n",
              "                    \n",
              "                if (document.getElementById(\"37d340c2-d9f4-48ae-8df5-6be5803f0c92\")) {\n",
              "                    Plotly.newPlot(\n",
              "                        '37d340c2-d9f4-48ae-8df5-6be5803f0c92',\n",
              "                        [{\"mode\": \"lines+markers\", \"name\": \"Fixed-He SGD + momentum loss\", \"textposition\": \"bottom center\", \"type\": \"scatter\", \"x\": [1, 2, 3, 4, 5, 6, 7, 8, 9, 10], \"y\": [0.8143275950849056, 0.3506072501589855, 0.2929729350532094, 0.2600371033946673, 0.23572152702758709, 0.2163191253443559, 0.2003193297237158, 0.18562374950076144, 0.17363035605599483, 0.16310796463862062]}, {\"mode\": \"lines+markers\", \"name\": \"Fixed-He RMSProp loss\", \"textposition\": \"bottom center\", \"type\": \"scatter\", \"x\": [1, 2, 3, 4, 5, 6, 7, 8, 9, 10], \"y\": [0.22943275176299116, 0.09402276871105035, 0.06873748036644732, 0.05695977002261012, 0.04859809411704191, 0.043791223887819794, 0.04093457852260296, 0.03564852645365287, 0.033862326256024367, 0.02956686371122866]}, {\"mode\": \"lines+markers\", \"name\": \"Fixed-He Adam loss\", \"textposition\": \"bottom center\", \"type\": \"scatter\", \"x\": [1, 2, 3, 4, 5, 6, 7, 8, 9, 10], \"y\": [0.21140030680224298, 0.08094334384736915, 0.05399596981316184, 0.04245044391126915, 0.03305005273801119, 0.03208567126947552, 0.02580533220728588, 0.025931383492831323, 0.021986382376817347, 0.02158244642196223]}],\n",
              "                        {\"autosize\": false, \"font\": {\"color\": \"#7f7f7f\", \"family\": \"Courier New, monospace\", \"size\": 14}, \"height\": 450, \"template\": {\"data\": {\"bar\": [{\"error_x\": {\"color\": \"#2a3f5f\"}, \"error_y\": {\"color\": \"#2a3f5f\"}, \"marker\": {\"line\": {\"color\": \"#E5ECF6\", \"width\": 0.5}}, \"type\": \"bar\"}], \"barpolar\": [{\"marker\": {\"line\": {\"color\": \"#E5ECF6\", \"width\": 0.5}}, \"type\": \"barpolar\"}], \"carpet\": [{\"aaxis\": {\"endlinecolor\": \"#2a3f5f\", \"gridcolor\": \"white\", \"linecolor\": \"white\", \"minorgridcolor\": \"white\", \"startlinecolor\": \"#2a3f5f\"}, \"baxis\": {\"endlinecolor\": \"#2a3f5f\", \"gridcolor\": \"white\", \"linecolor\": \"white\", \"minorgridcolor\": \"white\", \"startlinecolor\": \"#2a3f5f\"}, \"type\": \"carpet\"}], \"choropleth\": [{\"colorbar\": {\"outlinewidth\": 0, \"ticks\": \"\"}, \"type\": \"choropleth\"}], \"contour\": [{\"colorbar\": {\"outlinewidth\": 0, \"ticks\": \"\"}, \"colorscale\": [[0.0, \"#0d0887\"], [0.1111111111111111, \"#46039f\"], [0.2222222222222222, \"#7201a8\"], [0.3333333333333333, \"#9c179e\"], [0.4444444444444444, \"#bd3786\"], [0.5555555555555556, \"#d8576b\"], [0.6666666666666666, \"#ed7953\"], [0.7777777777777778, \"#fb9f3a\"], [0.8888888888888888, \"#fdca26\"], [1.0, \"#f0f921\"]], \"type\": \"contour\"}], \"contourcarpet\": [{\"colorbar\": {\"outlinewidth\": 0, \"ticks\": \"\"}, \"type\": \"contourcarpet\"}], \"heatmap\": [{\"colorbar\": {\"outlinewidth\": 0, \"ticks\": \"\"}, \"colorscale\": [[0.0, \"#0d0887\"], [0.1111111111111111, \"#46039f\"], [0.2222222222222222, \"#7201a8\"], [0.3333333333333333, \"#9c179e\"], [0.4444444444444444, \"#bd3786\"], [0.5555555555555556, \"#d8576b\"], [0.6666666666666666, \"#ed7953\"], [0.7777777777777778, \"#fb9f3a\"], [0.8888888888888888, \"#fdca26\"], [1.0, \"#f0f921\"]], \"type\": \"heatmap\"}], \"heatmapgl\": [{\"colorbar\": {\"outlinewidth\": 0, \"ticks\": \"\"}, \"colorscale\": [[0.0, \"#0d0887\"], [0.1111111111111111, \"#46039f\"], [0.2222222222222222, \"#7201a8\"], [0.3333333333333333, \"#9c179e\"], [0.4444444444444444, \"#bd3786\"], [0.5555555555555556, \"#d8576b\"], [0.6666666666666666, \"#ed7953\"], [0.7777777777777778, \"#fb9f3a\"], [0.8888888888888888, \"#fdca26\"], [1.0, \"#f0f921\"]], \"type\": \"heatmapgl\"}], \"histogram\": [{\"marker\": {\"colorbar\": {\"outlinewidth\": 0, \"ticks\": \"\"}}, \"type\": \"histogram\"}], \"histogram2d\": [{\"colorbar\": {\"outlinewidth\": 0, \"ticks\": \"\"}, \"colorscale\": [[0.0, \"#0d0887\"], [0.1111111111111111, \"#46039f\"], [0.2222222222222222, \"#7201a8\"], [0.3333333333333333, \"#9c179e\"], [0.4444444444444444, \"#bd3786\"], [0.5555555555555556, \"#d8576b\"], [0.6666666666666666, \"#ed7953\"], [0.7777777777777778, \"#fb9f3a\"], [0.8888888888888888, \"#fdca26\"], [1.0, \"#f0f921\"]], \"type\": \"histogram2d\"}], \"histogram2dcontour\": [{\"colorbar\": {\"outlinewidth\": 0, \"ticks\": \"\"}, \"colorscale\": [[0.0, \"#0d0887\"], [0.1111111111111111, \"#46039f\"], [0.2222222222222222, \"#7201a8\"], [0.3333333333333333, \"#9c179e\"], [0.4444444444444444, \"#bd3786\"], [0.5555555555555556, \"#d8576b\"], [0.6666666666666666, \"#ed7953\"], [0.7777777777777778, \"#fb9f3a\"], [0.8888888888888888, \"#fdca26\"], [1.0, \"#f0f921\"]], \"type\": \"histogram2dcontour\"}], \"mesh3d\": [{\"colorbar\": {\"outlinewidth\": 0, \"ticks\": \"\"}, \"type\": \"mesh3d\"}], \"parcoords\": [{\"line\": {\"colorbar\": {\"outlinewidth\": 0, \"ticks\": \"\"}}, \"type\": \"parcoords\"}], \"pie\": [{\"automargin\": true, \"type\": \"pie\"}], \"scatter\": [{\"marker\": {\"colorbar\": {\"outlinewidth\": 0, \"ticks\": \"\"}}, \"type\": \"scatter\"}], \"scatter3d\": [{\"line\": {\"colorbar\": {\"outlinewidth\": 0, \"ticks\": \"\"}}, \"marker\": {\"colorbar\": {\"outlinewidth\": 0, \"ticks\": \"\"}}, \"type\": \"scatter3d\"}], \"scattercarpet\": [{\"marker\": {\"colorbar\": {\"outlinewidth\": 0, \"ticks\": \"\"}}, \"type\": \"scattercarpet\"}], \"scattergeo\": [{\"marker\": {\"colorbar\": {\"outlinewidth\": 0, \"ticks\": \"\"}}, \"type\": \"scattergeo\"}], \"scattergl\": [{\"marker\": {\"colorbar\": {\"outlinewidth\": 0, \"ticks\": \"\"}}, \"type\": \"scattergl\"}], \"scattermapbox\": [{\"marker\": {\"colorbar\": {\"outlinewidth\": 0, \"ticks\": \"\"}}, \"type\": \"scattermapbox\"}], \"scatterpolar\": [{\"marker\": {\"colorbar\": {\"outlinewidth\": 0, \"ticks\": \"\"}}, \"type\": \"scatterpolar\"}], \"scatterpolargl\": [{\"marker\": {\"colorbar\": {\"outlinewidth\": 0, \"ticks\": \"\"}}, \"type\": \"scatterpolargl\"}], \"scatterternary\": [{\"marker\": {\"colorbar\": {\"outlinewidth\": 0, \"ticks\": \"\"}}, \"type\": \"scatterternary\"}], \"surface\": [{\"colorbar\": {\"outlinewidth\": 0, \"ticks\": \"\"}, \"colorscale\": [[0.0, \"#0d0887\"], [0.1111111111111111, \"#46039f\"], [0.2222222222222222, \"#7201a8\"], [0.3333333333333333, \"#9c179e\"], [0.4444444444444444, \"#bd3786\"], [0.5555555555555556, \"#d8576b\"], [0.6666666666666666, \"#ed7953\"], [0.7777777777777778, \"#fb9f3a\"], [0.8888888888888888, \"#fdca26\"], [1.0, \"#f0f921\"]], \"type\": \"surface\"}], \"table\": [{\"cells\": {\"fill\": {\"color\": \"#EBF0F8\"}, \"line\": {\"color\": \"white\"}}, \"header\": {\"fill\": {\"color\": \"#C8D4E3\"}, \"line\": {\"color\": \"white\"}}, \"type\": \"table\"}]}, \"layout\": {\"annotationdefaults\": {\"arrowcolor\": \"#2a3f5f\", \"arrowhead\": 0, \"arrowwidth\": 1}, \"coloraxis\": {\"colorbar\": {\"outlinewidth\": 0, \"ticks\": \"\"}}, \"colorscale\": {\"diverging\": [[0, \"#8e0152\"], [0.1, \"#c51b7d\"], [0.2, \"#de77ae\"], [0.3, \"#f1b6da\"], [0.4, \"#fde0ef\"], [0.5, \"#f7f7f7\"], [0.6, \"#e6f5d0\"], [0.7, \"#b8e186\"], [0.8, \"#7fbc41\"], [0.9, \"#4d9221\"], [1, \"#276419\"]], \"sequential\": [[0.0, \"#0d0887\"], [0.1111111111111111, \"#46039f\"], [0.2222222222222222, \"#7201a8\"], [0.3333333333333333, \"#9c179e\"], [0.4444444444444444, \"#bd3786\"], [0.5555555555555556, \"#d8576b\"], [0.6666666666666666, \"#ed7953\"], [0.7777777777777778, \"#fb9f3a\"], [0.8888888888888888, \"#fdca26\"], [1.0, \"#f0f921\"]], \"sequentialminus\": [[0.0, \"#0d0887\"], [0.1111111111111111, \"#46039f\"], [0.2222222222222222, \"#7201a8\"], [0.3333333333333333, \"#9c179e\"], [0.4444444444444444, \"#bd3786\"], [0.5555555555555556, \"#d8576b\"], [0.6666666666666666, \"#ed7953\"], [0.7777777777777778, \"#fb9f3a\"], [0.8888888888888888, \"#fdca26\"], [1.0, \"#f0f921\"]]}, \"colorway\": [\"#636efa\", \"#EF553B\", \"#00cc96\", \"#ab63fa\", \"#FFA15A\", \"#19d3f3\", \"#FF6692\", \"#B6E880\", \"#FF97FF\", \"#FECB52\"], \"font\": {\"color\": \"#2a3f5f\"}, \"geo\": {\"bgcolor\": \"white\", \"lakecolor\": \"white\", \"landcolor\": \"#E5ECF6\", \"showlakes\": true, \"showland\": true, \"subunitcolor\": \"white\"}, \"hoverlabel\": {\"align\": \"left\"}, \"hovermode\": \"closest\", \"mapbox\": {\"style\": \"light\"}, \"paper_bgcolor\": \"white\", \"plot_bgcolor\": \"#E5ECF6\", \"polar\": {\"angularaxis\": {\"gridcolor\": \"white\", \"linecolor\": \"white\", \"ticks\": \"\"}, \"bgcolor\": \"#E5ECF6\", \"radialaxis\": {\"gridcolor\": \"white\", \"linecolor\": \"white\", \"ticks\": \"\"}}, \"scene\": {\"xaxis\": {\"backgroundcolor\": \"#E5ECF6\", \"gridcolor\": \"white\", \"gridwidth\": 2, \"linecolor\": \"white\", \"showbackground\": true, \"ticks\": \"\", \"zerolinecolor\": \"white\"}, \"yaxis\": {\"backgroundcolor\": \"#E5ECF6\", \"gridcolor\": \"white\", \"gridwidth\": 2, \"linecolor\": \"white\", \"showbackground\": true, \"ticks\": \"\", \"zerolinecolor\": \"white\"}, \"zaxis\": {\"backgroundcolor\": \"#E5ECF6\", \"gridcolor\": \"white\", \"gridwidth\": 2, \"linecolor\": \"white\", \"showbackground\": true, \"ticks\": \"\", \"zerolinecolor\": \"white\"}}, \"shapedefaults\": {\"line\": {\"color\": \"#2a3f5f\"}}, \"ternary\": {\"aaxis\": {\"gridcolor\": \"white\", \"linecolor\": \"white\", \"ticks\": \"\"}, \"baxis\": {\"gridcolor\": \"white\", \"linecolor\": \"white\", \"ticks\": \"\"}, \"bgcolor\": \"#E5ECF6\", \"caxis\": {\"gridcolor\": \"white\", \"linecolor\": \"white\", \"ticks\": \"\"}}, \"title\": {\"x\": 0.05}, \"xaxis\": {\"automargin\": true, \"gridcolor\": \"white\", \"linecolor\": \"white\", \"ticks\": \"\", \"title\": {\"standoff\": 15}, \"zerolinecolor\": \"white\", \"zerolinewidth\": 2}, \"yaxis\": {\"automargin\": true, \"gridcolor\": \"white\", \"linecolor\": \"white\", \"ticks\": \"\", \"title\": {\"standoff\": 15}, \"zerolinecolor\": \"white\", \"zerolinewidth\": 2}}}, \"title\": {\"text\": \"Loss Chart\"}, \"width\": 700, \"xaxis\": {\"title\": {\"text\": \"Epochs\"}}, \"yaxis\": {\"title\": {\"text\": \"Loss\"}}},\n",
              "                        {\"responsive\": true}\n",
              "                    ).then(function(){\n",
              "                            \n",
              "var gd = document.getElementById('37d340c2-d9f4-48ae-8df5-6be5803f0c92');\n",
              "var x = new MutationObserver(function (mutations, observer) {{\n",
              "        var display = window.getComputedStyle(gd).display;\n",
              "        if (!display || display === 'none') {{\n",
              "            console.log([gd, 'removed!']);\n",
              "            Plotly.purge(gd);\n",
              "            observer.disconnect();\n",
              "        }}\n",
              "}});\n",
              "\n",
              "// Listen for the removal of the full notebook cells\n",
              "var notebookContainer = gd.closest('#notebook-container');\n",
              "if (notebookContainer) {{\n",
              "    x.observe(notebookContainer, {childList: true});\n",
              "}}\n",
              "\n",
              "// Listen for the clearing of the current output cell\n",
              "var outputEl = gd.closest('.output');\n",
              "if (outputEl) {{\n",
              "    x.observe(outputEl, {childList: true});\n",
              "}}\n",
              "\n",
              "                        })\n",
              "                };\n",
              "                \n",
              "            </script>\n",
              "        </div>\n",
              "</body>\n",
              "</html>"
            ]
          },
          "metadata": {
            "tags": []
          }
        },
        {
          "output_type": "stream",
          "text": [
            "\n",
            "\n"
          ],
          "name": "stdout"
        },
        {
          "output_type": "display_data",
          "data": {
            "text/html": [
              "<html>\n",
              "<head><meta charset=\"utf-8\" /></head>\n",
              "<body>\n",
              "    <div>\n",
              "            <script src=\"https://cdnjs.cloudflare.com/ajax/libs/mathjax/2.7.5/MathJax.js?config=TeX-AMS-MML_SVG\"></script><script type=\"text/javascript\">if (window.MathJax) {MathJax.Hub.Config({SVG: {font: \"STIX-Web\"}});}</script>\n",
              "                <script type=\"text/javascript\">window.PlotlyConfig = {MathJaxConfig: 'local'};</script>\n",
              "        <script src=\"https://cdn.plot.ly/plotly-latest.min.js\"></script>    \n",
              "            <div id=\"341b4928-5b0e-44ba-bee3-e20ddf492be2\" class=\"plotly-graph-div\" style=\"height:450px; width:700px;\"></div>\n",
              "            <script type=\"text/javascript\">\n",
              "                \n",
              "                    window.PLOTLYENV=window.PLOTLYENV || {};\n",
              "                    \n",
              "                if (document.getElementById(\"341b4928-5b0e-44ba-bee3-e20ddf492be2\")) {\n",
              "                    Plotly.newPlot(\n",
              "                        '341b4928-5b0e-44ba-bee3-e20ddf492be2',\n",
              "                        [{\"mode\": \"lines+markers\", \"name\": \"Fixed-He SGD + momentum Acc\", \"textposition\": \"bottom center\", \"type\": \"scatter\", \"x\": [1, 2, 3, 4, 5, 6, 7, 8, 9, 10], \"y\": [0.7886833333333333, 0.9006333333333333, 0.9156166666666666, 0.9252333333333334, 0.9328166666666666, 0.9377166666666666, 0.9425166666666667, 0.9466333333333333, 0.9503, 0.9531]}, {\"mode\": \"lines+markers\", \"name\": \"Fixed-He RMSProp Acc\", \"textposition\": \"bottom center\", \"type\": \"scatter\", \"x\": [1, 2, 3, 4, 5, 6, 7, 8, 9, 10], \"y\": [0.9284333333333333, 0.97215, 0.9795, 0.9835333333333334, 0.9865333333333334, 0.9883, 0.9896, 0.9901166666666666, 0.99115, 0.9928]}, {\"mode\": \"lines+markers\", \"name\": \"Fixed-He Adam Acc\", \"textposition\": \"bottom center\", \"type\": \"scatter\", \"x\": [1, 2, 3, 4, 5, 6, 7, 8, 9, 10], \"y\": [0.9358833333333333, 0.97465, 0.9827333333333333, 0.9862166666666666, 0.989, 0.9894166666666667, 0.99185, 0.9919166666666667, 0.9930166666666667, 0.9932166666666666]}],\n",
              "                        {\"autosize\": false, \"font\": {\"color\": \"#7f7f7f\", \"family\": \"Courier New, monospace\", \"size\": 14}, \"height\": 450, \"template\": {\"data\": {\"bar\": [{\"error_x\": {\"color\": \"#2a3f5f\"}, \"error_y\": {\"color\": \"#2a3f5f\"}, \"marker\": {\"line\": {\"color\": \"#E5ECF6\", \"width\": 0.5}}, \"type\": \"bar\"}], \"barpolar\": [{\"marker\": {\"line\": {\"color\": \"#E5ECF6\", \"width\": 0.5}}, \"type\": \"barpolar\"}], \"carpet\": [{\"aaxis\": {\"endlinecolor\": \"#2a3f5f\", \"gridcolor\": \"white\", \"linecolor\": \"white\", \"minorgridcolor\": \"white\", \"startlinecolor\": \"#2a3f5f\"}, \"baxis\": {\"endlinecolor\": \"#2a3f5f\", \"gridcolor\": \"white\", \"linecolor\": \"white\", \"minorgridcolor\": \"white\", \"startlinecolor\": \"#2a3f5f\"}, \"type\": \"carpet\"}], \"choropleth\": [{\"colorbar\": {\"outlinewidth\": 0, \"ticks\": \"\"}, \"type\": \"choropleth\"}], \"contour\": [{\"colorbar\": {\"outlinewidth\": 0, \"ticks\": \"\"}, \"colorscale\": [[0.0, \"#0d0887\"], [0.1111111111111111, \"#46039f\"], [0.2222222222222222, \"#7201a8\"], [0.3333333333333333, \"#9c179e\"], [0.4444444444444444, \"#bd3786\"], [0.5555555555555556, \"#d8576b\"], [0.6666666666666666, \"#ed7953\"], [0.7777777777777778, \"#fb9f3a\"], [0.8888888888888888, \"#fdca26\"], [1.0, \"#f0f921\"]], \"type\": \"contour\"}], \"contourcarpet\": [{\"colorbar\": {\"outlinewidth\": 0, \"ticks\": \"\"}, \"type\": \"contourcarpet\"}], \"heatmap\": [{\"colorbar\": {\"outlinewidth\": 0, \"ticks\": \"\"}, \"colorscale\": [[0.0, \"#0d0887\"], [0.1111111111111111, \"#46039f\"], [0.2222222222222222, \"#7201a8\"], [0.3333333333333333, \"#9c179e\"], [0.4444444444444444, \"#bd3786\"], [0.5555555555555556, \"#d8576b\"], [0.6666666666666666, \"#ed7953\"], [0.7777777777777778, \"#fb9f3a\"], [0.8888888888888888, \"#fdca26\"], [1.0, \"#f0f921\"]], \"type\": \"heatmap\"}], \"heatmapgl\": [{\"colorbar\": {\"outlinewidth\": 0, \"ticks\": \"\"}, \"colorscale\": [[0.0, \"#0d0887\"], [0.1111111111111111, \"#46039f\"], [0.2222222222222222, \"#7201a8\"], [0.3333333333333333, \"#9c179e\"], [0.4444444444444444, \"#bd3786\"], [0.5555555555555556, \"#d8576b\"], [0.6666666666666666, \"#ed7953\"], [0.7777777777777778, \"#fb9f3a\"], [0.8888888888888888, \"#fdca26\"], [1.0, \"#f0f921\"]], \"type\": \"heatmapgl\"}], \"histogram\": [{\"marker\": {\"colorbar\": {\"outlinewidth\": 0, \"ticks\": \"\"}}, \"type\": \"histogram\"}], \"histogram2d\": [{\"colorbar\": {\"outlinewidth\": 0, \"ticks\": \"\"}, \"colorscale\": [[0.0, \"#0d0887\"], [0.1111111111111111, \"#46039f\"], [0.2222222222222222, \"#7201a8\"], [0.3333333333333333, \"#9c179e\"], [0.4444444444444444, \"#bd3786\"], [0.5555555555555556, \"#d8576b\"], [0.6666666666666666, \"#ed7953\"], [0.7777777777777778, \"#fb9f3a\"], [0.8888888888888888, \"#fdca26\"], [1.0, \"#f0f921\"]], \"type\": \"histogram2d\"}], \"histogram2dcontour\": [{\"colorbar\": {\"outlinewidth\": 0, \"ticks\": \"\"}, \"colorscale\": [[0.0, \"#0d0887\"], [0.1111111111111111, \"#46039f\"], [0.2222222222222222, \"#7201a8\"], [0.3333333333333333, \"#9c179e\"], [0.4444444444444444, \"#bd3786\"], [0.5555555555555556, \"#d8576b\"], [0.6666666666666666, \"#ed7953\"], [0.7777777777777778, \"#fb9f3a\"], [0.8888888888888888, \"#fdca26\"], [1.0, \"#f0f921\"]], \"type\": \"histogram2dcontour\"}], \"mesh3d\": [{\"colorbar\": {\"outlinewidth\": 0, \"ticks\": \"\"}, \"type\": \"mesh3d\"}], \"parcoords\": [{\"line\": {\"colorbar\": {\"outlinewidth\": 0, \"ticks\": \"\"}}, \"type\": \"parcoords\"}], \"pie\": [{\"automargin\": true, \"type\": \"pie\"}], \"scatter\": [{\"marker\": {\"colorbar\": {\"outlinewidth\": 0, \"ticks\": \"\"}}, \"type\": \"scatter\"}], \"scatter3d\": [{\"line\": {\"colorbar\": {\"outlinewidth\": 0, \"ticks\": \"\"}}, \"marker\": {\"colorbar\": {\"outlinewidth\": 0, \"ticks\": \"\"}}, \"type\": \"scatter3d\"}], \"scattercarpet\": [{\"marker\": {\"colorbar\": {\"outlinewidth\": 0, \"ticks\": \"\"}}, \"type\": \"scattercarpet\"}], \"scattergeo\": [{\"marker\": {\"colorbar\": {\"outlinewidth\": 0, \"ticks\": \"\"}}, \"type\": \"scattergeo\"}], \"scattergl\": [{\"marker\": {\"colorbar\": {\"outlinewidth\": 0, \"ticks\": \"\"}}, \"type\": \"scattergl\"}], \"scattermapbox\": [{\"marker\": {\"colorbar\": {\"outlinewidth\": 0, \"ticks\": \"\"}}, \"type\": \"scattermapbox\"}], \"scatterpolar\": [{\"marker\": {\"colorbar\": {\"outlinewidth\": 0, \"ticks\": \"\"}}, \"type\": \"scatterpolar\"}], \"scatterpolargl\": [{\"marker\": {\"colorbar\": {\"outlinewidth\": 0, \"ticks\": \"\"}}, \"type\": \"scatterpolargl\"}], \"scatterternary\": [{\"marker\": {\"colorbar\": {\"outlinewidth\": 0, \"ticks\": \"\"}}, \"type\": \"scatterternary\"}], \"surface\": [{\"colorbar\": {\"outlinewidth\": 0, \"ticks\": \"\"}, \"colorscale\": [[0.0, \"#0d0887\"], [0.1111111111111111, \"#46039f\"], [0.2222222222222222, \"#7201a8\"], [0.3333333333333333, \"#9c179e\"], [0.4444444444444444, \"#bd3786\"], [0.5555555555555556, \"#d8576b\"], [0.6666666666666666, \"#ed7953\"], [0.7777777777777778, \"#fb9f3a\"], [0.8888888888888888, \"#fdca26\"], [1.0, \"#f0f921\"]], \"type\": \"surface\"}], \"table\": [{\"cells\": {\"fill\": {\"color\": \"#EBF0F8\"}, \"line\": {\"color\": \"white\"}}, \"header\": {\"fill\": {\"color\": \"#C8D4E3\"}, \"line\": {\"color\": \"white\"}}, \"type\": \"table\"}]}, \"layout\": {\"annotationdefaults\": {\"arrowcolor\": \"#2a3f5f\", \"arrowhead\": 0, \"arrowwidth\": 1}, \"coloraxis\": {\"colorbar\": {\"outlinewidth\": 0, \"ticks\": \"\"}}, \"colorscale\": {\"diverging\": [[0, \"#8e0152\"], [0.1, \"#c51b7d\"], [0.2, \"#de77ae\"], [0.3, \"#f1b6da\"], [0.4, \"#fde0ef\"], [0.5, \"#f7f7f7\"], [0.6, \"#e6f5d0\"], [0.7, \"#b8e186\"], [0.8, \"#7fbc41\"], [0.9, \"#4d9221\"], [1, \"#276419\"]], \"sequential\": [[0.0, \"#0d0887\"], [0.1111111111111111, \"#46039f\"], [0.2222222222222222, \"#7201a8\"], [0.3333333333333333, \"#9c179e\"], [0.4444444444444444, \"#bd3786\"], [0.5555555555555556, \"#d8576b\"], [0.6666666666666666, \"#ed7953\"], [0.7777777777777778, \"#fb9f3a\"], [0.8888888888888888, \"#fdca26\"], [1.0, \"#f0f921\"]], \"sequentialminus\": [[0.0, \"#0d0887\"], [0.1111111111111111, \"#46039f\"], [0.2222222222222222, \"#7201a8\"], [0.3333333333333333, \"#9c179e\"], [0.4444444444444444, \"#bd3786\"], [0.5555555555555556, \"#d8576b\"], [0.6666666666666666, \"#ed7953\"], [0.7777777777777778, \"#fb9f3a\"], [0.8888888888888888, \"#fdca26\"], [1.0, \"#f0f921\"]]}, \"colorway\": [\"#636efa\", \"#EF553B\", \"#00cc96\", \"#ab63fa\", \"#FFA15A\", \"#19d3f3\", \"#FF6692\", \"#B6E880\", \"#FF97FF\", \"#FECB52\"], \"font\": {\"color\": \"#2a3f5f\"}, \"geo\": {\"bgcolor\": \"white\", \"lakecolor\": \"white\", \"landcolor\": \"#E5ECF6\", \"showlakes\": true, \"showland\": true, \"subunitcolor\": \"white\"}, \"hoverlabel\": {\"align\": \"left\"}, \"hovermode\": \"closest\", \"mapbox\": {\"style\": \"light\"}, \"paper_bgcolor\": \"white\", \"plot_bgcolor\": \"#E5ECF6\", \"polar\": {\"angularaxis\": {\"gridcolor\": \"white\", \"linecolor\": \"white\", \"ticks\": \"\"}, \"bgcolor\": \"#E5ECF6\", \"radialaxis\": {\"gridcolor\": \"white\", \"linecolor\": \"white\", \"ticks\": \"\"}}, \"scene\": {\"xaxis\": {\"backgroundcolor\": \"#E5ECF6\", \"gridcolor\": \"white\", \"gridwidth\": 2, \"linecolor\": \"white\", \"showbackground\": true, \"ticks\": \"\", \"zerolinecolor\": \"white\"}, \"yaxis\": {\"backgroundcolor\": \"#E5ECF6\", \"gridcolor\": \"white\", \"gridwidth\": 2, \"linecolor\": \"white\", \"showbackground\": true, \"ticks\": \"\", \"zerolinecolor\": \"white\"}, \"zaxis\": {\"backgroundcolor\": \"#E5ECF6\", \"gridcolor\": \"white\", \"gridwidth\": 2, \"linecolor\": \"white\", \"showbackground\": true, \"ticks\": \"\", \"zerolinecolor\": \"white\"}}, \"shapedefaults\": {\"line\": {\"color\": \"#2a3f5f\"}}, \"ternary\": {\"aaxis\": {\"gridcolor\": \"white\", \"linecolor\": \"white\", \"ticks\": \"\"}, \"baxis\": {\"gridcolor\": \"white\", \"linecolor\": \"white\", \"ticks\": \"\"}, \"bgcolor\": \"#E5ECF6\", \"caxis\": {\"gridcolor\": \"white\", \"linecolor\": \"white\", \"ticks\": \"\"}}, \"title\": {\"x\": 0.05}, \"xaxis\": {\"automargin\": true, \"gridcolor\": \"white\", \"linecolor\": \"white\", \"ticks\": \"\", \"title\": {\"standoff\": 15}, \"zerolinecolor\": \"white\", \"zerolinewidth\": 2}, \"yaxis\": {\"automargin\": true, \"gridcolor\": \"white\", \"linecolor\": \"white\", \"ticks\": \"\", \"title\": {\"standoff\": 15}, \"zerolinecolor\": \"white\", \"zerolinewidth\": 2}}}, \"title\": {\"text\": \"Accuracy Chart\"}, \"width\": 700, \"xaxis\": {\"title\": {\"text\": \"Epochs\"}}, \"yaxis\": {\"title\": {\"text\": \"Acc\"}}},\n",
              "                        {\"responsive\": true}\n",
              "                    ).then(function(){\n",
              "                            \n",
              "var gd = document.getElementById('341b4928-5b0e-44ba-bee3-e20ddf492be2');\n",
              "var x = new MutationObserver(function (mutations, observer) {{\n",
              "        var display = window.getComputedStyle(gd).display;\n",
              "        if (!display || display === 'none') {{\n",
              "            console.log([gd, 'removed!']);\n",
              "            Plotly.purge(gd);\n",
              "            observer.disconnect();\n",
              "        }}\n",
              "}});\n",
              "\n",
              "// Listen for the removal of the full notebook cells\n",
              "var notebookContainer = gd.closest('#notebook-container');\n",
              "if (notebookContainer) {{\n",
              "    x.observe(notebookContainer, {childList: true});\n",
              "}}\n",
              "\n",
              "// Listen for the clearing of the current output cell\n",
              "var outputEl = gd.closest('.output');\n",
              "if (outputEl) {{\n",
              "    x.observe(outputEl, {childList: true});\n",
              "}}\n",
              "\n",
              "                        })\n",
              "                };\n",
              "                \n",
              "            </script>\n",
              "        </div>\n",
              "</body>\n",
              "</html>"
            ]
          },
          "metadata": {
            "tags": []
          }
        }
      ]
    },
    {
      "cell_type": "markdown",
      "metadata": {
        "id": "VjfeT0JyBbwf"
      },
      "source": [
        "### Using non-fixed Heuristic initialization:"
      ]
    },
    {
      "cell_type": "code",
      "metadata": {
        "id": "c3N30bPAQhO3"
      },
      "source": [
        "heuristic_data_to_plot_loss = []\n",
        "heuristic_data_to_plot_acc = []"
      ],
      "execution_count": null,
      "outputs": []
    },
    {
      "cell_type": "code",
      "metadata": {
        "colab": {
          "base_uri": "https://localhost:8080/"
        },
        "id": "PtmygVbLBsBC",
        "outputId": "984c5e30-5df1-47a1-d683-39dedda1e298"
      },
      "source": [
        "# SGD + momentum test\n",
        "\n",
        "# It is important to mention again that not passing an specific init_method\n",
        "# will result in applying them in an heuristic (inteligent way) based on the activation function\n",
        "\n",
        "model = FFNN(784,[512,1024,128],[relu,celu,swish, softmax],10)\n",
        "model.to('cuda')\n",
        "optimizer = SGD(model.parameters(),lr=1e-3,momentum=0.9)\n",
        "with torch.no_grad():\n",
        "  loss, acc = train(model, dataset_train, optimizer,epochs=10,batch_size=100,collate=custom_collate)\n",
        "  test_loss, test_acc = test(model,dataset_test,batch_size=100,collate=custom_collate)\n",
        "\n",
        "  # Formatting results to plot\n",
        "  heuristic_data_to_plot_loss.append({\n",
        "    \"x\": [x+1 for x in range(10)],\n",
        "    \"y\": loss,\n",
        "    \"name\": \"Heuristic SGD + momentum loss\"\n",
        "  })\n",
        "\n",
        "  heuristic_data_to_plot_acc.append({\n",
        "    \"x\": [x+1 for x in range(10)],\n",
        "    \"y\": acc,\n",
        "    \"name\": \"Heuristic SGD + momentum Acc\"\n",
        "  })"
      ],
      "execution_count": null,
      "outputs": [
        {
          "output_type": "stream",
          "text": [
            "/usr/local/lib/python3.6/dist-packages/torch/nn/modules/container.py:434: UserWarning:\n",
            "\n",
            "Setting attributes on ParameterList is not supported.\n",
            "\n"
          ],
          "name": "stderr"
        },
        {
          "output_type": "stream",
          "text": [
            "Epoch: 1 | Acc: 77.96% | loss: 0.823\n",
            "Epoch: 2 | Acc: 89.77% | loss: 0.362\n",
            "Epoch: 3 | Acc: 91.23% | loss: 0.303\n",
            "Epoch: 4 | Acc: 92.26% | loss: 0.270\n",
            "Epoch: 5 | Acc: 92.96% | loss: 0.246\n",
            "Epoch: 6 | Acc: 93.45% | loss: 0.227\n",
            "Epoch: 7 | Acc: 93.95% | loss: 0.211\n",
            "Epoch: 8 | Acc: 94.37% | loss: 0.196\n",
            "Epoch: 9 | Acc: 94.74% | loss: 0.184\n",
            "Epoch: 10 | Acc: 95.05% | loss: 0.172\n",
            "\n",
            "Test Results: Acc: 95.06% | loss: 0.170\n"
          ],
          "name": "stdout"
        }
      ]
    },
    {
      "cell_type": "code",
      "metadata": {
        "colab": {
          "base_uri": "https://localhost:8080/"
        },
        "id": "CUUeAneWB8tn",
        "outputId": "ce4db7b6-bbe0-43e0-9286-e0a7ec4a89c5"
      },
      "source": [
        "# RMSProp test\n",
        "model = FFNN(784,[512,1024,128],[relu,celu,swish, softmax],10)\n",
        "model.to('cuda')\n",
        "optimizer = RMSProp(model.parameters(),lr=1e-3)\n",
        "with torch.no_grad():\n",
        "  loss, acc = train(model, dataset_train, optimizer,epochs=10,batch_size=100,collate=custom_collate)\n",
        "  test_loss, test_acc = test(model,dataset_test,batch_size=100,collate=custom_collate)\n",
        "\n",
        "  # Formatting results to plot\n",
        "  heuristic_data_to_plot_loss.append({\n",
        "    \"x\": [x+1 for x in range(10)],\n",
        "    \"y\": loss,\n",
        "    \"name\": \"Heuristic RMSProp loss\"\n",
        "  })\n",
        "\n",
        "  heuristic_data_to_plot_acc.append({\n",
        "    \"x\": [x+1 for x in range(10)],\n",
        "    \"y\": acc,\n",
        "    \"name\": \"Heuristic RMSProp Acc\"\n",
        "  })"
      ],
      "execution_count": null,
      "outputs": [
        {
          "output_type": "stream",
          "text": [
            "/usr/local/lib/python3.6/dist-packages/torch/nn/modules/container.py:434: UserWarning:\n",
            "\n",
            "Setting attributes on ParameterList is not supported.\n",
            "\n"
          ],
          "name": "stderr"
        },
        {
          "output_type": "stream",
          "text": [
            "Epoch: 1 | Acc: 93.03% | loss: 0.229\n",
            "Epoch: 2 | Acc: 97.26% | loss: 0.095\n",
            "Epoch: 3 | Acc: 97.94% | loss: 0.070\n",
            "Epoch: 4 | Acc: 98.38% | loss: 0.058\n",
            "Epoch: 5 | Acc: 98.62% | loss: 0.049\n",
            "Epoch: 6 | Acc: 98.82% | loss: 0.040\n",
            "Epoch: 7 | Acc: 99.02% | loss: 0.037\n",
            "Epoch: 8 | Acc: 99.11% | loss: 0.034\n",
            "Epoch: 9 | Acc: 99.23% | loss: 0.032\n",
            "Epoch: 10 | Acc: 99.24% | loss: 0.031\n",
            "\n",
            "Test Results: Acc: 97.84% | loss: 0.131\n"
          ],
          "name": "stdout"
        }
      ]
    },
    {
      "cell_type": "code",
      "metadata": {
        "colab": {
          "base_uri": "https://localhost:8080/"
        },
        "id": "5NXZoJUeCBNp",
        "outputId": "df4ae47d-7921-4e14-8aa7-db22a012eb13"
      },
      "source": [
        "# Adam test\n",
        "model = FFNN(784,[512,1024,128],[relu,celu,swish, softmax],10)\n",
        "model.to('cuda')\n",
        "optimizer = Adam(model.parameters(),lr=1e-3)\n",
        "with torch.no_grad():\n",
        "  loss, acc = train(model, dataset_train, optimizer,epochs=10,batch_size=100,collate=custom_collate)\n",
        "  test_loss, test_acc = test(model,dataset_test,batch_size=100,collate=custom_collate)\n",
        "\n",
        "  # Formatting results to plot\n",
        "  heuristic_data_to_plot_loss.append({\n",
        "    \"x\": [x+1 for x in range(10)],\n",
        "    \"y\": loss,\n",
        "    \"name\": \"Heuristic Adam loss\"\n",
        "  })\n",
        "\n",
        "  heuristic_data_to_plot_acc.append({\n",
        "    \"x\": [x+1 for x in range(10)],\n",
        "    \"y\": acc,\n",
        "    \"name\": \"Heuristic Adam Acc\"\n",
        "  })"
      ],
      "execution_count": null,
      "outputs": [
        {
          "output_type": "stream",
          "text": [
            "/usr/local/lib/python3.6/dist-packages/torch/nn/modules/container.py:434: UserWarning:\n",
            "\n",
            "Setting attributes on ParameterList is not supported.\n",
            "\n"
          ],
          "name": "stderr"
        },
        {
          "output_type": "stream",
          "text": [
            "Epoch: 1 | Acc: 93.55% | loss: 0.212\n",
            "Epoch: 2 | Acc: 97.50% | loss: 0.080\n",
            "Epoch: 3 | Acc: 98.29% | loss: 0.056\n",
            "Epoch: 4 | Acc: 98.76% | loss: 0.038\n",
            "Epoch: 5 | Acc: 98.89% | loss: 0.035\n",
            "Epoch: 6 | Acc: 99.02% | loss: 0.031\n",
            "Epoch: 7 | Acc: 99.01% | loss: 0.031\n",
            "Epoch: 8 | Acc: 99.26% | loss: 0.022\n",
            "Epoch: 9 | Acc: 99.25% | loss: 0.024\n",
            "Epoch: 10 | Acc: 99.40% | loss: 0.020\n",
            "\n",
            "Test Results: Acc: 97.68% | loss: 0.104\n"
          ],
          "name": "stdout"
        }
      ]
    },
    {
      "cell_type": "code",
      "metadata": {
        "colab": {
          "base_uri": "https://localhost:8080/",
          "height": 951
        },
        "id": "lqMwdSBKRTb4",
        "outputId": "382eb7ac-4521-4ba0-8249-7a66117fe1d7"
      },
      "source": [
        "plot_results(heuristic_data_to_plot_loss, heuristic_data_to_plot_acc)"
      ],
      "execution_count": null,
      "outputs": [
        {
          "output_type": "display_data",
          "data": {
            "text/html": [
              "<html>\n",
              "<head><meta charset=\"utf-8\" /></head>\n",
              "<body>\n",
              "    <div>\n",
              "            <script src=\"https://cdnjs.cloudflare.com/ajax/libs/mathjax/2.7.5/MathJax.js?config=TeX-AMS-MML_SVG\"></script><script type=\"text/javascript\">if (window.MathJax) {MathJax.Hub.Config({SVG: {font: \"STIX-Web\"}});}</script>\n",
              "                <script type=\"text/javascript\">window.PlotlyConfig = {MathJaxConfig: 'local'};</script>\n",
              "        <script src=\"https://cdn.plot.ly/plotly-latest.min.js\"></script>    \n",
              "            <div id=\"a856642d-5a7b-421c-8a18-eb217c2ca1e9\" class=\"plotly-graph-div\" style=\"height:450px; width:700px;\"></div>\n",
              "            <script type=\"text/javascript\">\n",
              "                \n",
              "                    window.PLOTLYENV=window.PLOTLYENV || {};\n",
              "                    \n",
              "                if (document.getElementById(\"a856642d-5a7b-421c-8a18-eb217c2ca1e9\")) {\n",
              "                    Plotly.newPlot(\n",
              "                        'a856642d-5a7b-421c-8a18-eb217c2ca1e9',\n",
              "                        [{\"mode\": \"lines+markers\", \"name\": \"Heuristic SGD + momentum loss\", \"textposition\": \"bottom center\", \"type\": \"scatter\", \"x\": [1, 2, 3, 4, 5, 6, 7, 8, 9, 10], \"y\": [0.8233323230842748, 0.36173205422858395, 0.30277903067568934, 0.2696324096247554, 0.24597153222809237, 0.22703296367079018, 0.210668108339111, 0.1963075385739406, 0.18354903015618523, 0.17221293240164717]}, {\"mode\": \"lines+markers\", \"name\": \"Heuristic RMSProp loss\", \"textposition\": \"bottom center\", \"type\": \"scatter\", \"x\": [1, 2, 3, 4, 5, 6, 7, 8, 9, 10], \"y\": [0.22858728359142938, 0.09452390846447087, 0.06997390490122295, 0.05839099992095726, 0.04893365403525725, 0.040157636322352724, 0.036690492940930804, 0.0343090894649049, 0.0320790536547823, 0.030897849829791543]}, {\"mode\": \"lines+markers\", \"name\": \"Heuristic Adam loss\", \"textposition\": \"bottom center\", \"type\": \"scatter\", \"x\": [1, 2, 3, 4, 5, 6, 7, 8, 9, 10], \"y\": [0.2118209076874579, 0.07964217766420915, 0.055799385542632085, 0.03782272808505999, 0.035341359510396915, 0.030644828637014142, 0.030830470832418844, 0.022372952330515547, 0.02391949524180139, 0.019901945597172625]}],\n",
              "                        {\"autosize\": false, \"font\": {\"color\": \"#7f7f7f\", \"family\": \"Courier New, monospace\", \"size\": 14}, \"height\": 450, \"template\": {\"data\": {\"bar\": [{\"error_x\": {\"color\": \"#2a3f5f\"}, \"error_y\": {\"color\": \"#2a3f5f\"}, \"marker\": {\"line\": {\"color\": \"#E5ECF6\", \"width\": 0.5}}, \"type\": \"bar\"}], \"barpolar\": [{\"marker\": {\"line\": {\"color\": \"#E5ECF6\", \"width\": 0.5}}, \"type\": \"barpolar\"}], \"carpet\": [{\"aaxis\": {\"endlinecolor\": \"#2a3f5f\", \"gridcolor\": \"white\", \"linecolor\": \"white\", \"minorgridcolor\": \"white\", \"startlinecolor\": \"#2a3f5f\"}, \"baxis\": {\"endlinecolor\": \"#2a3f5f\", \"gridcolor\": \"white\", \"linecolor\": \"white\", \"minorgridcolor\": \"white\", \"startlinecolor\": \"#2a3f5f\"}, \"type\": \"carpet\"}], \"choropleth\": [{\"colorbar\": {\"outlinewidth\": 0, \"ticks\": \"\"}, \"type\": \"choropleth\"}], \"contour\": [{\"colorbar\": {\"outlinewidth\": 0, \"ticks\": \"\"}, \"colorscale\": [[0.0, \"#0d0887\"], [0.1111111111111111, \"#46039f\"], [0.2222222222222222, \"#7201a8\"], [0.3333333333333333, \"#9c179e\"], [0.4444444444444444, \"#bd3786\"], [0.5555555555555556, \"#d8576b\"], [0.6666666666666666, \"#ed7953\"], [0.7777777777777778, \"#fb9f3a\"], [0.8888888888888888, \"#fdca26\"], [1.0, \"#f0f921\"]], \"type\": \"contour\"}], \"contourcarpet\": [{\"colorbar\": {\"outlinewidth\": 0, \"ticks\": \"\"}, \"type\": \"contourcarpet\"}], \"heatmap\": [{\"colorbar\": {\"outlinewidth\": 0, \"ticks\": \"\"}, \"colorscale\": [[0.0, \"#0d0887\"], [0.1111111111111111, \"#46039f\"], [0.2222222222222222, \"#7201a8\"], [0.3333333333333333, \"#9c179e\"], [0.4444444444444444, \"#bd3786\"], [0.5555555555555556, \"#d8576b\"], [0.6666666666666666, \"#ed7953\"], [0.7777777777777778, \"#fb9f3a\"], [0.8888888888888888, \"#fdca26\"], [1.0, \"#f0f921\"]], \"type\": \"heatmap\"}], \"heatmapgl\": [{\"colorbar\": {\"outlinewidth\": 0, \"ticks\": \"\"}, \"colorscale\": [[0.0, \"#0d0887\"], [0.1111111111111111, \"#46039f\"], [0.2222222222222222, \"#7201a8\"], [0.3333333333333333, \"#9c179e\"], [0.4444444444444444, \"#bd3786\"], [0.5555555555555556, \"#d8576b\"], [0.6666666666666666, \"#ed7953\"], [0.7777777777777778, \"#fb9f3a\"], [0.8888888888888888, \"#fdca26\"], [1.0, \"#f0f921\"]], \"type\": \"heatmapgl\"}], \"histogram\": [{\"marker\": {\"colorbar\": {\"outlinewidth\": 0, \"ticks\": \"\"}}, \"type\": \"histogram\"}], \"histogram2d\": [{\"colorbar\": {\"outlinewidth\": 0, \"ticks\": \"\"}, \"colorscale\": [[0.0, \"#0d0887\"], [0.1111111111111111, \"#46039f\"], [0.2222222222222222, \"#7201a8\"], [0.3333333333333333, \"#9c179e\"], [0.4444444444444444, \"#bd3786\"], [0.5555555555555556, \"#d8576b\"], [0.6666666666666666, \"#ed7953\"], [0.7777777777777778, \"#fb9f3a\"], [0.8888888888888888, \"#fdca26\"], [1.0, \"#f0f921\"]], \"type\": \"histogram2d\"}], \"histogram2dcontour\": [{\"colorbar\": {\"outlinewidth\": 0, \"ticks\": \"\"}, \"colorscale\": [[0.0, \"#0d0887\"], [0.1111111111111111, \"#46039f\"], [0.2222222222222222, \"#7201a8\"], [0.3333333333333333, \"#9c179e\"], [0.4444444444444444, \"#bd3786\"], [0.5555555555555556, \"#d8576b\"], [0.6666666666666666, \"#ed7953\"], [0.7777777777777778, \"#fb9f3a\"], [0.8888888888888888, \"#fdca26\"], [1.0, \"#f0f921\"]], \"type\": \"histogram2dcontour\"}], \"mesh3d\": [{\"colorbar\": {\"outlinewidth\": 0, \"ticks\": \"\"}, \"type\": \"mesh3d\"}], \"parcoords\": [{\"line\": {\"colorbar\": {\"outlinewidth\": 0, \"ticks\": \"\"}}, \"type\": \"parcoords\"}], \"pie\": [{\"automargin\": true, \"type\": \"pie\"}], \"scatter\": [{\"marker\": {\"colorbar\": {\"outlinewidth\": 0, \"ticks\": \"\"}}, \"type\": \"scatter\"}], \"scatter3d\": [{\"line\": {\"colorbar\": {\"outlinewidth\": 0, \"ticks\": \"\"}}, \"marker\": {\"colorbar\": {\"outlinewidth\": 0, \"ticks\": \"\"}}, \"type\": \"scatter3d\"}], \"scattercarpet\": [{\"marker\": {\"colorbar\": {\"outlinewidth\": 0, \"ticks\": \"\"}}, \"type\": \"scattercarpet\"}], \"scattergeo\": [{\"marker\": {\"colorbar\": {\"outlinewidth\": 0, \"ticks\": \"\"}}, \"type\": \"scattergeo\"}], \"scattergl\": [{\"marker\": {\"colorbar\": {\"outlinewidth\": 0, \"ticks\": \"\"}}, \"type\": \"scattergl\"}], \"scattermapbox\": [{\"marker\": {\"colorbar\": {\"outlinewidth\": 0, \"ticks\": \"\"}}, \"type\": \"scattermapbox\"}], \"scatterpolar\": [{\"marker\": {\"colorbar\": {\"outlinewidth\": 0, \"ticks\": \"\"}}, \"type\": \"scatterpolar\"}], \"scatterpolargl\": [{\"marker\": {\"colorbar\": {\"outlinewidth\": 0, \"ticks\": \"\"}}, \"type\": \"scatterpolargl\"}], \"scatterternary\": [{\"marker\": {\"colorbar\": {\"outlinewidth\": 0, \"ticks\": \"\"}}, \"type\": \"scatterternary\"}], \"surface\": [{\"colorbar\": {\"outlinewidth\": 0, \"ticks\": \"\"}, \"colorscale\": [[0.0, \"#0d0887\"], [0.1111111111111111, \"#46039f\"], [0.2222222222222222, \"#7201a8\"], [0.3333333333333333, \"#9c179e\"], [0.4444444444444444, \"#bd3786\"], [0.5555555555555556, \"#d8576b\"], [0.6666666666666666, \"#ed7953\"], [0.7777777777777778, \"#fb9f3a\"], [0.8888888888888888, \"#fdca26\"], [1.0, \"#f0f921\"]], \"type\": \"surface\"}], \"table\": [{\"cells\": {\"fill\": {\"color\": \"#EBF0F8\"}, \"line\": {\"color\": \"white\"}}, \"header\": {\"fill\": {\"color\": \"#C8D4E3\"}, \"line\": {\"color\": \"white\"}}, \"type\": \"table\"}]}, \"layout\": {\"annotationdefaults\": {\"arrowcolor\": \"#2a3f5f\", \"arrowhead\": 0, \"arrowwidth\": 1}, \"coloraxis\": {\"colorbar\": {\"outlinewidth\": 0, \"ticks\": \"\"}}, \"colorscale\": {\"diverging\": [[0, \"#8e0152\"], [0.1, \"#c51b7d\"], [0.2, \"#de77ae\"], [0.3, \"#f1b6da\"], [0.4, \"#fde0ef\"], [0.5, \"#f7f7f7\"], [0.6, \"#e6f5d0\"], [0.7, \"#b8e186\"], [0.8, \"#7fbc41\"], [0.9, \"#4d9221\"], [1, \"#276419\"]], \"sequential\": [[0.0, \"#0d0887\"], [0.1111111111111111, \"#46039f\"], [0.2222222222222222, \"#7201a8\"], [0.3333333333333333, \"#9c179e\"], [0.4444444444444444, \"#bd3786\"], [0.5555555555555556, \"#d8576b\"], [0.6666666666666666, \"#ed7953\"], [0.7777777777777778, \"#fb9f3a\"], [0.8888888888888888, \"#fdca26\"], [1.0, \"#f0f921\"]], \"sequentialminus\": [[0.0, \"#0d0887\"], [0.1111111111111111, \"#46039f\"], [0.2222222222222222, \"#7201a8\"], [0.3333333333333333, \"#9c179e\"], [0.4444444444444444, \"#bd3786\"], [0.5555555555555556, \"#d8576b\"], [0.6666666666666666, \"#ed7953\"], [0.7777777777777778, \"#fb9f3a\"], [0.8888888888888888, \"#fdca26\"], [1.0, \"#f0f921\"]]}, \"colorway\": [\"#636efa\", \"#EF553B\", \"#00cc96\", \"#ab63fa\", \"#FFA15A\", \"#19d3f3\", \"#FF6692\", \"#B6E880\", \"#FF97FF\", \"#FECB52\"], \"font\": {\"color\": \"#2a3f5f\"}, \"geo\": {\"bgcolor\": \"white\", \"lakecolor\": \"white\", \"landcolor\": \"#E5ECF6\", \"showlakes\": true, \"showland\": true, \"subunitcolor\": \"white\"}, \"hoverlabel\": {\"align\": \"left\"}, \"hovermode\": \"closest\", \"mapbox\": {\"style\": \"light\"}, \"paper_bgcolor\": \"white\", \"plot_bgcolor\": \"#E5ECF6\", \"polar\": {\"angularaxis\": {\"gridcolor\": \"white\", \"linecolor\": \"white\", \"ticks\": \"\"}, \"bgcolor\": \"#E5ECF6\", \"radialaxis\": {\"gridcolor\": \"white\", \"linecolor\": \"white\", \"ticks\": \"\"}}, \"scene\": {\"xaxis\": {\"backgroundcolor\": \"#E5ECF6\", \"gridcolor\": \"white\", \"gridwidth\": 2, \"linecolor\": \"white\", \"showbackground\": true, \"ticks\": \"\", \"zerolinecolor\": \"white\"}, \"yaxis\": {\"backgroundcolor\": \"#E5ECF6\", \"gridcolor\": \"white\", \"gridwidth\": 2, \"linecolor\": \"white\", \"showbackground\": true, \"ticks\": \"\", \"zerolinecolor\": \"white\"}, \"zaxis\": {\"backgroundcolor\": \"#E5ECF6\", \"gridcolor\": \"white\", \"gridwidth\": 2, \"linecolor\": \"white\", \"showbackground\": true, \"ticks\": \"\", \"zerolinecolor\": \"white\"}}, \"shapedefaults\": {\"line\": {\"color\": \"#2a3f5f\"}}, \"ternary\": {\"aaxis\": {\"gridcolor\": \"white\", \"linecolor\": \"white\", \"ticks\": \"\"}, \"baxis\": {\"gridcolor\": \"white\", \"linecolor\": \"white\", \"ticks\": \"\"}, \"bgcolor\": \"#E5ECF6\", \"caxis\": {\"gridcolor\": \"white\", \"linecolor\": \"white\", \"ticks\": \"\"}}, \"title\": {\"x\": 0.05}, \"xaxis\": {\"automargin\": true, \"gridcolor\": \"white\", \"linecolor\": \"white\", \"ticks\": \"\", \"title\": {\"standoff\": 15}, \"zerolinecolor\": \"white\", \"zerolinewidth\": 2}, \"yaxis\": {\"automargin\": true, \"gridcolor\": \"white\", \"linecolor\": \"white\", \"ticks\": \"\", \"title\": {\"standoff\": 15}, \"zerolinecolor\": \"white\", \"zerolinewidth\": 2}}}, \"title\": {\"text\": \"Loss Chart\"}, \"width\": 700, \"xaxis\": {\"title\": {\"text\": \"Epochs\"}}, \"yaxis\": {\"title\": {\"text\": \"Loss\"}}},\n",
              "                        {\"responsive\": true}\n",
              "                    ).then(function(){\n",
              "                            \n",
              "var gd = document.getElementById('a856642d-5a7b-421c-8a18-eb217c2ca1e9');\n",
              "var x = new MutationObserver(function (mutations, observer) {{\n",
              "        var display = window.getComputedStyle(gd).display;\n",
              "        if (!display || display === 'none') {{\n",
              "            console.log([gd, 'removed!']);\n",
              "            Plotly.purge(gd);\n",
              "            observer.disconnect();\n",
              "        }}\n",
              "}});\n",
              "\n",
              "// Listen for the removal of the full notebook cells\n",
              "var notebookContainer = gd.closest('#notebook-container');\n",
              "if (notebookContainer) {{\n",
              "    x.observe(notebookContainer, {childList: true});\n",
              "}}\n",
              "\n",
              "// Listen for the clearing of the current output cell\n",
              "var outputEl = gd.closest('.output');\n",
              "if (outputEl) {{\n",
              "    x.observe(outputEl, {childList: true});\n",
              "}}\n",
              "\n",
              "                        })\n",
              "                };\n",
              "                \n",
              "            </script>\n",
              "        </div>\n",
              "</body>\n",
              "</html>"
            ]
          },
          "metadata": {
            "tags": []
          }
        },
        {
          "output_type": "stream",
          "text": [
            "\n",
            "\n"
          ],
          "name": "stdout"
        },
        {
          "output_type": "display_data",
          "data": {
            "text/html": [
              "<html>\n",
              "<head><meta charset=\"utf-8\" /></head>\n",
              "<body>\n",
              "    <div>\n",
              "            <script src=\"https://cdnjs.cloudflare.com/ajax/libs/mathjax/2.7.5/MathJax.js?config=TeX-AMS-MML_SVG\"></script><script type=\"text/javascript\">if (window.MathJax) {MathJax.Hub.Config({SVG: {font: \"STIX-Web\"}});}</script>\n",
              "                <script type=\"text/javascript\">window.PlotlyConfig = {MathJaxConfig: 'local'};</script>\n",
              "        <script src=\"https://cdn.plot.ly/plotly-latest.min.js\"></script>    \n",
              "            <div id=\"b358ae5a-720a-4579-83f6-c41d543bcbd5\" class=\"plotly-graph-div\" style=\"height:450px; width:700px;\"></div>\n",
              "            <script type=\"text/javascript\">\n",
              "                \n",
              "                    window.PLOTLYENV=window.PLOTLYENV || {};\n",
              "                    \n",
              "                if (document.getElementById(\"b358ae5a-720a-4579-83f6-c41d543bcbd5\")) {\n",
              "                    Plotly.newPlot(\n",
              "                        'b358ae5a-720a-4579-83f6-c41d543bcbd5',\n",
              "                        [{\"mode\": \"lines+markers\", \"name\": \"Heuristic SGD + momentum Acc\", \"textposition\": \"bottom center\", \"type\": \"scatter\", \"x\": [1, 2, 3, 4, 5, 6, 7, 8, 9, 10], \"y\": [0.7795666666666666, 0.8977333333333334, 0.9123333333333333, 0.9226333333333333, 0.9295833333333333, 0.9345, 0.9394833333333333, 0.9437333333333333, 0.9473666666666667, 0.9504666666666667]}, {\"mode\": \"lines+markers\", \"name\": \"Heuristic RMSProp Acc\", \"textposition\": \"bottom center\", \"type\": \"scatter\", \"x\": [1, 2, 3, 4, 5, 6, 7, 8, 9, 10], \"y\": [0.9303, 0.9726, 0.9794, 0.9838, 0.98625, 0.9882166666666666, 0.99025, 0.9911166666666666, 0.9922833333333333, 0.9924166666666666]}, {\"mode\": \"lines+markers\", \"name\": \"Heuristic Adam Acc\", \"textposition\": \"bottom center\", \"type\": \"scatter\", \"x\": [1, 2, 3, 4, 5, 6, 7, 8, 9, 10], \"y\": [0.9355166666666667, 0.97495, 0.9829166666666667, 0.9875833333333334, 0.9888666666666667, 0.9902333333333333, 0.9901166666666666, 0.9925833333333334, 0.9925333333333334, 0.9939666666666667]}],\n",
              "                        {\"autosize\": false, \"font\": {\"color\": \"#7f7f7f\", \"family\": \"Courier New, monospace\", \"size\": 14}, \"height\": 450, \"template\": {\"data\": {\"bar\": [{\"error_x\": {\"color\": \"#2a3f5f\"}, \"error_y\": {\"color\": \"#2a3f5f\"}, \"marker\": {\"line\": {\"color\": \"#E5ECF6\", \"width\": 0.5}}, \"type\": \"bar\"}], \"barpolar\": [{\"marker\": {\"line\": {\"color\": \"#E5ECF6\", \"width\": 0.5}}, \"type\": \"barpolar\"}], \"carpet\": [{\"aaxis\": {\"endlinecolor\": \"#2a3f5f\", \"gridcolor\": \"white\", \"linecolor\": \"white\", \"minorgridcolor\": \"white\", \"startlinecolor\": \"#2a3f5f\"}, \"baxis\": {\"endlinecolor\": \"#2a3f5f\", \"gridcolor\": \"white\", \"linecolor\": \"white\", \"minorgridcolor\": \"white\", \"startlinecolor\": \"#2a3f5f\"}, \"type\": \"carpet\"}], \"choropleth\": [{\"colorbar\": {\"outlinewidth\": 0, \"ticks\": \"\"}, \"type\": \"choropleth\"}], \"contour\": [{\"colorbar\": {\"outlinewidth\": 0, \"ticks\": \"\"}, \"colorscale\": [[0.0, \"#0d0887\"], [0.1111111111111111, \"#46039f\"], [0.2222222222222222, \"#7201a8\"], [0.3333333333333333, \"#9c179e\"], [0.4444444444444444, \"#bd3786\"], [0.5555555555555556, \"#d8576b\"], [0.6666666666666666, \"#ed7953\"], [0.7777777777777778, \"#fb9f3a\"], [0.8888888888888888, \"#fdca26\"], [1.0, \"#f0f921\"]], \"type\": \"contour\"}], \"contourcarpet\": [{\"colorbar\": {\"outlinewidth\": 0, \"ticks\": \"\"}, \"type\": \"contourcarpet\"}], \"heatmap\": [{\"colorbar\": {\"outlinewidth\": 0, \"ticks\": \"\"}, \"colorscale\": [[0.0, \"#0d0887\"], [0.1111111111111111, \"#46039f\"], [0.2222222222222222, \"#7201a8\"], [0.3333333333333333, \"#9c179e\"], [0.4444444444444444, \"#bd3786\"], [0.5555555555555556, \"#d8576b\"], [0.6666666666666666, \"#ed7953\"], [0.7777777777777778, \"#fb9f3a\"], [0.8888888888888888, \"#fdca26\"], [1.0, \"#f0f921\"]], \"type\": \"heatmap\"}], \"heatmapgl\": [{\"colorbar\": {\"outlinewidth\": 0, \"ticks\": \"\"}, \"colorscale\": [[0.0, \"#0d0887\"], [0.1111111111111111, \"#46039f\"], [0.2222222222222222, \"#7201a8\"], [0.3333333333333333, \"#9c179e\"], [0.4444444444444444, \"#bd3786\"], [0.5555555555555556, \"#d8576b\"], [0.6666666666666666, \"#ed7953\"], [0.7777777777777778, \"#fb9f3a\"], [0.8888888888888888, \"#fdca26\"], [1.0, \"#f0f921\"]], \"type\": \"heatmapgl\"}], \"histogram\": [{\"marker\": {\"colorbar\": {\"outlinewidth\": 0, \"ticks\": \"\"}}, \"type\": \"histogram\"}], \"histogram2d\": [{\"colorbar\": {\"outlinewidth\": 0, \"ticks\": \"\"}, \"colorscale\": [[0.0, \"#0d0887\"], [0.1111111111111111, \"#46039f\"], [0.2222222222222222, \"#7201a8\"], [0.3333333333333333, \"#9c179e\"], [0.4444444444444444, \"#bd3786\"], [0.5555555555555556, \"#d8576b\"], [0.6666666666666666, \"#ed7953\"], [0.7777777777777778, \"#fb9f3a\"], [0.8888888888888888, \"#fdca26\"], [1.0, \"#f0f921\"]], \"type\": \"histogram2d\"}], \"histogram2dcontour\": [{\"colorbar\": {\"outlinewidth\": 0, \"ticks\": \"\"}, \"colorscale\": [[0.0, \"#0d0887\"], [0.1111111111111111, \"#46039f\"], [0.2222222222222222, \"#7201a8\"], [0.3333333333333333, \"#9c179e\"], [0.4444444444444444, \"#bd3786\"], [0.5555555555555556, \"#d8576b\"], [0.6666666666666666, \"#ed7953\"], [0.7777777777777778, \"#fb9f3a\"], [0.8888888888888888, \"#fdca26\"], [1.0, \"#f0f921\"]], \"type\": \"histogram2dcontour\"}], \"mesh3d\": [{\"colorbar\": {\"outlinewidth\": 0, \"ticks\": \"\"}, \"type\": \"mesh3d\"}], \"parcoords\": [{\"line\": {\"colorbar\": {\"outlinewidth\": 0, \"ticks\": \"\"}}, \"type\": \"parcoords\"}], \"pie\": [{\"automargin\": true, \"type\": \"pie\"}], \"scatter\": [{\"marker\": {\"colorbar\": {\"outlinewidth\": 0, \"ticks\": \"\"}}, \"type\": \"scatter\"}], \"scatter3d\": [{\"line\": {\"colorbar\": {\"outlinewidth\": 0, \"ticks\": \"\"}}, \"marker\": {\"colorbar\": {\"outlinewidth\": 0, \"ticks\": \"\"}}, \"type\": \"scatter3d\"}], \"scattercarpet\": [{\"marker\": {\"colorbar\": {\"outlinewidth\": 0, \"ticks\": \"\"}}, \"type\": \"scattercarpet\"}], \"scattergeo\": [{\"marker\": {\"colorbar\": {\"outlinewidth\": 0, \"ticks\": \"\"}}, \"type\": \"scattergeo\"}], \"scattergl\": [{\"marker\": {\"colorbar\": {\"outlinewidth\": 0, \"ticks\": \"\"}}, \"type\": \"scattergl\"}], \"scattermapbox\": [{\"marker\": {\"colorbar\": {\"outlinewidth\": 0, \"ticks\": \"\"}}, \"type\": \"scattermapbox\"}], \"scatterpolar\": [{\"marker\": {\"colorbar\": {\"outlinewidth\": 0, \"ticks\": \"\"}}, \"type\": \"scatterpolar\"}], \"scatterpolargl\": [{\"marker\": {\"colorbar\": {\"outlinewidth\": 0, \"ticks\": \"\"}}, \"type\": \"scatterpolargl\"}], \"scatterternary\": [{\"marker\": {\"colorbar\": {\"outlinewidth\": 0, \"ticks\": \"\"}}, \"type\": \"scatterternary\"}], \"surface\": [{\"colorbar\": {\"outlinewidth\": 0, \"ticks\": \"\"}, \"colorscale\": [[0.0, \"#0d0887\"], [0.1111111111111111, \"#46039f\"], [0.2222222222222222, \"#7201a8\"], [0.3333333333333333, \"#9c179e\"], [0.4444444444444444, \"#bd3786\"], [0.5555555555555556, \"#d8576b\"], [0.6666666666666666, \"#ed7953\"], [0.7777777777777778, \"#fb9f3a\"], [0.8888888888888888, \"#fdca26\"], [1.0, \"#f0f921\"]], \"type\": \"surface\"}], \"table\": [{\"cells\": {\"fill\": {\"color\": \"#EBF0F8\"}, \"line\": {\"color\": \"white\"}}, \"header\": {\"fill\": {\"color\": \"#C8D4E3\"}, \"line\": {\"color\": \"white\"}}, \"type\": \"table\"}]}, \"layout\": {\"annotationdefaults\": {\"arrowcolor\": \"#2a3f5f\", \"arrowhead\": 0, \"arrowwidth\": 1}, \"coloraxis\": {\"colorbar\": {\"outlinewidth\": 0, \"ticks\": \"\"}}, \"colorscale\": {\"diverging\": [[0, \"#8e0152\"], [0.1, \"#c51b7d\"], [0.2, \"#de77ae\"], [0.3, \"#f1b6da\"], [0.4, \"#fde0ef\"], [0.5, \"#f7f7f7\"], [0.6, \"#e6f5d0\"], [0.7, \"#b8e186\"], [0.8, \"#7fbc41\"], [0.9, \"#4d9221\"], [1, \"#276419\"]], \"sequential\": [[0.0, \"#0d0887\"], [0.1111111111111111, \"#46039f\"], [0.2222222222222222, \"#7201a8\"], [0.3333333333333333, \"#9c179e\"], [0.4444444444444444, \"#bd3786\"], [0.5555555555555556, \"#d8576b\"], [0.6666666666666666, \"#ed7953\"], [0.7777777777777778, \"#fb9f3a\"], [0.8888888888888888, \"#fdca26\"], [1.0, \"#f0f921\"]], \"sequentialminus\": [[0.0, \"#0d0887\"], [0.1111111111111111, \"#46039f\"], [0.2222222222222222, \"#7201a8\"], [0.3333333333333333, \"#9c179e\"], [0.4444444444444444, \"#bd3786\"], [0.5555555555555556, \"#d8576b\"], [0.6666666666666666, \"#ed7953\"], [0.7777777777777778, \"#fb9f3a\"], [0.8888888888888888, \"#fdca26\"], [1.0, \"#f0f921\"]]}, \"colorway\": [\"#636efa\", \"#EF553B\", \"#00cc96\", \"#ab63fa\", \"#FFA15A\", \"#19d3f3\", \"#FF6692\", \"#B6E880\", \"#FF97FF\", \"#FECB52\"], \"font\": {\"color\": \"#2a3f5f\"}, \"geo\": {\"bgcolor\": \"white\", \"lakecolor\": \"white\", \"landcolor\": \"#E5ECF6\", \"showlakes\": true, \"showland\": true, \"subunitcolor\": \"white\"}, \"hoverlabel\": {\"align\": \"left\"}, \"hovermode\": \"closest\", \"mapbox\": {\"style\": \"light\"}, \"paper_bgcolor\": \"white\", \"plot_bgcolor\": \"#E5ECF6\", \"polar\": {\"angularaxis\": {\"gridcolor\": \"white\", \"linecolor\": \"white\", \"ticks\": \"\"}, \"bgcolor\": \"#E5ECF6\", \"radialaxis\": {\"gridcolor\": \"white\", \"linecolor\": \"white\", \"ticks\": \"\"}}, \"scene\": {\"xaxis\": {\"backgroundcolor\": \"#E5ECF6\", \"gridcolor\": \"white\", \"gridwidth\": 2, \"linecolor\": \"white\", \"showbackground\": true, \"ticks\": \"\", \"zerolinecolor\": \"white\"}, \"yaxis\": {\"backgroundcolor\": \"#E5ECF6\", \"gridcolor\": \"white\", \"gridwidth\": 2, \"linecolor\": \"white\", \"showbackground\": true, \"ticks\": \"\", \"zerolinecolor\": \"white\"}, \"zaxis\": {\"backgroundcolor\": \"#E5ECF6\", \"gridcolor\": \"white\", \"gridwidth\": 2, \"linecolor\": \"white\", \"showbackground\": true, \"ticks\": \"\", \"zerolinecolor\": \"white\"}}, \"shapedefaults\": {\"line\": {\"color\": \"#2a3f5f\"}}, \"ternary\": {\"aaxis\": {\"gridcolor\": \"white\", \"linecolor\": \"white\", \"ticks\": \"\"}, \"baxis\": {\"gridcolor\": \"white\", \"linecolor\": \"white\", \"ticks\": \"\"}, \"bgcolor\": \"#E5ECF6\", \"caxis\": {\"gridcolor\": \"white\", \"linecolor\": \"white\", \"ticks\": \"\"}}, \"title\": {\"x\": 0.05}, \"xaxis\": {\"automargin\": true, \"gridcolor\": \"white\", \"linecolor\": \"white\", \"ticks\": \"\", \"title\": {\"standoff\": 15}, \"zerolinecolor\": \"white\", \"zerolinewidth\": 2}, \"yaxis\": {\"automargin\": true, \"gridcolor\": \"white\", \"linecolor\": \"white\", \"ticks\": \"\", \"title\": {\"standoff\": 15}, \"zerolinecolor\": \"white\", \"zerolinewidth\": 2}}}, \"title\": {\"text\": \"Accuracy Chart\"}, \"width\": 700, \"xaxis\": {\"title\": {\"text\": \"Epochs\"}}, \"yaxis\": {\"title\": {\"text\": \"Acc\"}}},\n",
              "                        {\"responsive\": true}\n",
              "                    ).then(function(){\n",
              "                            \n",
              "var gd = document.getElementById('b358ae5a-720a-4579-83f6-c41d543bcbd5');\n",
              "var x = new MutationObserver(function (mutations, observer) {{\n",
              "        var display = window.getComputedStyle(gd).display;\n",
              "        if (!display || display === 'none') {{\n",
              "            console.log([gd, 'removed!']);\n",
              "            Plotly.purge(gd);\n",
              "            observer.disconnect();\n",
              "        }}\n",
              "}});\n",
              "\n",
              "// Listen for the removal of the full notebook cells\n",
              "var notebookContainer = gd.closest('#notebook-container');\n",
              "if (notebookContainer) {{\n",
              "    x.observe(notebookContainer, {childList: true});\n",
              "}}\n",
              "\n",
              "// Listen for the clearing of the current output cell\n",
              "var outputEl = gd.closest('.output');\n",
              "if (outputEl) {{\n",
              "    x.observe(outputEl, {childList: true});\n",
              "}}\n",
              "\n",
              "                        })\n",
              "                };\n",
              "                \n",
              "            </script>\n",
              "        </div>\n",
              "</body>\n",
              "</html>"
            ]
          },
          "metadata": {
            "tags": []
          }
        }
      ]
    },
    {
      "cell_type": "markdown",
      "metadata": {
        "id": "WeVyYsC1DpCG"
      },
      "source": [
        "### Using the previous approach (torch.randn) initialization:"
      ]
    },
    {
      "cell_type": "code",
      "metadata": {
        "id": "3eLRC-AnRv6B"
      },
      "source": [
        "randn_data_to_plot_loss = []\n",
        "randn_data_to_plot_acc = []"
      ],
      "execution_count": null,
      "outputs": []
    },
    {
      "cell_type": "code",
      "metadata": {
        "colab": {
          "background_save": true,
          "base_uri": "https://localhost:8080/"
        },
        "id": "TTh6JTeVDyp3",
        "outputId": "764bb9b2-7603-44be-de02-f458e4a27bc2"
      },
      "source": [
        "# SGD + momentum test\n",
        "\n",
        "model = FFNN(784,[512,1024,128],[relu,celu,swish, softmax],10,init_method=torch.randn)\n",
        "model.to('cuda')\n",
        "optimizer = SGD(model.parameters(),lr=1e-3,momentum=0.9)\n",
        "with torch.no_grad():\n",
        "  loss, acc = train(model, dataset_train, optimizer,epochs=10,batch_size=100,collate=custom_collate)\n",
        "  test_loss, test_acc = test(model,dataset_test,batch_size=100,collate=custom_collate)\n",
        "\n",
        "  # Formatting results to plot\n",
        "  randn_data_to_plot_loss.append({\n",
        "    \"x\": [x+1 for x in range(10)],\n",
        "    \"y\": loss,\n",
        "    \"name\": \"Torch.randn SGD + momentum loss\"\n",
        "  })\n",
        "\n",
        "  randn_data_to_plot_acc.append({\n",
        "    \"x\": [x+1 for x in range(10)],\n",
        "    \"y\": acc,\n",
        "    \"name\": \"Torch.randn SGD + momentum Acc\"\n",
        "  })"
      ],
      "execution_count": null,
      "outputs": [
        {
          "output_type": "stream",
          "text": [
            "/usr/local/lib/python3.6/dist-packages/torch/nn/modules/container.py:434: UserWarning:\n",
            "\n",
            "Setting attributes on ParameterList is not supported.\n",
            "\n"
          ],
          "name": "stderr"
        },
        {
          "output_type": "stream",
          "text": [
            "Epoch: 1 | Acc: 11.37% | loss: 2.484\n",
            "Epoch: 2 | Acc: 11.25% | loss: 2.303\n",
            "Epoch: 3 | Acc: 11.24% | loss: 2.302\n",
            "Epoch: 4 | Acc: 11.24% | loss: 2.302\n",
            "Epoch: 5 | Acc: 11.24% | loss: 2.302\n",
            "Epoch: 6 | Acc: 11.24% | loss: 2.302\n",
            "Epoch: 7 | Acc: 11.24% | loss: 2.301\n",
            "Epoch: 8 | Acc: 11.24% | loss: 2.301\n",
            "Epoch: 9 | Acc: 11.24% | loss: 2.301\n",
            "Epoch: 10 | Acc: 11.24% | loss: 2.301\n",
            "\n",
            "Test Results: Acc: 11.35% | loss: 2.301\n"
          ],
          "name": "stdout"
        }
      ]
    },
    {
      "cell_type": "code",
      "metadata": {
        "id": "JMdtse_FD54v",
        "outputId": "2273ddd5-e578-4fe3-b5a3-b71a6c6a217d",
        "colab": {
          "base_uri": "https://localhost:8080/"
        }
      },
      "source": [
        "# RMSProp test\n",
        "model = FFNN(784,[512,1024,128],[relu,celu,swish, softmax],10,init_method=torch.randn)\n",
        "model.to('cuda')\n",
        "optimizer = RMSProp(model.parameters(),lr=1e-3)\n",
        "with torch.no_grad():\n",
        "  loss, acc = train(model, dataset_train, optimizer,epochs=10,batch_size=100,collate=custom_collate)\n",
        "  test_loss, test_acc = test(model,dataset_test,batch_size=100,collate=custom_collate)\n",
        "\n",
        "  # Formatting results to plot\n",
        "  randn_data_to_plot_loss.append({\n",
        "    \"x\": [x+1 for x in range(10)],\n",
        "    \"y\": loss,\n",
        "    \"name\": \"Torch.randn RMSProp loss\"\n",
        "  })\n",
        "\n",
        "  randn_data_to_plot_acc.append({\n",
        "    \"x\": [x+1 for x in range(10)],\n",
        "    \"y\": acc,\n",
        "    \"name\": \"Torch.randn RMSProp Acc\"\n",
        "  })"
      ],
      "execution_count": 46,
      "outputs": [
        {
          "output_type": "stream",
          "text": [
            "/usr/local/lib/python3.6/dist-packages/torch/nn/modules/container.py:434: UserWarning:\n",
            "\n",
            "Setting attributes on ParameterList is not supported.\n",
            "\n"
          ],
          "name": "stderr"
        },
        {
          "output_type": "stream",
          "text": [
            "Epoch: 1 | Acc: 66.65% | loss: 6.138\n",
            "Epoch: 2 | Acc: 84.05% | loss: 2.934\n",
            "Epoch: 3 | Acc: 87.01% | loss: 2.390\n",
            "Epoch: 4 | Acc: 88.81% | loss: 2.058\n",
            "Epoch: 5 | Acc: 89.74% | loss: 1.884\n",
            "Epoch: 6 | Acc: 90.67% | loss: 1.715\n",
            "Epoch: 7 | Acc: 91.26% | loss: 1.606\n",
            "Epoch: 8 | Acc: 92.08% | loss: 1.456\n",
            "Epoch: 9 | Acc: 92.35% | loss: 1.407\n",
            "Epoch: 10 | Acc: 92.90% | loss: 1.303\n",
            "\n",
            "Test Results: Acc: 92.41% | loss: 1.392\n"
          ],
          "name": "stdout"
        }
      ]
    },
    {
      "cell_type": "code",
      "metadata": {
        "id": "6rw9FWmdRqsL",
        "outputId": "083a4c8d-01ae-4767-89d5-177c35ccfbe0",
        "colab": {
          "base_uri": "https://localhost:8080/"
        }
      },
      "source": [
        "# Adam test\n",
        "model = FFNN(784,[512,1024,128],[relu,celu,swish, softmax],10,init_method=torch.randn)\n",
        "model.to('cuda')\n",
        "optimizer = Adam(model.parameters(),lr=1e-3)\n",
        "with torch.no_grad():\n",
        "  loss, acc = train(model, dataset_train, optimizer,epochs=10,batch_size=100,collate=custom_collate)\n",
        "  test_loss, test_acc = test(model,dataset_test,batch_size=100,collate=custom_collate)\n",
        "\n",
        "  # Formatting results to plot\n",
        "  randn_data_to_plot_loss.append({\n",
        "    \"x\": [x+1 for x in range(10)],\n",
        "    \"y\": loss,\n",
        "    \"name\": \"Torch.randn Adam loss\"\n",
        "  })\n",
        "\n",
        "  randn_data_to_plot_acc.append({\n",
        "    \"x\": [x+1 for x in range(10)],\n",
        "    \"y\": acc,\n",
        "    \"name\": \"Torch.randn Adam Acc\"\n",
        "  })"
      ],
      "execution_count": null,
      "outputs": [
        {
          "output_type": "stream",
          "text": [
            "/usr/local/lib/python3.6/dist-packages/torch/nn/modules/container.py:434: UserWarning:\n",
            "\n",
            "Setting attributes on ParameterList is not supported.\n",
            "\n"
          ],
          "name": "stderr"
        },
        {
          "output_type": "stream",
          "text": [
            "Epoch: 1 | Acc: 74.73% | loss: 4.653\n",
            "Epoch: 2 | Acc: 86.80% | loss: 2.426\n",
            "Epoch: 3 | Acc: 88.72% | loss: 2.075\n"
          ],
          "name": "stdout"
        }
      ]
    },
    {
      "cell_type": "code",
      "metadata": {
        "id": "NAMPNPSSSMO5"
      },
      "source": [
        "plot_results(randn_data_to_plot_loss, randn_data_to_plot_acc)"
      ],
      "execution_count": null,
      "outputs": []
    },
    {
      "cell_type": "markdown",
      "metadata": {
        "id": "3G-JP9uiTwKQ"
      },
      "source": [
        "### Using Fixed **Xavier-uniform** variant"
      ]
    },
    {
      "cell_type": "code",
      "metadata": {
        "id": "TbplO4qUUHmK"
      },
      "source": [
        "uniform_xavier_data_to_plot_loss = []\n",
        "uniform_xavier_data_to_plot_acc = []"
      ],
      "execution_count": null,
      "outputs": []
    },
    {
      "cell_type": "code",
      "metadata": {
        "id": "MAlkP_UqTYP0"
      },
      "source": [
        "# SGD + momentum test\n",
        "model = FFNN(784,[512,1024,128],[relu,celu,swish, softmax],10,init_method=xavier_init_uniform)\n",
        "model.to('cuda')\n",
        "optimizer = SGD(model.parameters(),lr=1e-3,momentum=0.9)\n",
        "with torch.no_grad():\n",
        "  loss, acc = train(model, dataset_train, optimizer,epochs=10,batch_size=100,collate=custom_collate)\n",
        "  test_loss, test_acc = test(model,dataset_test,batch_size=100,collate=custom_collate)\n",
        "\n",
        "  # Formatting results to plot\n",
        "  uniform_xavier_data_to_plot_loss.append({\n",
        "    \"x\": [x+1 for x in range(10)],\n",
        "    \"y\": loss,\n",
        "    \"name\": \"Uniform-Xavier SGD + momentum loss\"\n",
        "  })\n",
        "\n",
        "  uniform_xavier_data_to_plot_acc.append({\n",
        "    \"x\": [x+1 for x in range(10)],\n",
        "    \"y\": acc,\n",
        "    \"name\": \"Uniform-Xavier SGD + momentum Acc\"\n",
        "  })"
      ],
      "execution_count": null,
      "outputs": []
    },
    {
      "cell_type": "code",
      "metadata": {
        "id": "mrGWS8GcTqiX"
      },
      "source": [
        "# RMSProp test\n",
        "model = FFNN(784,[512,1024,128],[relu,celu,swish, softmax],10,init_method=xavier_init_uniform)\n",
        "model.to('cuda')\n",
        "optimizer = RMSProp(model.parameters(),lr=1e-3)\n",
        "with torch.no_grad():\n",
        "  loss, acc = train(model, dataset_train, optimizer,epochs=10,batch_size=100,collate=custom_collate)\n",
        "  test_loss, test_acc = test(model,dataset_test,batch_size=100,collate=custom_collate)\n",
        "\n",
        "  # Formatting results to plot\n",
        "  uniform_xavier_data_to_plot_loss.append({\n",
        "    \"x\": [x+1 for x in range(10)],\n",
        "    \"y\": loss,\n",
        "    \"name\": \"Uniform-Xavier RMSProp loss\"\n",
        "  })\n",
        "\n",
        "  uniform_xavier_data_to_plot_acc.append({\n",
        "    \"x\": [x+1 for x in range(10)],\n",
        "    \"y\": acc,\n",
        "    \"name\": \"Uniform-Xavier RMSProp Acc\"\n",
        "  })"
      ],
      "execution_count": null,
      "outputs": []
    },
    {
      "cell_type": "code",
      "metadata": {
        "id": "WoeE02QjUQzZ"
      },
      "source": [
        "# Adam test\n",
        "model = FFNN(784,[512,1024,128],[relu,celu,swish, softmax],10,init_method=xavier_init_uniform)\n",
        "model.to('cuda')\n",
        "optimizer = Adam(model.parameters(),lr=1e-3)\n",
        "with torch.no_grad():\n",
        "  loss, acc = train(model, dataset_train, optimizer,epochs=10,batch_size=100,collate=custom_collate)\n",
        "  test_loss, test_acc = test(model,dataset_test,batch_size=100,collate=custom_collate)\n",
        "\n",
        "  # Formatting results to plot\n",
        "  uniform_xavier_data_to_plot_loss.append({\n",
        "    \"x\": [x+1 for x in range(10)],\n",
        "    \"y\": loss,\n",
        "    \"name\": \"Uniform-Xavier Adam loss\"\n",
        "  })\n",
        "\n",
        "  uniform_xavier_data_to_plot_acc.append({\n",
        "    \"x\": [x+1 for x in range(10)],\n",
        "    \"y\": acc,\n",
        "    \"name\": \"Uniform-Xavier Adam Acc\"\n",
        "  })"
      ],
      "execution_count": null,
      "outputs": []
    },
    {
      "cell_type": "code",
      "metadata": {
        "id": "iqKnya7JULzr"
      },
      "source": [
        "plot_results(uniform_xavier_data_to_plot_loss, uniform_xavier_data_to_plot_acc)"
      ],
      "execution_count": null,
      "outputs": []
    },
    {
      "cell_type": "markdown",
      "metadata": {
        "id": "-DTdnqgSU0_h"
      },
      "source": [
        "### Using Fixed **He-uniform** variant"
      ]
    },
    {
      "cell_type": "code",
      "metadata": {
        "id": "WhUCzFGEU1eS"
      },
      "source": [
        "uniform_he_data_to_plot_loss = []\n",
        "uniform_he_data_to_plot_acc = []"
      ],
      "execution_count": null,
      "outputs": []
    },
    {
      "cell_type": "code",
      "metadata": {
        "id": "-o76dCS0VHYT"
      },
      "source": [
        "# SGD + momentum test\n",
        "model = FFNN(784,[512,1024,128],[relu,celu,swish, softmax],10,init_method=he_init_uniform)\n",
        "model.to('cuda')\n",
        "optimizer = SGD(model.parameters(),lr=1e-3,momentum=0.9)\n",
        "with torch.no_grad():\n",
        "  loss, acc = train(model, dataset_train, optimizer,epochs=10,batch_size=100,collate=custom_collate)\n",
        "  test_loss, test_acc = test(model,dataset_test,batch_size=100,collate=custom_collate)\n",
        "\n",
        "  # Formatting results to plot\n",
        "  uniform_he_data_to_plot_loss.append({\n",
        "    \"x\": [x+1 for x in range(10)],\n",
        "    \"y\": loss,\n",
        "    \"name\": \"Uniform-He SGD + momentum loss\"\n",
        "  })\n",
        "\n",
        "  uniform_he_data_to_plot_acc.append({\n",
        "    \"x\": [x+1 for x in range(10)],\n",
        "    \"y\": acc,\n",
        "    \"name\": \"Uniform-He SGD + momentum Acc\"\n",
        "  })"
      ],
      "execution_count": null,
      "outputs": []
    },
    {
      "cell_type": "code",
      "metadata": {
        "id": "UVzKJrpOVTwR"
      },
      "source": [
        "# RMSProp test\n",
        "model = FFNN(784,[512,1024,128],[relu,celu,swish, softmax],10,init_method=he_init_uniform)\n",
        "model.to('cuda')\n",
        "optimizer = RMSProp(model.parameters(),lr=1e-3)\n",
        "with torch.no_grad():\n",
        "  loss, acc = train(model, dataset_train, optimizer,epochs=10,batch_size=100,collate=custom_collate)\n",
        "  test_loss, test_acc = test(model,dataset_test,batch_size=100,collate=custom_collate)\n",
        "\n",
        "  # Formatting results to plot\n",
        "  uniform_he_data_to_plot_loss.append({\n",
        "    \"x\": [x+1 for x in range(10)],\n",
        "    \"y\": loss,\n",
        "    \"name\": \"Uniform-He RMSProp loss\"\n",
        "  })\n",
        "\n",
        "  uniform_he_data_to_plot_acc.append({\n",
        "    \"x\": [x+1 for x in range(10)],\n",
        "    \"y\": acc,\n",
        "    \"name\": \"Uniform-He RMSProp Acc\"\n",
        "  })"
      ],
      "execution_count": null,
      "outputs": []
    },
    {
      "cell_type": "code",
      "metadata": {
        "id": "wA8yneRNVbCq"
      },
      "source": [
        "# Adam test\n",
        "model = FFNN(784,[512,1024,128],[relu,celu,swish, softmax],10,init_method=he_init_uniform)\n",
        "model.to('cuda')\n",
        "optimizer = Adam(model.parameters(),lr=1e-3)\n",
        "with torch.no_grad():\n",
        "  loss, acc = train(model, dataset_train, optimizer,epochs=10,batch_size=100,collate=custom_collate)\n",
        "  test_loss, test_acc = test(model,dataset_test,batch_size=100,collate=custom_collate)\n",
        "\n",
        "  # Formatting results to plot\n",
        "  uniform_he_data_to_plot_loss.append({\n",
        "    \"x\": [x+1 for x in range(10)],\n",
        "    \"y\": loss,\n",
        "    \"name\": \"Uniform-He Adam loss\"\n",
        "  })\n",
        "\n",
        "  uniform_he_data_to_plot_acc.append({\n",
        "    \"x\": [x+1 for x in range(10)],\n",
        "    \"y\": acc,\n",
        "    \"name\": \"Uniform-He Adam Acc\"\n",
        "  })"
      ],
      "execution_count": null,
      "outputs": []
    },
    {
      "cell_type": "code",
      "metadata": {
        "id": "flYBSnwnVjcU"
      },
      "source": [
        "plot_results(uniform_he_data_to_plot_loss, uniform_he_data_to_plot_acc)"
      ],
      "execution_count": null,
      "outputs": []
    },
    {
      "cell_type": "markdown",
      "metadata": {
        "id": "aXOJK4zyVwk7"
      },
      "source": [
        "## Comments & results ... and more charts\n",
        "After the previous set of tests there are a lot of facts we can observe and discuss about. It is clear the importance of a good initialization schema for the parameters of a neural network model, they are not only related the initial naive thought of which activation function we will be using on a layer but also to the optimization algorithm we want to use and the learn rate that will be applied in it.\n",
        "\n",
        "These methods can cause that the same algorithm with the same learn rate start `trapped` in place of the loss function where it can maybe not escape and in consecuence not advance to our goal (learning).\n",
        "\n",
        "A different discover which is imporant to mention is that using same learn rate for the different algorithms could not be good at all, we set them as fixed  and the same value for this specific set of tests to be able to be consistent across them, but in reality switching optimizer algorithm amerit to double check the learn rate we use.\n",
        "\n"
      ]
    },
    {
      "cell_type": "markdown",
      "metadata": {
        "id": "raVvs7qiZyfn"
      },
      "source": [
        "### Same results but grouped by algorithm"
      ]
    },
    {
      "cell_type": "markdown",
      "metadata": {
        "id": "LQywfOEMZ6nP"
      },
      "source": [
        "#### SGD + momentum"
      ]
    },
    {
      "cell_type": "code",
      "metadata": {
        "id": "vDsp-08jWDdl"
      },
      "source": [
        "sgd_loss_data = [\n",
        "  fixed_xavier_data_to_plot_loss[0],\n",
        "  fixed_he_data_to_plot_loss[0],\n",
        "  heuristic_data_to_plot_loss[0],\n",
        "  randn_data_to_plot_loss[0],\n",
        "  uniform_xavier_data_to_plot_loss[0],\n",
        "  uniform_he_data_to_plot_loss[0]\n",
        "]\n",
        "\n",
        "sgd_acc_data = [\n",
        "  fixed_xavier_data_to_plot_acc[0],\n",
        "  fixed_he_data_to_plot_acc[0],\n",
        "  heuristic_data_to_plot_acc[0],\n",
        "  randn_data_to_plot_acc[0],\n",
        "  uniform_xavier_data_to_plot_acc[0],\n",
        "  uniform_he_data_to_plot_acc[0]\n",
        "]\n",
        "\n",
        "plot_results(sgd_loss_data, sgd_acc_data)"
      ],
      "execution_count": null,
      "outputs": []
    },
    {
      "cell_type": "markdown",
      "metadata": {
        "id": "4MdbmfvBa5TS"
      },
      "source": [
        "#### RMSProp"
      ]
    },
    {
      "cell_type": "code",
      "metadata": {
        "id": "URXiIe_6alL0"
      },
      "source": [
        "rmsprop_loss_data = [\n",
        "  fixed_xavier_data_to_plot_loss[1],\n",
        "  fixed_he_data_to_plot_loss[1],\n",
        "  heuristic_data_to_plot_loss[1],\n",
        "  randn_data_to_plot_loss[1],\n",
        "  uniform_xavier_data_to_plot_loss[1],\n",
        "  uniform_he_data_to_plot_loss[1]\n",
        "]\n",
        "\n",
        "rmsprop_acc_data = [\n",
        "  fixed_xavier_data_to_plot_acc[1],\n",
        "  fixed_he_data_to_plot_acc[1],\n",
        "  heuristic_data_to_plot_acc[1],\n",
        "  randn_data_to_plot_acc[1],\n",
        "  uniform_xavier_data_to_plot_acc[1],\n",
        "  uniform_he_data_to_plot_acc[1]\n",
        "]\n",
        "\n",
        "plot_results(rmsprop_loss_data, rmsprop_acc_data)"
      ],
      "execution_count": null,
      "outputs": []
    },
    {
      "cell_type": "markdown",
      "metadata": {
        "id": "W7NlfZVubNiF"
      },
      "source": [
        "#### Adam"
      ]
    },
    {
      "cell_type": "code",
      "metadata": {
        "id": "5Nd-QQCCbEMB"
      },
      "source": [
        "adam_loss_data = [\n",
        "  fixed_xavier_data_to_plot_loss[2],\n",
        "  fixed_he_data_to_plot_loss[2],\n",
        "  heuristic_data_to_plot_loss[2],\n",
        "  randn_data_to_plot_loss[2],\n",
        "  uniform_xavier_data_to_plot_loss[2],\n",
        "  uniform_he_data_to_plot_loss[2]\n",
        "]\n",
        "\n",
        "adam_acc_data = [\n",
        "  fixed_xavier_data_to_plot_acc[2],\n",
        "  fixed_he_data_to_plot_acc[2],\n",
        "  heuristic_data_to_plot_acc[2],\n",
        "  randn_data_to_plot_acc[2],\n",
        "  uniform_xavier_data_to_plot_acc[2],\n",
        "  uniform_he_data_to_plot_acc[2]\n",
        "]\n",
        "\n",
        "plot_results(adam_loss_data, adam_acc_data)"
      ],
      "execution_count": null,
      "outputs": []
    },
    {
      "cell_type": "markdown",
      "metadata": {
        "id": "DQMaYWbfcLZJ"
      },
      "source": [
        "### Note\n",
        "In the new grouped version of our charts we can appreciate that the `heuristic` initialization is giving the best results at least for the network structure and optimization algorithms we used."
      ]
    },
    {
      "cell_type": "markdown",
      "metadata": {
        "id": "SwsejkbBc6ja"
      },
      "source": [
        "## Final Thoughts and future work\n",
        "\n",
        "Across this work we explored the different strategies for the setup and fine optimnization of a neural netwrok model, all this steps should be taken in consideration every time a new problem is faced as we learned even a small modification can cause a potentially powerful network structure to not work at all.\n",
        "\n",
        "In terms of possible future investigation, it is possible to explore the different variations of `Adam` algorithms and `batch normalization` techniques."
      ]
    }
  ]
}